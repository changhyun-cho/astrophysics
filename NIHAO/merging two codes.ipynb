{
 "cells": [
  {
   "cell_type": "markdown",
   "id": "139b46b1",
   "metadata": {},
   "source": [
    "# Merging two codes (Nadine's code and the updated NIHAO)"
   ]
  },
  {
   "cell_type": "markdown",
   "id": "afdf199b",
   "metadata": {},
   "source": [
    "## Goal"
   ]
  },
  {
   "cell_type": "markdown",
   "id": "c7fb3aa8",
   "metadata": {},
   "source": [
    "- Implement Nadine's code (two accretion models) into the most updated NIHAO simulation"
   ]
  },
  {
   "cell_type": "markdown",
   "id": "b623a9f0",
   "metadata": {},
   "source": [
    "### Download the codes"
   ]
  },
  {
   "cell_type": "markdown",
   "id": "aa9540ee",
   "metadata": {},
   "source": [
    "- Nadine's code: in dalma\n",
    "- NIHAO: GitHub"
   ]
  },
  {
   "cell_type": "markdown",
   "id": "81403dab",
   "metadata": {},
   "source": [
    "### How to compare two codes easily"
   ]
  },
  {
   "cell_type": "markdown",
   "id": "349ee087",
   "metadata": {},
   "source": [
    "There were too many files to check one by one. I wrote the script to detect the difference between two corresponding files."
   ]
  },
  {
   "cell_type": "markdown",
   "id": "b5a90b13",
   "metadata": {},
   "source": [
    "```Makefile.compare                    halofind.c.compare                  rotbar.c.compare\n",
    "SphPressureTerms.h.compare          main.c.compare                      rotbar.h.compare\n",
    "blackholes.c.compare                master.c.compare                    smooth.c.compare\n",
    "cooling_metal_rad_hothalo.c.compare master.h.compare                    smooth.h.compare\n",
    "cooling_metal_rad_hothalo.h.compare millerscalo.c.compare               smoothfcn.c.compare\n",
    "erf.c.compare                       outtype.c.compare                   smoothfcn.h.compare\n",
    "feedback.c.compare                  outtype.h.compare                   split.c.compare\n",
    "feedback.h.compare                  parameters.h.compare                starform.c.compare\n",
    "fio.c.compare                       pkd.c.compare                       stiff.c.compare\n",
    "fof.c.compare                       pkd.h.compare                       stiff.h.compare\n",
    "fof.h.compare                       pst.c.compare                       supernova.c.compare\n",
    "gss.dumpframe.c.compare             pst.h.compare                       supernova.h.compare```"
   ]
  },
  {
   "cell_type": "markdown",
   "id": "2bd5a966",
   "metadata": {},
   "source": [
    "Then, I used the atom editor to clearly see the difference and analyze: https://atom.io/packages/split-diff"
   ]
  },
  {
   "cell_type": "markdown",
   "id": "0e36cff8",
   "metadata": {},
   "source": [
    "### Makefile"
   ]
  },
  {
   "cell_type": "markdown",
   "id": "a0df2bd7",
   "metadata": {},
   "source": [
    "Don't need to change it. Just put more argument (alpha disk & torque models) if needed."
   ]
  },
  {
   "cell_type": "markdown",
   "id": "9344271a",
   "metadata": {},
   "source": [
    "### blackhole.c"
   ]
  },
  {
   "cell_type": "markdown",
   "id": "b0011ae7",
   "metadata": {},
   "source": [
    "Used Nadine's code by merging it."
   ]
  },
  {
   "cell_type": "markdown",
   "id": "92cab9db",
   "metadata": {},
   "source": [
    "```#ifdef TORQUE_BH```\n",
    "\n",
    "```#ifdef COOLING_RAD_HOTHALO```\n",
    "\n",
    "```smFofLocalBallDisk```\n",
    "\n",
    "```smFofRemoteBallDisk```\n",
    "\n",
    "```smBHTor```\n",
    "\n",
    "```pstBHTor```"
   ]
  },
  {
   "cell_type": "markdown",
   "id": "c6a7c5e1",
   "metadata": {},
   "source": [
    "```#ifdef ALPHA_BH```\n",
    "\n",
    "```#ifdef COOLING_RAD_HOTHALO```\n",
    "\n",
    "```smFofRemoteBallOmega```\n",
    "\n",
    "```smFofLocalBallOmega```\n",
    "\n",
    "```smBHAcc```\n",
    "\n",
    "```pstBHAcc```"
   ]
  },
  {
   "cell_type": "markdown",
   "id": "5715fb0a",
   "metadata": {},
   "source": [
    "### SphPressureTerms.h"
   ]
  },
  {
   "cell_type": "markdown",
   "id": "d0d541cd",
   "metadata": {},
   "source": [
    "Since new NIHAO simulation added more chemical enrichment, I just used it as it was."
   ]
  },
  {
   "cell_type": "markdown",
   "id": "2b3461fa",
   "metadata": {},
   "source": [
    "### cooling_metal_rad_hothalo.c"
   ]
  },
  {
   "cell_type": "markdown",
   "id": "ae1a3dfd",
   "metadata": {},
   "source": [
    "There were some changes.\n",
    "\n",
    "New variables were introduced. I need to be careful not to mix them.\n",
    "\n",
    "```  int i,j,k,l, m, n, o, p, nt, nnH, nz, nos, nns, nT6, nT7, nT8; ```"
   ]
  },
  {
   "cell_type": "markdown",
   "id": "d0cb723b",
   "metadata": {},
   "source": [
    "Anyway, I will use the updated version."
   ]
  },
  {
   "cell_type": "markdown",
   "id": "fc1e084c",
   "metadata": {},
   "source": [
    "### cooling_metal_rad_hothalo.h"
   ]
  },
  {
   "cell_type": "markdown",
   "id": "d136e520",
   "metadata": {},
   "source": [
    "Looks not so important. Use the updated one."
   ]
  },
  {
   "cell_type": "markdown",
   "id": "bd7d79d7",
   "metadata": {},
   "source": [
    "### erf.c"
   ]
  },
  {
   "cell_type": "markdown",
   "id": "c4d13ad0",
   "metadata": {},
   "source": [
    "Even though there are only three differences between two codes, there is very important thing I must keep in mind. \n",
    "\n",
    "```N``` in Nadine's code must be changed to ```NN```. \n",
    "I think the updated version used ```NN``` to avoid the confusion ```N``` as nitrogen. Now ```NN``` is number of something."
   ]
  },
  {
   "cell_type": "markdown",
   "id": "b1465166",
   "metadata": {},
   "source": [
    "### feedback.c"
   ]
  },
  {
   "cell_type": "markdown",
   "id": "8ec300c1",
   "metadata": {},
   "source": [
    "Ok, there is some differences here. \n",
    "\n",
    "In the new code, there are no ```snCalcWindFeedback``` and ```snCalcUVFeedback``` functions. But it was called several times. I think these two functions are defined on another file.\n",
    "\n",
    "Thus, I will just use the new one."
   ]
  },
  {
   "cell_type": "markdown",
   "id": "f56169c4",
   "metadata": {},
   "source": [
    "### feedback.h"
   ]
  },
  {
   "cell_type": "markdown",
   "id": "1e3b3499",
   "metadata": {},
   "source": [
    "Yep, ```snCalcWindFeedback``` and ```snCalcUVFeedback``` are defined in this file. Then, I can just use as it is."
   ]
  },
  {
   "cell_type": "markdown",
   "id": "0ae12605",
   "metadata": {},
   "source": [
    "### fio.c"
   ]
  },
  {
   "cell_type": "markdown",
   "id": "cd4a1aad",
   "metadata": {},
   "source": [
    "Ok, every ```N``` was changed to ```NN```, as long as I remember ```N``` represents the number of particles (confirmed. Anyway, I can just use the new code."
   ]
  },
  {
   "cell_type": "markdown",
   "id": "b367a0af",
   "metadata": {},
   "source": [
    "### fof.c"
   ]
  },
  {
   "cell_type": "markdown",
   "id": "fbdbf7a1",
   "metadata": {},
   "source": [
    "Nothing actually has changed. Just some comments were added."
   ]
  },
  {
   "cell_type": "markdown",
   "id": "a0f5d133",
   "metadata": {},
   "source": [
    "### fof.h"
   ]
  },
  {
   "cell_type": "markdown",
   "id": "f5516b47",
   "metadata": {},
   "source": [
    "```void fofInitialize(FOF *pfof);```\n",
    "\n",
    "Only this one was added to the new code. "
   ]
  },
  {
   "cell_type": "markdown",
   "id": "72379acf",
   "metadata": {},
   "source": [
    "### gss.dumpframe.c"
   ]
  },
  {
   "cell_type": "markdown",
   "id": "326febad",
   "metadata": {},
   "source": [
    "```    printf(\"filename: %s\", fileout);``` \n",
    "\n",
    "Just this."
   ]
  },
  {
   "cell_type": "markdown",
   "id": "bb98a864",
   "metadata": {},
   "source": [
    "### halofind.c"
   ]
  },
  {
   "cell_type": "markdown",
   "id": "30069213",
   "metadata": {},
   "source": [
    "Just added more AHF tools, and parallized the code using MPI."
   ]
  },
  {
   "cell_type": "markdown",
   "id": "f3a6e097",
   "metadata": {},
   "source": [
    "### main.c"
   ]
  },
  {
   "cell_type": "markdown",
   "id": "ae35fd32",
   "metadata": {},
   "source": [
    "```//#ifdef CHEMPY_METALS\n",
    "/*\tif(msr->param.bStarForm)\n",
    "\t\tmsrInitYield(msr);\n",
    "                printf(\"number of species to track: %i\",msr->param.YieldParam.nSpeciesTrack);*/\n",
    "//#endif\n",
    "```\n",
    "\n",
    "```CHEMPY_METAL``` is all commented out."
   ]
  },
  {
   "cell_type": "markdown",
   "id": "1d25d3aa",
   "metadata": {},
   "source": [
    "### master.c"
   ]
  },
  {
   "cell_type": "markdown",
   "id": "76b9305f",
   "metadata": {},
   "source": [
    "There are many differences. First, I added two accretion models part in the new code from Nadine's."
   ]
  },
  {
   "cell_type": "markdown",
   "id": "3ee11f6e",
   "metadata": {},
   "source": [
    "```#if defined ALPHA_BH || defined TORQUE_BH\n",
    "\tmsr->param.nSmoothAcc = 256;\n",
    "\tprmAddParam(msr->prm,\"nSmoothAcc\",1,&msr->param.nSmoothAcc,sizeof(int),\"s\",\n",
    "\t\t\t\t\"<number of particles to smooth accretion over> = 256\");\n",
    "    msr->param.dAccMax = 1.0;\n",
    "\tprmAddParam(msr->prm,\"dAccMax\", 2, &msr->param.dAccMax,\n",
    "\t\t    sizeof(double), \"dAccMax\",\n",
    "\t\t    \"<Accretion Radius> = 1\");\n",
    "#endif```"
   ]
  },
  {
   "cell_type": "markdown",
   "id": "f990d724",
   "metadata": {},
   "source": [
    "```#if defined ALPHA_BH || defined TORQUE_BH\n",
    "\tif (!prmSpecified(msr->prm,\"nSmoothAcc\") )\n",
    "\t\t\tmsr->param.nSmoothAcc = msr->param.nSmooth;\n",
    "\tfprintf(fp,\" nSmoothAcc: %i\",msr->param.nSmoothAcc);\n",
    "\t\tif (!prmSpecified(msr->prm,\"dAccMax\") )\n",
    "\t\t\tmsr->param.dAccMax =1;\n",
    "\tfprintf(fp,\" dAccMax: %f\",msr->param.dAccMax);\n",
    "#endif```"
   ]
  },
  {
   "cell_type": "markdown",
   "id": "35231928",
   "metadata": {},
   "source": [
    "```#ifdef TORQUE_BH\n",
    "\t  psmf->dKpcUnit = msr->param.dKpcUnit;\n",
    "\t\tpsmf->dMsolUnit = msr->param.dMsolUnit;\n",
    "#endif```"
   ]
  },
  {
   "cell_type": "markdown",
   "id": "f2e688d8",
   "metadata": {},
   "source": [
    "```\t#ifdef ALPHA_BH\n",
    "\telse if (iSmoothType == SMX_ALPHA || iSmoothType == SMX_BHDENSITY) {\n",
    "\t\t  in.nSmooth = msr->param.nSmooth;\n",
    "\t\t  }\n",
    "#endif\n",
    "\t#ifdef TORQUE_BH\n",
    "  else if (iSmoothType == SMX_TORQUE || iSmoothType == SMX_BHDENSITY) {\n",
    "\t\t  in.nSmooth = msr->param.nSmooth;\n",
    "\t\t  }\n",
    "#endif```"
   ]
  },
  {
   "cell_type": "markdown",
   "id": "0d86ed7a",
   "metadata": {},
   "source": [
    "```\n",
    "#if defined ALPHA_BH || defined TORQUE_BH\n",
    "double a = csmTime2Exp(msr->param.csm, dTime);\n",
    "        if (msr->param.bBHSink) {\n",
    "#ifdef ALPHA_BH\n",
    "            msrBHAcc(msr, a, dTime);\n",
    "#endif\n",
    "#ifdef TORQUE_BH\n",
    "            msrSmooth(msr, dTime, SMX_TORQUE, 1);\n",
    "            msrBHTor(msr, a, dTime);\n",
    "#endif\n",
    "        }\n",
    "    }\n",
    "\t    msrActiveType(msr,TYPE_GAS,TYPE_TREEACTIVE);\n",
    "#ifdef COOLING_RAD_HOTHALO\n",
    "\t    msrBuildTree(msr,1,-1.0,1,dTime);\n",
    "#else\n",
    "\t    msrBuildTree(msr,1,-1.0,1);  /* bTreeActive */\n",
    "#endif\n",
    "\t    //}\n",
    "#endif\n",
    "    msrResetType(msr,TYPE_SINK,TYPE_SMOOTHDONE);\n",
    "    msrActiveTypeRung(msr,TYPE_SINK,TYPE_ACTIVE|TYPE_SMOOTHACTIVE,iKickRung,1);\n",
    "    nAccreted = msr->nGas;\n",
    "    if (msr->nActive > 0) {\n",
    "\tmsr->param.dSinkCurrentDelta = dDelta;\n",
    "\tmsr->param.iSinkCurrentRung = iKickRung;```"
   ]
  },
  {
   "cell_type": "markdown",
   "id": "8f5e396f",
   "metadata": {},
   "source": [
    "I have added all those parts from Nadine's code. Analyze it and use it for developing the feedback part."
   ]
  },
  {
   "cell_type": "markdown",
   "id": "1f8dc457",
   "metadata": {},
   "source": [
    "### master.h"
   ]
  },
  {
   "cell_type": "markdown",
   "id": "0f3070ca",
   "metadata": {},
   "source": [
    "I don't even have to add anything. Just changed ```NN```"
   ]
  },
  {
   "cell_type": "markdown",
   "id": "96133912",
   "metadata": {},
   "source": [
    "### millerscalo.c"
   ]
  },
  {
   "cell_type": "markdown",
   "id": "92163dba",
   "metadata": {},
   "source": [
    "### outtype.c"
   ]
  },
  {
   "cell_type": "markdown",
   "id": "293ae071",
   "metadata": {},
   "source": [
    "### outtype.h"
   ]
  },
  {
   "cell_type": "markdown",
   "id": "1c11b406",
   "metadata": {},
   "source": [
    "### parameters.h"
   ]
  },
  {
   "cell_type": "markdown",
   "id": "4f1328c3",
   "metadata": {},
   "source": [
    "Added the accretion models\n",
    "\n",
    "```\n",
    "#if defined ALPHA_BH || defined TORQUE_BH\n",
    "    int nSmoothAcc;\n",
    "    double dAccMax;\n",
    "#endif```"
   ]
  },
  {
   "cell_type": "markdown",
   "id": "1842ffc1",
   "metadata": {},
   "source": [
    "### pkd.c"
   ]
  },
  {
   "cell_type": "markdown",
   "id": "3d4c327e",
   "metadata": {},
   "source": [
    "```double CC = Vcirc*Vcirc/(r2 + Eps*Eps);```\n",
    "\n",
    "From ```C```, it has changed to ```CC```"
   ]
  },
  {
   "cell_type": "markdown",
   "id": "f4eec854",
   "metadata": {},
   "source": [
    "### pkd.h"
   ]
  },
  {
   "cell_type": "markdown",
   "id": "ce621285",
   "metadata": {},
   "source": [
    "```#ifdef TORQUE_BH\n",
    "    double accMax;\n",
    "    double mdisk;\n",
    "    double mgas;\n",
    "    double mtot;\n",
    "    double accR2;\n",
    "#endif\n",
    "#ifdef ALPHA_BH\n",
    "    double omega;\n",
    "    double accMax;\n",
    "    double sigma;\n",
    "    double accR2;\n",
    "#endif```\n",
    "\n",
    "New parameters are added"
   ]
  },
  {
   "cell_type": "markdown",
   "id": "c038ac45",
   "metadata": {},
   "source": [
    "```#define TYPE_FORMBH            (1<<24)```\n",
    "\n",
    "It has changed from ```1<<21```"
   ]
  },
  {
   "cell_type": "markdown",
   "id": "ac055739",
   "metadata": {},
   "source": [
    "### pst.c"
   ]
  },
  {
   "cell_type": "markdown",
   "id": "d3fcefc2",
   "metadata": {},
   "source": [
    "```#ifdef ALPHA_BH\n",
    "    mdlAddService(mdl,PST_BH_ACC,pst,\n",
    "                  (void (*)(void *,void *,int,void *,int *)) pstBHAcc,\n",
    "                  sizeof(struct inBH), 0);```"
   ]
  },
  {
   "cell_type": "markdown",
   "id": "63767f3b",
   "metadata": {},
   "source": [
    "```#ifdef TORQUE_BH\n",
    "    mdlAddService(mdl,PST_BH_TOR,pst,\n",
    "                  (void (*)(void *,void *,int,void *,int *)) pstBHTor,\n",
    "                  sizeof(struct inBH), 0);\n",
    "#endif\n",
    "#endif```\n",
    "\n",
    "are added."
   ]
  },
  {
   "cell_type": "markdown",
   "id": "87c517f8",
   "metadata": {},
   "source": [
    "### pst.h"
   ]
  },
  {
   "cell_type": "markdown",
   "id": "0f022250",
   "metadata": {},
   "source": [
    "```#ifdef TORQUE_BH\n",
    "      PST_BH_TOR,```"
   ]
  },
  {
   "cell_type": "markdown",
   "id": "d719f426",
   "metadata": {},
   "source": [
    "```#ifdef ALPHA_BH\n",
    "      PST_BH_ACC,\n",
    "#endif\n",
    "#endif```"
   ]
  },
  {
   "cell_type": "markdown",
   "id": "c1e2195f",
   "metadata": {},
   "source": [
    "```\n",
    "#ifdef ALPHA_BH\n",
    "void pstBHAcc(PST pst,void *,int,void *,int *);\n",
    "#endif\n",
    "#ifdef TORQUE_BH\n",
    "void pstBHTor(PST pst,void *,int,void *,int *);\n",
    "#endif```"
   ]
  },
  {
   "cell_type": "markdown",
   "id": "b5b4f47a",
   "metadata": {},
   "source": [
    "```    double dAccMax;\n",
    "    double dRadiusPhys; \n",
    "    double dFac;```"
   ]
  },
  {
   "cell_type": "markdown",
   "id": "9b8a340b",
   "metadata": {},
   "source": [
    "### rotbar.c"
   ]
  },
  {
   "cell_type": "markdown",
   "id": "f1e4d449",
   "metadata": {},
   "source": [
    "```    c = rotbar->CC;```"
   ]
  },
  {
   "cell_type": "markdown",
   "id": "f95fce2d",
   "metadata": {},
   "source": [
    "```\tintctx.c = rotbar->CC;```"
   ]
  },
  {
   "cell_type": "markdown",
   "id": "f85a8491",
   "metadata": {},
   "source": [
    "```    rotbar->CC = a3 = rotbar->cratio*a2;```"
   ]
  },
  {
   "cell_type": "markdown",
   "id": "f5123621",
   "metadata": {},
   "source": [
    "### rotbar.h"
   ]
  },
  {
   "cell_type": "markdown",
   "id": "2a7570cc",
   "metadata": {},
   "source": [
    "```    double CC;```"
   ]
  },
  {
   "cell_type": "markdown",
   "id": "b38ed516",
   "metadata": {},
   "source": [
    "### smooth.c"
   ]
  },
  {
   "cell_type": "markdown",
   "id": "97de4d02",
   "metadata": {},
   "source": [
    "```#ifdef ALPHA_BH\n",
    "    case SMX_ALPHA:\n",
    "        smx->fcnSmooth = BHSinkOmega;\n",
    "        initParticle = initBHSinkOmega; /* Original Particle */\n",
    "        initTreeParticle = initTreeParticleBHSinkOmega; /* Original Particle */\n",
    "        init = initBHSinkOmega; /* Cached copies */\n",
    "        comb = combBHSinkOmega;\n",
    "        smx->fcnPost = NULL;\n",
    "        break;\n",
    "#endif\n",
    "#ifdef TORQUE_BH\n",
    "    case SMX_TORQUE:\n",
    "        smx->fcnSmooth = BHSinkDisk;\n",
    "        initParticle = initBHSinkDisk; /* Original Particle */\n",
    "        initTreeParticle = initTreeParticleBHSinkDisk; /* Original Particle */\n",
    "        init = initBHSinkDisk; /* Cached copies */\n",
    "        comb = combBHSinkDisk;\n",
    "        smx->fcnPost = NULL;\n",
    "        break;\n",
    "#endif```"
   ]
  },
  {
   "cell_type": "markdown",
   "id": "29fe1c77",
   "metadata": {},
   "source": [
    "This file would be one of the most important parts I really should care about."
   ]
  },
  {
   "cell_type": "markdown",
   "id": "9ce99d21",
   "metadata": {},
   "source": [
    "The function has added: ```smResmoothParticle```"
   ]
  },
  {
   "cell_type": "markdown",
   "id": "6b470bc7",
   "metadata": {},
   "source": [
    "Mostly I followed the new code."
   ]
  },
  {
   "cell_type": "markdown",
   "id": "2b1150c7",
   "metadata": {},
   "source": [
    "### smooth.h"
   ]
  },
  {
   "cell_type": "markdown",
   "id": "570d5e7a",
   "metadata": {},
   "source": [
    "There is a function named ```void smGrowList(SMX smx);``` in Nadine's code. I am not sure it is necessary for the new code."
   ]
  },
  {
   "cell_type": "markdown",
   "id": "7c3bf966",
   "metadata": {},
   "source": [
    "### smoothfcn.c"
   ]
  },
  {
   "cell_type": "markdown",
   "id": "7a411cdd",
   "metadata": {},
   "source": [
    "New, important function! Directly used to the accretion model."
   ]
  },
  {
   "cell_type": "markdown",
   "id": "a95b4f56",
   "metadata": {},
   "source": [
    "```\n",
    "#ifdef TORQUE_BH\n",
    "void BHSinkDisk(PARTICLE *p, int nSmooth, NN *nnList, SMF *smf)\n",
    "{\n",
    " \n",
    "    if(TYPETest(p, TYPE_SINK)){\n",
    "        double accR2=0;\n",
    "        int i=0;\n",
    "        for(i=0; i<nSmooth; i++){\n",
    "            if (accR2< nnList[i].fDist2) accR2 = nnList[i].fDist2;\n",
    "        }\n",
    "        printf(\"a factor %f\\n \", smf->a);\n",
    "        if (accR2> pow((smf->dRAccMax/smf->dKpcUnit) *smf->a, 2)) accR2 = pow((smf->dRAccMax/smf->dKpcUnit) *smf->a, 2);\n",
    "        p->accR2= accR2;\n",
    "        printf(\"Radius: %f\\n\", sqrt(p->accR2) *smf->dKpcUnit);\n",
    "}\n",
    "    else{\n",
    "        printf(\"Other Particle Present\\n\");}\n",
    "\n",
    "}\n",
    "```\n",
    "\n",
    "```\n",
    "void initTreeParticleBHSinkDisk(void *p)\n",
    "{\n",
    "}\n",
    "```\n",
    "\n",
    "```\n",
    "/* Cached Tree Active particles */\n",
    "void initBHSinkDisk(void *p)\n",
    "{\n",
    "}\n",
    "```\n",
    "\n",
    "```\n",
    "void combBHSinkDisk(void *p1,void *p2)\n",
    "{\n",
    "}\n",
    "#endif\n",
    "```\n",
    "\n",
    "```\n",
    "#ifdef ALPHA_BH \n",
    "void BHSinkOmega(PARTICLE *p, int nSmooth, NN *nnList, SMF *smf)\n",
    "{\n",
    "    if(TYPETest(p, TYPE_SINK)){\n",
    "        FLOAT mtot =0;\n",
    "        FLOAT accR2=0;\n",
    "        FLOAT ndark=0;FLOAT ngas =0; FLOAT nstar=0; FLOAT nsink=0;FLOAT mgas =0;\n",
    "        int i=0;\n",
    "        for(i=0; i<nSmooth; i++){\n",
    "            if (accR2< nnList[i].fDist2) accR2 = nnList[i].fDist2;\n",
    "            mtot += nnList[i].pPart->fMass;\n",
    "            if(TYPETest(nnList[i].pPart, TYPE_GAS)){\n",
    "                mgas += nnList[i].pPart->fMass;\n",
    "                ngas++;\n",
    "            }\n",
    "            if(TYPETest(nnList[i].pPart, TYPE_STAR)) nstar+=1;\n",
    "            if(TYPETest(nnList[i].pPart, TYPE_SINK)) nsink+=1;\n",
    "            if(TYPETest(nnList[i].pPart, TYPE_DARK)) ndark+=1;\n",
    "        }\n",
    "        p->omega = sqrt(mtot/pow(accR2, 3/2));\n",
    "        p->accR2 = accR2;\n",
    "        printf(\"Omega= %f, mgas= %e, Omega Radius = %f , ngas= %f, nstar= %f, nsink = %f, ndark = %f \\n\", p->omega, mgas, sqrt(p->accR2), ngas, nstar, nsink, ndark);\n",
    "        //if(TYPETest(p, TYPE_SINK)) printf(\"Omega Particle is a BH\\n\");\n",
    "}\n",
    "    else{\n",
    "        printf(\"Other Particle Present\\n\");}\n",
    "}\n",
    "\n",
    "void initTreeParticleBHSinkOmega(void *p)\n",
    "{\n",
    "\n",
    "    }\n",
    "```\n",
    "\n",
    "```\n",
    "/* Cached Tree Active particles */\n",
    "void initBHSinkOmega(void *p)\n",
    "{\n",
    "\n",
    "    }\n",
    "```\n",
    "\n",
    "```\n",
    "void combBHSinkOmega(void *p1,void *p2)\n",
    "{\n",
    "}\n",
    "#endif\n",
    "```"
   ]
  },
  {
   "cell_type": "markdown",
   "id": "bf5abec1",
   "metadata": {},
   "source": [
    "And this"
   ]
  },
  {
   "cell_type": "markdown",
   "id": "715c6c1c",
   "metadata": {},
   "source": [
    "```\n",
    "#ifdef TORQUE_BH\n",
    "\tFLOAT fDisk, f0, fgas, mdisk, mtot, mgas, accR2, dYearUnit;\n",
    "\tFLOAT mdotTorque = 0;\n",
    "#endif\n",
    "#ifdef ALPHA_BH\n",
    "\tFLOAT mdotAlpha =0;\n",
    "\tFLOAT sigma, omega;\n",
    "#endif```"
   ]
  },
  {
   "cell_type": "markdown",
   "id": "9f6e6a91",
   "metadata": {},
   "source": [
    "```\n",
    "#ifdef TORQUE_BH\n",
    "        mgas = p->mgas;\n",
    "        mdisk = p->mdisk;\n",
    "        mtot = p->mtot;\n",
    "        accR2 = p->accR2 /(aFac * aFac);\n",
    "        \n",
    "        fDisk = mdisk/mtot;\n",
    "        f0 = 0.31 * fDisk*fDisk * pow(mdisk * smf->dMsolUnit / pow(10, 9), -1/3);\n",
    "        fgas = mgas/mdisk;\n",
    "        printf(\"BH Mass: %e, mDisk: %e, mgas: %e, mtot: %e, R2: %e\\n\",p->fMass,  mdisk, mgas, mtot, accR2);\n",
    "        printf(\"MsolUnit %e, , Kpc Unit %e \\n\", smf->dMsolUnit, smf->dKpcUnit); \n",
    "        printf(\"BH Mass: %e x10^8, Disk Mass: %e x10^9, R0: %e kpc, fdisk: %f, f0: %f, Gas Frac: %f\\n\", p->fMass * smf->dMsolUnit/pow(10, 8),mdisk * smf->dMsolUnit/pow(10,9), sqrt(accR2) * smf->dKpcUnit, fDisk, f0, fgas);\n",
    "        mdotTorque = pow(fDisk, 5/2)*smf->dBHSinkAlphaFactor*pow(p->fMass * smf->dMsolUnit/(pow(10, 8)), 1/6)*(mdisk * smf->dMsolUnit/(pow(10,9)))*pow(sqrt(accR2) * 10 * smf->dKpcUnit, -3/2)* pow(1 + f0/fgas, -1); \n",
    "        if (fDisk<=0 || f0<=0 || fgas <=0)mdotTorque = 0;\n",
    "        //convert back to simulation units\n",
    "        mdotTorque = mdotTorque / smf->dMsolUnit;\n",
    "        dYearUnit = smf->dSecUnit/SECONDSPERYEAR;    \n",
    "        mdotTorque = mdotTorque * dYearUnit;\n",
    "\n",
    "    mdot = mdotTorque; /* new mdot! */\n",
    "#endif \n",
    "#ifdef ALPHA_BH\n",
    "       sigma = p->sigma;\n",
    "       omega = p->omega;\n",
    "       mdotAlpha = 3* M_1_PI * smf->dBHSinkAlphaFactor*sigma*cs*cs/(omega);\n",
    "       if(omega == 0) mdotAlpha = 0;\n",
    "       printf(\"cs:  %f, omega: %f, sigma: %f, Radius: %f \\n\", cs, omega, sigma, sqrt(p->accR2));\n",
    "       mdot = mdotAlpha;\n",
    "\n",
    "#endif\n",
    "```"
   ]
  },
  {
   "cell_type": "markdown",
   "id": "d0e8fd26",
   "metadata": {},
   "source": [
    "I think I changed everything I need to change."
   ]
  },
  {
   "cell_type": "markdown",
   "id": "bc247f71",
   "metadata": {},
   "source": [
    "### smoothfcn.h"
   ]
  },
  {
   "cell_type": "markdown",
   "id": "819f6204",
   "metadata": {},
   "source": [
    "Added\n",
    "\n",
    "```#if defined ALPHA_BH || defined TORQUE_BH\n",
    "    double dRAccMax;\n",
    "    double dMsolUnit;\n",
    "    double dKpcUnit;\n",
    "#endif```"
   ]
  },
  {
   "cell_type": "markdown",
   "id": "7ab38f5d",
   "metadata": {},
   "source": [
    "```#ifdef ALPHA_BH\n",
    "  SMX_ALPHA,\n",
    "#endif\n",
    "#ifdef TORQUE_BH\n",
    "  SMX_TORQUE,\n",
    "#endif```"
   ]
  },
  {
   "cell_type": "markdown",
   "id": "95b5c8f2",
   "metadata": {},
   "source": [
    "```#ifdef TORQUE_BH\n",
    "/* SMX_ALPHA */\n",
    "void BHSinkDisk(PARTICLE *p,int nSmooth,NN *nnList,SMF *smf);\n",
    "void initTreeParticleBHSinkDisk(void *p);\n",
    "void initBHSinkDisk(void *);\n",
    "void combBHSinkDisk(void *,void *);\n",
    "#endif\n",
    "#ifdef ALPHA_BH\n",
    "/* SMX_ALPHA */\n",
    "void BHSinkOmega(PARTICLE *p,int nSmooth,NN *nnList,SMF *smf);\n",
    "void initTreeParticleBHSinkOmega(void *p);\n",
    "void initBHSinkOmega(void *);\n",
    "void combBHSinkOmega(void *,void *);\n",
    "#endif```"
   ]
  },
  {
   "cell_type": "markdown",
   "id": "e71dce37",
   "metadata": {},
   "source": [
    "### split.c"
   ]
  },
  {
   "cell_type": "markdown",
   "id": "6b30f83f",
   "metadata": {},
   "source": [
    "```N``` to ```NN```"
   ]
  },
  {
   "cell_type": "markdown",
   "id": "6577c0af",
   "metadata": {},
   "source": [
    "### starform.c"
   ]
  },
  {
   "cell_type": "markdown",
   "id": "5f6d7c09",
   "metadata": {},
   "source": [
    "### stiff.c"
   ]
  },
  {
   "cell_type": "markdown",
   "id": "61aaea4d",
   "metadata": {},
   "source": [
    "a parameter ```red``` was added"
   ]
  },
  {
   "cell_type": "markdown",
   "id": "b6f5037d",
   "metadata": {},
   "source": [
    "### stiff.h"
   ]
  },
  {
   "cell_type": "markdown",
   "id": "873a19b1",
   "metadata": {},
   "source": [
    "### supernova.c"
   ]
  },
  {
   "cell_type": "markdown",
   "id": "b93a2e6e",
   "metadata": {},
   "source": [
    "### supernova.h"
   ]
  },
  {
   "cell_type": "markdown",
   "id": "3283b340",
   "metadata": {},
   "source": [
    "Ok done. Now compile it, and it's working"
   ]
  }
 ],
 "metadata": {
  "kernelspec": {
   "display_name": "Python 3 (ipykernel)",
   "language": "python",
   "name": "python3"
  },
  "language_info": {
   "codemirror_mode": {
    "name": "ipython",
    "version": 3
   },
   "file_extension": ".py",
   "mimetype": "text/x-python",
   "name": "python",
   "nbconvert_exporter": "python",
   "pygments_lexer": "ipython3",
   "version": "3.8.2"
  }
 },
 "nbformat": 4,
 "nbformat_minor": 5
}
