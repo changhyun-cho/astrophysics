{
 "cells": [
  {
   "cell_type": "markdown",
   "id": "e174d763",
   "metadata": {},
   "source": [
    "# Analyzing & Improving the NIHAO BH Feedback"
   ]
  },
  {
   "cell_type": "markdown",
   "id": "aea08ecf",
   "metadata": {},
   "source": [
    "In the NIHAO simulation code, the BH feedback calculation part is in ```src/smoothfcn.c```. "
   ]
  },
  {
   "cell_type": "markdown",
   "id": "93e7e445",
   "metadata": {},
   "source": [
    "## Goal"
   ]
  },
  {
   "cell_type": "markdown",
   "id": "6251a967",
   "metadata": {},
   "source": [
    "- Implement the new, realistic BH feedback scheme"
   ]
  },
  {
   "cell_type": "markdown",
   "id": "2d1ce836",
   "metadata": {},
   "source": [
    "## Problem"
   ]
  },
  {
   "attachments": {},
   "cell_type": "markdown",
   "id": "7dc6bcf7",
   "metadata": {},
   "source": [
    "- I am not so familiar with the C language. I need to learn first.\n",
    " - Especially I don't know about\n",
    "   - ```*```\n",
    "   - ```#ifdef```\n",
    "   - ```*p1```\n",
    "   - ```->```\n",
    " - I am now taking the LinkedIn learning course.\n",
    " \n",
    " \n",
    "- Also, I need to learn about the NIHAO simulation itself. I am not so well informed of the BH feedback mechanism. \n",
    " - Now I am reading the previous NIHAO papers.\n",
    "   - Wang et al. 2015\n",
    "   - Blank et al. 2019"
   ]
  },
  {
   "cell_type": "markdown",
   "id": "268c6463",
   "metadata": {},
   "source": [
    "## Code Analysis"
   ]
  },
  {
   "cell_type": "markdown",
   "id": "141aaa6e",
   "metadata": {},
   "source": [
    "```void```: a function which does not return any value\n",
    "\n",
    "```PARTICLE, int, NN, SMF```: types\n",
    "```*p, nSmooth, *nnList, *smf```: arguments\n",
    ": what is type ```PARTICLE, NN, SMF```?\n",
    ": what is ```*```? (Pointer, what is a pointer?)\n",
    "\n",
    "```#ifdef```: conditional compilation, in this case, ```STARFORM``` must be defined.\n",
    "\n",
    "Find the equation part!\n",
    "```c\n",
    "    FLOAT ih2,r2,rs;\n",
    "    double mdot, dmAvg, dm, dE, dtEff;\n",
    "    FLOAT fNorm,fNorm_new,f2h2;\n",
    "    int i,counter;\n",
    "    FLOAT fbweight;\n",
    "```\n",
    ": define variables, the meaning?"
   ]
  },
  {
   "cell_type": "markdown",
   "id": "307f4585",
   "metadata": {},
   "source": [
    "### initTreeParticleBHFeedback"
   ]
  },
  {
   "cell_type": "markdown",
   "id": "548edad8",
   "metadata": {},
   "source": [
    "```c\n",
    "void initTreeParticleBHFeedback(void *p1)\n",
    "{\n",
    "#ifdef STARFORM\n",
    "    /* Convert energy and metals to non-specific quantities (not per mass)\n",
    "     * to make it easier to divvy up BH energy.\n",
    "     */\n",
    "\n",
    "    if(TYPETest((PARTICLE *)p1, TYPE_GAS))  ((PARTICLE *)p1)->u *= ((PARTICLE *)p1)->fMass;\n",
    "    if(TYPETest((PARTICLE *)p1, TYPE_GAS))  ((PARTICLE *)p1)->fNSN = 0.0;\n",
    "    /* fNSN will hold the place of FB energy because uPred is needed for\n",
    "     *  calculations. it should be zero anyways.  JMB 10/5/09  */\n",
    "\n",
    "#endif\n",
    "}\n",
    "```\n"
   ]
  },
  {
   "cell_type": "markdown",
   "id": "70ae35c1",
   "metadata": {},
   "source": [
    "### initBHFeedback"
   ]
  },
  {
   "cell_type": "markdown",
   "id": "b9efc1f1",
   "metadata": {},
   "source": [
    "```c\n",
    "/* Cached Tree Active particles */\n",
    "void initBHFeedback(void *p)\n",
    "{\n",
    "#ifdef STARFORM\n",
    "    if (TYPEQueryTREEACTIVE((PARTICLE *) p)) ((PARTICLE *)p)->u = 0.0; /*added 6/10/08*/\n",
    "    if (TYPEQueryTREEACTIVE((PARTICLE *) p)) ((PARTICLE *)p)->fNSN = 0.0;\n",
    "\n",
    "    /* Heating due to accretion */\n",
    "#endif\n",
    "}\n",
    "```"
   ]
  },
  {
   "cell_type": "markdown",
   "id": "4edabd52",
   "metadata": {},
   "source": [
    "### combBHFeedback"
   ]
  },
  {
   "cell_type": "markdown",
   "id": "e7c20baf",
   "metadata": {},
   "source": [
    "```c\n",
    "void combBHFeedback(void *p1,void *p2)\n",
    "{\n",
    "#ifdef STARFORM\n",
    "    PARTICLE *pp1 = p1;\n",
    "    PARTICLE *pp2 = p2;\n",
    "\n",
    "    if (TYPEQueryTREEACTIVE(pp1)) {\n",
    "        pp1->u += pp2->u; /*added 6/10/08 for BH blastwave FB*/\n",
    "        pp1->fNSN += pp2->fNSN;  /* (this is uPred) JMB 10/5/09  */\n",
    "        pp1->fTimeCoolIsOffUntil = max( (pp1)->fTimeCoolIsOffUntil,\n",
    "                                       (pp2)->fTimeCoolIsOffUntil );\n",
    "        pp1->fMassForm = max( (pp1)->fMassForm,\n",
    "                             (pp2)->fMassForm ); /* propagate FB time JMB 2/24/10 */\n",
    "    }\n",
    "#endif\n",
    "}\n",
    "```"
   ]
  },
  {
   "cell_type": "markdown",
   "id": "9a25dd57",
   "metadata": {},
   "source": [
    "### BHFeedback"
   ]
  },
  {
   "cell_type": "markdown",
   "id": "d1ad3e56",
   "metadata": {},
   "source": [
    "```c\n",
    "void BHFeedback(PARTICLE *p,int nSmooth,NN *nnList,SMF *smf)\n",
    "{\n",
    "#ifdef STARFORM\n",
    "    FLOAT ih2,r2,rs;\n",
    "    double mdot, dmAvg, dm, dE, dtEff;\n",
    "    FLOAT fNorm,fNorm_new,f2h2;\n",
    "    int i,counter;\n",
    "    FLOAT fbweight;\n",
    "\n",
    "    dm = p->divv;\n",
    "\n",
    "    if (dm <= 0.0) return;\n",
    "\n",
    "    if(smf->dBHSinkFeedbackFactor != 0.0) {  /* allows FB to be turned off JMB 7/20/09 */\n",
    "        dE = smf->dBHSinkFeedbackFactor*dm; /* dE based on actual mass eaten */\n",
    "\n",
    "        dtEff = smf->dSinkCurrentDelta;/* *pow(0.5,p->iRung-smf->iSinkCurrentRung);*/\n",
    "        dmAvg = mdot*dtEff;\n",
    "        /*printf(\"BHSink %d:  Delta: %g Time: %g  dm: actual %g (pred %g) (avg %g) dE %g\\n\",p->iOrder,dtEff,smf->dTime,dm,p->curlv[1],dmAvg,dE); */\n",
    "        //printf(\"BHSink %d:  Delta: %g Time: %.8f dm: %g dE %g\\n\",p->iOrder,dtEff,smf->dTime,dm,dE);\n",
    "\n",
    "        /* Recalculate Normalization */\n",
    "        ih2 = 4.0/BALL2(p);\n",
    "        f2h2=BALL2(p);\n",
    "        fNorm_new = 0.0;\n",
    "        fNorm = 0.5*M_1_PI*sqrt(ih2)*ih2;\n",
    "\n",
    "        for (i=0;i<nSmooth;++i) {\n",
    "            r2 = nnList[i].fDist2*ih2;\n",
    "            KERNEL(rs,r2);\n",
    "            fNorm_new += rs;\n",
    "            rs *= fNorm;\n",
    "        }\n",
    "\n",
    "        /* spread feedback to nearest particles across the kernel.  JMB 8/29/22 */\n",
    "\n",
    "        assert(fNorm_new != 0.0);\n",
    "        fNorm_new = 1./fNorm_new;\n",
    "        counter = 0;\n",
    "\n",
    "        for(i=0;i<nSmooth;++i) {\n",
    "            r2 = nnList[i].fDist2*ih2;\n",
    "            KERNEL(rs,r2);\n",
    "            fbweight = rs*fNorm_new;\n",
    "            nnList[i].pPart->u += fbweight*dE;\n",
    "            nnList[i].pPart->fNSN += fbweight*dE;\n",
    "            if (nnList[i].pPart->u > smf->dBHemax) nnList[i].pPart->u = smf->dBHemax;\n",
    "            if (nnList[i].pPart->fNSN > smf->dBHemax) nnList[i].pPart->fNSN = smf->dBHemax;\n",
    "            counter ++;\n",
    "            /* now turn off cooling */\n",
    "            if(  smf->bBHTurnOffCooling) nnList[i].pPart->fTimeCoolIsOffUntil = max(nnList[i].pPart->fTimeCoolIsOffUntil,smf->dTime + nnList[i].pPart->dt);\n",
    "//            printf(\"BHSink %d: Time %g FB Energy to %i dE %g tCoolOffUntil %g \\n\",p->iOrder,smf->dTime,nnList[i].pPart->iOrder,fbweight*dE,nnList[i].pPart->fTimeCoolIsOffUntil);\n",
    "\t    if(smf->bBHTurnOffCooling) assert(nnList[i].pPart->fTimeCoolIsOffUntil > smf->dTime);\n",
    "            nnList[i].pPart->fMassForm = (FLOAT) smf->dTime;\n",
    "            /* track BHFB time in MassForm  JMB 11/19/08 */\n",
    "        }\n",
    "    }\n",
    "\n",
    "#endif\n",
    "}\n",
    "```"
   ]
  },
  {
   "cell_type": "markdown",
   "id": "d4df9f1f",
   "metadata": {},
   "source": [
    "### postBHFeedback"
   ]
  },
  {
   "cell_type": "markdown",
   "id": "355abb24",
   "metadata": {},
   "source": [
    "```c\n",
    "void postBHFeedback(PARTICLE *p1, SMF *smf)\n",
    "{\n",
    "#ifdef STARFORM\n",
    "    /* Convert energy  back to specific quantities (per mass)\n",
    "       because we are done with our conservative calculations */\n",
    "    if(TYPETest(p1, TYPE_GAS) && p1->fMass != 0 && !(TYPETest(p1,TYPE_DELETED))) {\n",
    "    p1->u /= p1->fMass;\n",
    "    p1->fNSN /= p1->fMass;\n",
    "    p1->uPred += p1->fNSN; /* now combine fNSN to uPred.  JMB 10/5/09  */\n",
    "  }\n",
    "\n",
    "#endif\n",
    "}\n",
    "```"
   ]
  }
 ],
 "metadata": {
  "kernelspec": {
   "display_name": "Python 3 (ipykernel)",
   "language": "python",
   "name": "python3"
  },
  "language_info": {
   "codemirror_mode": {
    "name": "ipython",
    "version": 3
   },
   "file_extension": ".py",
   "mimetype": "text/x-python",
   "name": "python",
   "nbconvert_exporter": "python",
   "pygments_lexer": "ipython3",
   "version": "3.8.2"
  }
 },
 "nbformat": 4,
 "nbformat_minor": 5
}
