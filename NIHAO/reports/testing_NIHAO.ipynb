{
 "cells": [
  {
   "cell_type": "markdown",
   "id": "c5d72c0b",
   "metadata": {},
   "source": [
    "# Testing NIHAO Simulation with new accretion models"
   ]
  },
  {
   "cell_type": "markdown",
   "id": "7fa6ad34",
   "metadata": {},
   "source": [
    "I have implemented Nadine's two accretion models (Alpha disk, torque-driven accretion models) into the new NIHAO simulation. But currently the dalma server is down for maintenance, I needed to use the Oryx 1,2 servers for the test of this simulation. "
   ]
  },
  {
   "cell_type": "markdown",
   "id": "0833c71c",
   "metadata": {},
   "source": [
    "But there is no mpi compiler on oryx machine, so I have decided to install it on my local environment."
   ]
  },
  {
   "cell_type": "markdown",
   "id": "30ff7838",
   "metadata": {},
   "source": [
    "## Installing MPICH 4 library on the local environment"
   ]
  },
  {
   "cell_type": "markdown",
   "id": "2677c1f8",
   "metadata": {},
   "source": [
    "### Download"
   ]
  },
  {
   "cell_type": "markdown",
   "id": "b6e3a806",
   "metadata": {},
   "source": [
    "Download the latest version of mpich from https://www.mpich.org"
   ]
  },
  {
   "cell_type": "markdown",
   "id": "6ca9c53e",
   "metadata": {},
   "source": [
    "### Configure"
   ]
  },
  {
   "cell_type": "markdown",
   "id": "3026c8e4",
   "metadata": {},
   "source": [
    "- Uncompress the zip file\n",
    "\n",
    "``` > tar xvf mpich-latest.tar.gz```\n",
    "\n",
    "- Go to the directory and configure MPICH\n",
    " - Source directory: /home/you/libraries/mpich-latest/\n",
    " - Installation directory: /home/you/mpich-install\n",
    "\n",
    "``` > ./configure -prefix=/home/you/mpich-install 2>&1 | tee c.txt```"
   ]
  },
  {
   "cell_type": "markdown",
   "id": "680b023d",
   "metadata": {},
   "source": [
    "### Build"
   ]
  },
  {
   "cell_type": "markdown",
   "id": "0deb0fae",
   "metadata": {},
   "source": [
    "```> make 2>&1 | tee m.txt```"
   ]
  },
  {
   "cell_type": "markdown",
   "id": "f8f58cf7",
   "metadata": {},
   "source": [
    "### Install"
   ]
  },
  {
   "cell_type": "markdown",
   "id": "17e72fff",
   "metadata": {},
   "source": [
    "```> make install 2>&1 | tee mi.txt```"
   ]
  },
  {
   "cell_type": "markdown",
   "id": "e4f6b284",
   "metadata": {},
   "source": [
    "### Check install"
   ]
  },
  {
   "cell_type": "markdown",
   "id": "206848c0",
   "metadata": {},
   "source": [
    "```> make installcheck ```"
   ]
  },
  {
   "cell_type": "markdown",
   "id": "064cde05",
   "metadata": {},
   "source": [
    "### Add bin directory and check"
   ]
  },
  {
   "cell_type": "markdown",
   "id": "dc895c0f",
   "metadata": {},
   "source": [
    "Add this line on ```.bashrc```\n",
    "\n",
    "```PATH=/home/you/mpich-install/bin:$PATH```\n",
    "\n",
    "```export PATH```\n",
    "\n",
    "Check by using\n",
    "\n",
    "```which mpicc```\n",
    "\n",
    "```which mpiexec```"
   ]
  },
  {
   "cell_type": "markdown",
   "id": "12463160",
   "metadata": {},
   "source": [
    "### Reference"
   ]
  },
  {
   "cell_type": "markdown",
   "id": "5a3da863",
   "metadata": {},
   "source": [
    "https://www.mpich.org/static/downloads/4.0.1/mpich-4.0.1-installguide.pdf"
   ]
  },
  {
   "cell_type": "markdown",
   "id": "45caeb6b",
   "metadata": {},
   "source": [
    "## Test NIHAO simulation"
   ]
  },
  {
   "cell_type": "markdown",
   "id": "aa1e45d2",
   "metadata": {},
   "source": [
    "### Copy the code from my local machine"
   ]
  },
  {
   "cell_type": "markdown",
   "id": "54fb8fa7",
   "metadata": {},
   "source": [
    "```> scp - - ```"
   ]
  },
  {
   "cell_type": "markdown",
   "id": "20ece1ff",
   "metadata": {},
   "source": [
    "### Check the Oryx machine environment"
   ]
  },
  {
   "cell_type": "markdown",
   "id": "f3f04ede",
   "metadata": {},
   "source": [
    "```> lscpu```\n",
    "\n",
    "```Architecture:                    x86_64\n",
    "CPU op-mode(s):                  32-bit, 64-bit\n",
    "Byte Order:                      Little Endian\n",
    "Address sizes:                   48 bits physical, 48 bits virtual\n",
    "CPU(s):                          256\n",
    "On-line CPU(s) list:             0-255\n",
    "Thread(s) per core:              2\n",
    "Core(s) per socket:              64\n",
    "Socket(s):                       2\n",
    "NUMA node(s):                    2\n",
    "Vendor ID:                       AuthenticAMD\n",
    "CPU family:                      23\n",
    "Model:                           49\n",
    "Model name:                      AMD EPYC 7742 64-Core Processor\n",
    "Stepping:                        0\n",
    "Frequency boost:                 enabled\n",
    "CPU MHz:                         1497.126\n",
    "CPU max MHz:                     2250.0000\n",
    "CPU min MHz:                     1500.0000\n",
    "BogoMIPS:                        4491.54\n",
    "Virtualization:                  AMD-V\n",
    "L1d cache:                       4 MiB\n",
    "L1i cache:                       4 MiB\n",
    "L2 cache:                        64 MiB\n",
    "L3 cache:                        512 MiB\n",
    "NUMA node0 CPU(s):               0-63,128-191\n",
    "NUMA node1 CPU(s):               64-127,192-255```\n",
    "\n",
    "Since there are 256 cores, I think I can use 128 CPUs. "
   ]
  },
  {
   "cell_type": "markdown",
   "id": "227d0051",
   "metadata": {},
   "source": [
    "### Prepare for the initial condition"
   ]
  },
  {
   "cell_type": "markdown",
   "id": "1b3b2cdc",
   "metadata": {},
   "source": [
    "For the fair comparison, I will use the same galaxy used by Nadine. She used the following galaxies:\n",
    "\n",
    "- g1.55e12\n",
    "- g2.37e12\n",
    "- g2.71e12"
   ]
  },
  {
   "cell_type": "markdown",
   "id": "bfc8e3db",
   "metadata": {},
   "source": [
    "To run the code, I need some ingredients to run the code.\n",
    "\n",
    "- STD file\n",
    "- Execute file\n",
    "- Parameter file\n",
    "- Cooling table\n",
    "- Checkpoint file\n",
    "- Yield table\n",
    "- AHFinput.in\n",
    "- Script"
   ]
  },
  {
   "cell_type": "markdown",
   "id": "67c46286",
   "metadata": {},
   "source": [
    "I got the execute file from ```src``` directory,\n",
    "- Execute file\n",
    " - gasoline2"
   ]
  },
  {
   "cell_type": "markdown",
   "id": "61b15d18",
   "metadata": {},
   "source": [
    "those files from ```aux```,\n",
    "\n",
    "- Checkpoint file\n",
    " - checkpoint.fdl\n",
    "- Yield table\n",
    " - yieldtable_xdr\n",
    "- Cooling table\n",
    " - cooltable_rad_hothalo\n",
    "- AHFinput.in"
   ]
  },
  {
   "cell_type": "markdown",
   "id": "92dbca7a",
   "metadata": {},
   "source": [
    "and the galaxy information from ```falcon2``` server, in this directory:\n",
    "\n",
    "```/data/database/nihao/nihao_agn/nihao_ell_bh/g1.55e12```.\n",
    "\n",
    "From here, I copied\n",
    "\n",
    "- Prameter file\n",
    " - g1.55e12.param\n",
    "- STD file\n",
    " - g1.55e12.std\n",
    "\n",
    "\n",
    "Note that \n",
    "\n",
    "```\n",
    "/data/database/nihao/nihao_agn/nihao_bh/       some of the classic nihao galaxies, but with black holes\n",
    "/data/database/nihao/nihao_agn/nihao_bh_param/ variation of parameters relevant to black holes\n",
    "/data/database/nihao/nihao_agn/nihao_ell_bh/   new high mass galaxies, with black holes\n",
    "/data/database/nihao/nihao_agn/nihao_ell_dmo/  dmo simulations of the new high mass galaxies\n",
    "/data/database/nihao/nihao_agn/nihao_ell_wobh/  some of the new high mass galaxies, but without black holes\n",
    "```"
   ]
  },
  {
   "cell_type": "markdown",
   "id": "894afd3c",
   "metadata": {},
   "source": [
    "Finally, for the script file, I made it myself and adjusted it for oryx machine, not dalma environment. Important features are:\n",
    "\n",
    "```\n",
    "export PKDGRAV_CHECKPOINT_FDL=/home/cc6881/research/nihao/results/g1.55e12/checkpoint.fdl\n",
    "mpiexec -n 128 ./gasoline2 g1.55e12.param\n",
    "```"
   ]
  },
  {
   "cell_type": "markdown",
   "id": "9d59ec91",
   "metadata": {},
   "source": [
    "And it's working."
   ]
  }
 ],
 "metadata": {
  "kernelspec": {
   "display_name": "Python 3 (ipykernel)",
   "language": "python",
   "name": "python3"
  },
  "language_info": {
   "codemirror_mode": {
    "name": "ipython",
    "version": 3
   },
   "file_extension": ".py",
   "mimetype": "text/x-python",
   "name": "python",
   "nbconvert_exporter": "python",
   "pygments_lexer": "ipython3",
   "version": "3.9.7"
  }
 },
 "nbformat": 4,
 "nbformat_minor": 5
}
