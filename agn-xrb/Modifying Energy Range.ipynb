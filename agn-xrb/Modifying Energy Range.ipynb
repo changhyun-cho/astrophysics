{
 "cells": [
  {
   "cell_type": "markdown",
   "id": "5f1d8942",
   "metadata": {},
   "source": [
    "# Increasing (decreasing) the energy range & Converting the count rate"
   ]
  },
  {
   "cell_type": "markdown",
   "id": "44fb9d67",
   "metadata": {},
   "source": [
    "## Example: Increasing NGC2617 *Swift* X-ray data energy range from 0.3-10 keV to 0.3-100 keV "
   ]
  },
  {
   "cell_type": "markdown",
   "id": "1c3da657",
   "metadata": {},
   "source": [
    "### Prerequisite\n",
    "\n",
    "- Machine readable data in keV (or count rate)\n",
    " - Table 3 from [Fausnaugh et al. 2018](https://iopscience.iop.org/article/10.3847/1538-4357/aaaa2b)\n",
    " \n",
    " \n",
    "- Redshift (z)\n",
    " - Table 1 from [Fausnaugh et al. 2018](https://iopscience.iop.org/article/10.3847/1538-4357/aaaa2b)\n",
    "\n",
    "\n",
    "- Galactic nH ($\\text{cm}^{-2}$)\n",
    "\n",
    "\n",
    "- Power-law photon index ($\\Gamma$)"
   ]
  },
  {
   "cell_type": "markdown",
   "id": "578facc7",
   "metadata": {},
   "source": [
    "### Problem\n",
    "\n",
    "- Energy range: X-ray flux data from [Fausnaugh et al. 2018](https://iopscience.iop.org/article/10.3847/1538-4357/aaaa2b) is **0.3-10 keV** range, but we need the wider range, **0.3-100 keV**."
   ]
  },
  {
   "cell_type": "markdown",
   "id": "600318d5",
   "metadata": {},
   "source": [
    "### Solution\n",
    "\n",
    "We use the WebPIMM https://heasarc.gsfc.nasa.gov/cgi-bin/Tools/w3pimms/w3pimms.pl for this conversion\n",
    "\n",
    "- Convert From: Flux\n",
    "- Into: FLUX\n",
    "\n",
    "\n",
    "- Input Energy Range (low-high): 0.3-10 keV\n",
    "- Output Energy Range (low-high): 0.3-100 keV\n",
    "\n",
    "\n",
    "- Source Flux / Count Rate: 1 \n",
    " - Since the relationship is linear, I can just consider the result as a coefficient.\n",
    "\n",
    "\n",
    "- Galactic nH: 3.64e20 (cm^{-2}) (REFERENCE?)\n",
    " - Intrinsic nH: none\n",
    " - Just consider the galactic nH only\n",
    "- Redshift: 0.0142 (REFERENCE?)\n",
    "\n",
    "\n",
    "- Model of Source: Power Law\n",
    "- Model Parameters\n",
    " - Photon Index: 1.97 (REFERENCE?)\n",
    " \n",
    " \n",
    "Then, click ```Estimate Count Rate```."
   ]
  },
  {
   "cell_type": "markdown",
   "id": "ca60dabf",
   "metadata": {},
   "source": [
    "![alt text](images/webpimms.png)"
   ]
  },
  {
   "cell_type": "markdown",
   "id": "9eb6e259",
   "metadata": {},
   "source": [
    "### Result\n",
    "\n",
    "We can use the unabsorbed flux, **1.879E+00 ergs/cm/cm/s** for further analysis. As I mentioned earlier, I can just consider the result as a coefficient so I will multiply the X-ray flux (0.3-10 keV) by this value. Then finally we get the unabsorbed flux with energy range from 0.3 to 100 keV.\n",
    "\n",
    "![alt text](images/pimms_result.png)"
   ]
  },
  {
   "cell_type": "markdown",
   "id": "54593251",
   "metadata": {},
   "source": [
    "## Example: NGC4151"
   ]
  },
  {
   "cell_type": "markdown",
   "id": "e812acec",
   "metadata": {},
   "source": [
    "Will be done soon."
   ]
  }
 ],
 "metadata": {
  "kernelspec": {
   "display_name": "Python 3 (ipykernel)",
   "language": "python",
   "name": "python3"
  },
  "language_info": {
   "codemirror_mode": {
    "name": "ipython",
    "version": 3
   },
   "file_extension": ".py",
   "mimetype": "text/x-python",
   "name": "python",
   "nbconvert_exporter": "python",
   "pygments_lexer": "ipython3",
   "version": "3.9.18"
  }
 },
 "nbformat": 4,
 "nbformat_minor": 5
}
