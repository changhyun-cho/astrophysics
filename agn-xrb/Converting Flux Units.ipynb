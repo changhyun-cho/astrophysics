{
 "cells": [
  {
   "cell_type": "markdown",
   "id": "9047b9ed",
   "metadata": {},
   "source": [
    "# Flux unit conversion"
   ]
  },
  {
   "cell_type": "markdown",
   "id": "f949b2fc",
   "metadata": {},
   "source": [
    "## Example: Converting NGC2617 *Swift* V-band optical flux unit"
   ]
  },
  {
   "cell_type": "markdown",
   "id": "9e3343d6",
   "metadata": {},
   "source": [
    "### Prerequisite\n",
    "\n",
    "- Machine readable optical data\n",
    " - Table 3 from [Fausnaugh et al. 2018](https://iopscience.iop.org/article/10.3847/1538-4357/aaaa2b)\n",
    " - Optical flux unit: $10^{-15} \\text{erg cm}^{-2} \\text{s}^{-1} \\mathring{\\mathrm{A}}^{-1} $\n",
    "\n",
    "\n",
    "- Optical Filter Information\n",
    " - Rest-frame effective wavelength of the filter\n",
    "  - *Swift v* filter: 5326 $\\mathring{\\mathrm{A}}$\n",
    "  - Table 7 from [Fausnaugh et al. 2018](https://iopscience.iop.org/article/10.3847/1538-4357/aaaa2b)"
   ]
  },
  {
   "cell_type": "markdown",
   "id": "b0dfee81",
   "metadata": {},
   "source": [
    "### Optical Flux Unit Conversion"
   ]
  },
  {
   "cell_type": "markdown",
   "id": "d585a1af",
   "metadata": {},
   "source": [
    "We would like to convert the v-band flux unit from $\\text{erg cm}^{-2} \\text{s}^{-1} \\mathring{\\mathrm{A}}^{-1}$ to mJy.\n",
    "\n",
    "For this, I used this website https://www.stsci.edu/~strolger/docs/UNITS.txt to get the conversion factor.\n",
    "\n",
    "\n",
    "\n",
    "\n",
    "> [Y Jy] = 3.33564095E+04 * [X1 erg/cm^2/s/A] * [X2 A]^2\n",
    "\n",
    "Since ```X2``` is 5326 in this case, and ```X1```, we can get it from the data.\n"
   ]
  },
  {
   "cell_type": "markdown",
   "id": "8f2471d7",
   "metadata": {},
   "source": [
    "### Dummy line (potentially can be used for X-ray analysis)\n",
    "\n",
    "I guess this is for X-ray flux conversion.\n",
    "\n",
    "erg/cm^2/s to mJy:\n",
    "\n",
    "1 mJy = 2.4179897640652e-09 erg/cm^2/s/keV\n",
    "\n",
    "the /keV is the energy range, e.g. 2-10 keV is 10 - 2 = 8 keV range\n"
   ]
  },
  {
   "cell_type": "markdown",
   "id": "a7ffb497",
   "metadata": {},
   "source": [
    "### Previous Email from Cristina"
   ]
  },
  {
   "cell_type": "markdown",
   "id": "51c9f913",
   "metadata": {},
   "source": [
    "Hi all,\n",
    "As promised, here is a summary of what you have to do if you want to convert magnitudes to flux densities (Jy).\n",
    "\n",
    "The equation for the conversion is:\n",
    "\n",
    "Flux density = f0*10^(0.4*mag)\n",
    "\n",
    "For AB magnitudes (typically, SDSS mags are AB mags), f0=3631 Jy always.\n",
    "\n",
    "For Vega mags, here are the f0 values:\n",
    "\n",
    "Filter\tflux density (Jy)\n",
    "B\t\t4063\n",
    "V\t\t3636\n",
    "R\t\t3064\n",
    "I\t\t2416\n",
    "J\t\t1589\n",
    "H\t\t1021\n",
    "K\t\t640\n",
    "\n",
    "IF you need the de-reddened flux densities (for example to build SEDs) you will first need to de-redden the magnitudes, and then you will do the flux conversion.\n",
    "Once the V-band absorption coefficient (Av) is known, here are the values of y = A_filter/Av for the most common filters (evaluated following Cardelli et al. 1989):\n",
    "\n",
    "Filter\tlambda (nm)\ty\t\n",
    "SDSS-g\t477\t\t\t1.194\n",
    "SDSS-r\t623\t\t\t0.869\n",
    "SDSS-i\t762\t\t\t0.653\n",
    "SDSS-z\t913\t\t\t0.468\n",
    "SDSS-g'  477.0 \t\t1.194\n",
    "SDSS-r'   621.5 \t\t0.872\n",
    "SDSS-i'   754.5 \t\t0.666\n",
    "Pan-STARRS-Z 870.0 \t0.508\n",
    "Pan-STARRS-Y 1004.0 \t0.438\n",
    "B \t\t436.1 \t\t1.339\n",
    "V \t\t544.8 \t\t1.010 ~ 1\n",
    "R \t\t640.7 \t\t0.842\n",
    "I \t\t798.0 \t\t0.600\n",
    "J\t\t1220\t\t0.29\n",
    "H\t\t1630\t\t0.18\n",
    "K\t\t2190\t\t0.11\n",
    "\n",
    "Knowing Av, you can evaluate the absorption coefficient for each band. Then you will subtract this coefficient from the original magnitude of your target, and proceed with the flux conversion.\n",
    "\n",
    "I hope everything is clear.\n",
    "\n",
    "Cheers,\n",
    "\n",
    "Cristina\n"
   ]
  }
 ],
 "metadata": {
  "kernelspec": {
   "display_name": "Python 3 (ipykernel)",
   "language": "python",
   "name": "python3"
  },
  "language_info": {
   "codemirror_mode": {
    "name": "ipython",
    "version": 3
   },
   "file_extension": ".py",
   "mimetype": "text/x-python",
   "name": "python",
   "nbconvert_exporter": "python",
   "pygments_lexer": "ipython3",
   "version": "3.9.17"
  }
 },
 "nbformat": 4,
 "nbformat_minor": 5
}
