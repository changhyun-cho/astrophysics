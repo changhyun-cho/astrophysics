{
 "cells": [
  {
   "cell_type": "markdown",
   "id": "e32d20f2",
   "metadata": {},
   "source": [
    "# Host Galaxy Contribution Removal"
   ]
  },
  {
   "cell_type": "markdown",
   "id": "75daed5e",
   "metadata": {},
   "source": [
    "## Machine Environment"
   ]
  },
  {
   "cell_type": "markdown",
   "id": "f86f44ec",
   "metadata": {},
   "source": [
    "- macOS Catalina 10.15.7\n",
    "- [SAOImageDS9](https://sites.google.com/cfa.harvard.edu/saoimageds9)\n",
    "- [NOAO/IRAV V2.16.1](https://research.iac.es/sieinvens/siepedia/pmwiki.php?n=HOWTOs.IrafMacOSX)"
   ]
  },
  {
   "cell_type": "markdown",
   "id": "7ed040dd",
   "metadata": {},
   "source": [
    "## List of AGN"
   ]
  },
  {
   "cell_type": "markdown",
   "id": "a6b1981e",
   "metadata": {},
   "source": [
    "### [NGC4151](https://iopscience.iop.org/article/10.3847/1538-4357/aa6890)\n",
    "\n",
    "- Size of the aperture: 5\"\n",
    "\n",
    "> [Reference: Edelson et al. 2017, ApJ](https://iopscience.iop.org/article/10.3847/1538-4357/aa6890)\n",
    "\n",
    "> In Section 2.3. UVOT Data Reduction:\n",
    "> ... The UVOT data were taken in a six-filter, blue-weighted mode in which the four longest-wavelength filters (uvw1, u, b, and v) are observed using 5\" × 5\" hardware windows. ...\n",
    "\n",
    "> ... Fluxes were measured using a **5\" radius circular aperture**, and concentric 40\"–90\" radius annuli were used to measure the sky background level. ...\n",
    "\n",
    "\n",
    "### [NGC5548](https://iopscience.iop.org/article/10.1088/0004-637X/806/1/129)\n",
    "\n",
    "- Size of the aperture: 5\"\n",
    "\n",
    "> [Reference: Edelson et al. 2015, ApJ](https://iopscience.iop.org/article/10.1088/0004-637X/806/1/129)\n",
    "\n",
    "> In Section 2.2. UVOT Data Reduction:\n",
    "> ... Fluxes were measured using a **5 arcsec circular aperture** and concentric 40–90 arcsec regions were used to measure the sky background level. ...\n",
    "\n",
    "> Also in Section 2.2, \n",
    "> ... The galaxy contributes a fraction of the observed flux within the UVOT apertures (see Section 4.4) but no attempt was made to remove the contribution of host galaxy flux, as this contamination is constant and will not affect measurement of interband temporal correlations or absolute variability amplitudes. ..."
   ]
  },
  {
   "cell_type": "markdown",
   "id": "0ac0e05f",
   "metadata": {},
   "source": [
    "## Download the data from LCO Catalog"
   ]
  },
  {
   "cell_type": "markdown",
   "id": "e8c77268",
   "metadata": {},
   "source": [
    "Download the optical data from [LCO archive](https://archive.lco.global/)"
   ]
  },
  {
   "cell_type": "markdown",
   "id": "777d6b5d",
   "metadata": {},
   "source": [
    "### NGC4151"
   ]
  },
  {
   "cell_type": "markdown",
   "id": "37fa11b7",
   "metadata": {},
   "source": [
    "#### Search Keywords\n",
    "- Time: All Time\n",
    "- Proposal: All\n",
    "- Object: NGC4151\n",
    "\n",
    "#### Result\n",
    "\n",
    "![alt text](images/lco_archive_ngc4151.png)\n",
    "- Download ```cpt1m010-kb70-20160205-0325-e90.fits```"
   ]
  },
  {
   "cell_type": "markdown",
   "id": "2b9cf92b",
   "metadata": {},
   "source": [
    "### NGC5548"
   ]
  },
  {
   "cell_type": "markdown",
   "id": "aa98fa3b",
   "metadata": {},
   "source": [
    "#### Search Keywords\n",
    "- Time: All Time\n",
    "- Proposal: All\n",
    "- Image Name: NGC5548\n",
    "\n",
    "#### Result\n",
    "\n"
   ]
  },
  {
   "cell_type": "markdown",
   "id": "e46e6fc7",
   "metadata": {},
   "source": [
    "## Data Analysis using IRAF"
   ]
  },
  {
   "cell_type": "markdown",
   "id": "705cd8f3",
   "metadata": {},
   "source": [
    "### Intial Setup"
   ]
  },
  {
   "cell_type": "markdown",
   "id": "ba2823d8",
   "metadata": {},
   "source": [
    "- Go to the data directory\n",
    "- Open ```ds9```\n",
    "- Open another terminal using ```xgterm```\n",
    "- Open IRAF using ```ecl``` on ```xgterm```"
   ]
  },
  {
   "cell_type": "markdown",
   "id": "aa290983",
   "metadata": {},
   "source": [
    "### Open An Image File"
   ]
  },
  {
   "cell_type": "markdown",
   "id": "7e819cf7",
   "metadata": {},
   "source": [
    "```ecl> display <image_name.fits> 1 ```"
   ]
  },
  {
   "cell_type": "markdown",
   "id": "2c4443fe",
   "metadata": {},
   "source": [
    "### Example: NGC4151"
   ]
  },
  {
   "cell_type": "markdown",
   "id": "620a68b8",
   "metadata": {},
   "source": [
    "```ecl> display cpt1m010-kb70-20160205-0325-e90.fits 1```\n",
    "\n",
    "```z1=68.4315 z2=233.8968```"
   ]
  },
  {
   "cell_type": "markdown",
   "id": "e810c1f2",
   "metadata": {},
   "source": [
    "![alt text](images/image_ngc4151.png)"
   ]
  },
  {
   "cell_type": "markdown",
   "id": "b5db1898",
   "metadata": {},
   "source": [
    "### Initial Photometric Parameter Settings"
   ]
  },
  {
   "cell_type": "markdown",
   "id": "9d3e006f",
   "metadata": {},
   "source": [
    "- ```ecl> epar phot``` and change some properties\n",
    " - ```output: <filename>```\n",
    " - ```interact: yes```\n",
    " - ```radplot: yes```\n",
    " \n",
    "- Type ```:q``` to exit"
   ]
  },
  {
   "cell_type": "markdown",
   "id": "fe8f2ab1",
   "metadata": {},
   "source": [
    "### Example: NGC4151"
   ]
  },
  {
   "cell_type": "markdown",
   "id": "e965f4f3",
   "metadata": {},
   "source": [
    "```ecl> epar phot```\n",
    " - ```output: ngc4151```\n",
    " - ```interact: yes```\n",
    " - ```radplot: yes```"
   ]
  },
  {
   "cell_type": "markdown",
   "id": "635f0b4c",
   "metadata": {},
   "source": [
    "```\n",
    "I R A F  \n",
    "Image Reduction and Analysis Facility\n",
    "PACKAGE = apphot\n",
    "   TASK = phot\n",
    "\n",
    "image   = cpt1m010-kb70-20160205-0325-e90.fits  The input image(s)\n",
    "skyfile =                       The input sky file(s)\n",
    "(coords =                     ) The input coordinate files(s) (default: image.coo.?)\n",
    "(output =              ngc4151) The output photometry file(s) (default: image.mag.?)\n",
    "(plotfil=                     ) The output plots metacode file\n",
    "(datapar=                     ) Data dependent parameters\n",
    "(centerp=                     ) Centering parameters\n",
    "(fitskyp=                     ) Sky fitting parameters\n",
    "(photpar=                     ) Photometry parameters\n",
    "(interac=                  yes) Interactive mode ?\n",
    "(radplot=                  yes) Plot the radial profiles in interactive mode ?\n",
    "(icomman=                     ) Image cursor: [x y wcs] key [cmd]\n",
    "(gcomman=                     ) Graphics cursor: [x y wcs] key [cmd]\n",
    "(wcsin  =             )_.wcsin) The input coordinate system (logical,tv,physical,world)\n",
    "(wcsout =            )_.wcsout) The output coordinate system (logical,tv,physical)\n",
    "(cache  =             )_.cache) Cache the input image pixels in memory ?\n",
    "(verify =            )_.verify) Verify critical parameters in non-interactive mode ?\n",
    "(update =            )_.update) Update critical parameters in non-interactive mode ?\n",
    "(verbose=           )_.verbose) Print messages in non-interactive mode ?\n",
    "(graphic=          )_.graphics) Graphics device\n",
    "(display=           )_.display) Display device\n",
    "(mode   =                   ql)\n",
    "```\n",
    "\n",
    "```:q```"
   ]
  },
  {
   "cell_type": "markdown",
   "id": "420a51c2",
   "metadata": {},
   "source": [
    "### Add the size of the aperture (Photometric Parameters)"
   ]
  },
  {
   "cell_type": "markdown",
   "id": "104cf3a1",
   "metadata": {},
   "source": [
    "#### Calculate the aperture size in pixel\n",
    "\n",
    "We can calculate the size of the pixel using the header of the fits file.\n",
    "\n",
    "- Open the fits file using ```DS9```\n",
    " - Find ```PIXSCALE``` in the header\n",
    " - (Aperture size in pixel) = (Apperture size in arcsec)/(PIXSCALE)"
   ]
  },
  {
   "cell_type": "markdown",
   "id": "4ee872ec",
   "metadata": {},
   "source": [
    "#### Input the aperture value\n",
    "\n",
    "- ```ecl> epar photpars```\n",
    " - ```aperture <size>```\n",
    " - Insert the aperture size in pixel\n",
    "- Type ```:q``` to exit"
   ]
  },
  {
   "cell_type": "markdown",
   "id": "b0b41d5e",
   "metadata": {},
   "source": [
    "### Example: NGC4151"
   ]
  },
  {
   "cell_type": "markdown",
   "id": "d2a0a0ef",
   "metadata": {},
   "source": [
    "Open ```cpt1m010-kb70-20160205-0325-e90.fits``` using ```DS9```\n",
    "\n",
    "- Header: ```PIXSCALE=    0.467 / [arcsec/pixel] Nominal pixel scale on sky```\n",
    " - Host galaxy size in pixel = 5\"/0.467 = 11\n",
    " - Core size in pixel = 3\"/0.467 = 6\n",
    " \n",
    "Note that you need to open the fits file using ```DS9```, not ```IRAF``` to see the header."
   ]
  },
  {
   "cell_type": "markdown",
   "id": "5819f6d7",
   "metadata": {},
   "source": [
    "```ecl> epar photpars```\n",
    "\n",
    "\n",
    "```\n",
    "I R A F  \n",
    "                    Image Reduction and Analysis Facility\n",
    "PACKAGE = apphot\n",
    "   TASK = photpars\n",
    "\n",
    "(weighti=             constant) Photometric weighting scheme for wphot\n",
    "(apertur=                   11) List of aperture radii in scale units\n",
    "(zmag   =                  25.) Zero point of magnitude scale\n",
    "(mkapert=                   no) Draw apertures on the display\n",
    "(mode   =                   ql)\n",
    "```\n",
    "\n",
    "```:q```"
   ]
  },
  {
   "cell_type": "markdown",
   "id": "aab3d3ed",
   "metadata": {},
   "source": [
    "### Insert the sky algorithm parameters"
   ]
  },
  {
   "cell_type": "markdown",
   "id": "832c6686",
   "metadata": {},
   "source": [
    "We can put the size and width of the annulus. The size of the annulus should be 1.5 time the size of the aperture. We will use the same value for host galaxy and the core as well.\n",
    "\n",
    "- ```ecl> epar fitskypars```\n",
    " - ```annulus: <1.5 x the size of the aperture >```\n",
    " - ```dannulus: <annulus - aperture>```\n",
    "- Type ```:q``` to quit"
   ]
  },
  {
   "cell_type": "markdown",
   "id": "734cac88",
   "metadata": {},
   "source": [
    "### Example: NGC4151"
   ]
  },
  {
   "cell_type": "markdown",
   "id": "fcacfbc4",
   "metadata": {},
   "source": [
    "```ecl> epar fitskypars```\n",
    "\n",
    "- ```(annulus=                  17.) Inner radius of sky annulus in scale units```\n",
    "- ```(dannulu=                   5.) Width of sky annulus in scale units```\n",
    "\n",
    "\n",
    "```                                   \n",
    "I R A F  \n",
    "                    Image Reduction and Analysis Facility\n",
    "PACKAGE = apphot\n",
    "   TASK = fitskypars\n",
    "\n",
    "(salgori=             centroid) Sky fitting algorithm\n",
    "(annulus=                  17.) Inner radius of sky annulus in scale units\n",
    "(dannulu=                   5.) Width of sky annulus in scale units\n",
    "(skyvalu=                   0.) User sky value\n",
    "(smaxite=                   10) Maximum number of sky fitting iterations\n",
    "(sloclip=                   0.) Lower clipping factor in percent\n",
    "(shiclip=                   0.) Upper clipping factor in percent\n",
    "(snrejec=                   50) Maximum number of sky fitting rejection iteratio\n",
    "(sloreje=                   3.) Lower K-sigma rejection limit in sky sigma\n",
    "(shireje=                   3.) Upper K-sigma rejection limit in sky sigma\n",
    "(khist  =                   3.) Half width of histogram in sky sigma\n",
    "(binsize=     0.10000000149012) Binsize of histogram in sky sigma\n",
    "(smooth =                   no) Boxcar smooth the histogram\n",
    "(rgrow  =                   0.) Region growing radius in scale units\n",
    "(mksky  =                   no) Mark sky annuli on the display\n",
    "(mode   =                   ql)\n",
    "```\n",
    "\n",
    "```:q```"
   ]
  },
  {
   "cell_type": "markdown",
   "id": "d0a5509a",
   "metadata": {},
   "source": [
    "### Obtain the Photometry Data"
   ]
  },
  {
   "cell_type": "markdown",
   "id": "3d6e71c1",
   "metadata": {},
   "source": [
    "Now we can obtain a photometry data from the image.\n",
    "\n",
    "```ecl> phot <image_name.fits>```\n",
    "- Click the center of the target you want to measure.\n",
    "- Type ```space```\n",
    "- A plot and the data will be created.\n",
    "- Type ```q```\n",
    "\n",
    "Open ```<filename>``` on the data directory\n",
    "- Check the magnitude and error"
   ]
  },
  {
   "cell_type": "markdown",
   "id": "a8a54d54",
   "metadata": {},
   "source": [
    "### Example: NGC4151"
   ]
  },
  {
   "cell_type": "markdown",
   "id": "6eca0f5f",
   "metadata": {},
   "source": [
    "```ecl> phot cpt1m010-kb70-20160205-0325-e90.fits```\n",
    "- Click the center of the target you want to measure.\n",
    "- Type ```space```\n",
    "- A plot and the data (ngc4151) will be created.\n",
    "- Type ```q```"
   ]
  },
  {
   "cell_type": "markdown",
   "id": "7c28bcc9",
   "metadata": {},
   "source": [
    "Open ```ngc4151``` and check the magnitude and error\n",
    "- Magnitude: 11.426\n",
    "- Error: 0.003"
   ]
  },
  {
   "cell_type": "markdown",
   "id": "98fc3fb3",
   "metadata": {},
   "source": [
    "### Determing the PSF (Width of the Gaussian of the Point Source)"
   ]
  },
  {
   "cell_type": "markdown",
   "id": "4276312b",
   "metadata": {},
   "source": [
    "```ecl> imexamine```\n",
    "- Click the center of the point source (NOT THE TARGET GALAXY) you want to measure the PSF.\n",
    "- Type ```r``` to see a radial profile with plot will be shown.\n",
    "- Type ```q``` to quit."
   ]
  },
  {
   "cell_type": "markdown",
   "id": "baf821e5",
   "metadata": {},
   "source": [
    "### Example: NGC4151"
   ]
  },
  {
   "cell_type": "markdown",
   "id": "2fff6b73",
   "metadata": {},
   "source": [
    "```ecl> imexamine```\n",
    "- Click the point source located at the lower left side of the galaxy\n",
    "- Type ```r``` to see a radial profile with plot will be shown.\n",
    "\n",
    "![alt text](images/point_ngc4151.png)\n",
    "\n",
    "- Type ```,``` to get data. \n",
    "\n",
    "|   COL  |   LINE |  RMAG |  FLUX  |   SKY  | N  | RMOM | ELLIP |   PA |  PEAK   | MFWHM|\n",
    "|:-------|:------:|:-----:|:------:|:------:|:--:|:----:|:-----:|:----:|:-------:|-----:|\n",
    "| 958.95 | 917.09 | 16.66 | 2170.6 | 119.63 | 75 | 1.24 | 2.871 | 44.1 | 1050.17 | 1.21 |\n",
    "\n",
    "- Type ```q``` to quit."
   ]
  },
  {
   "cell_type": "markdown",
   "id": "a7fb55c4",
   "metadata": {},
   "source": [
    "## Results"
   ]
  },
  {
   "cell_type": "markdown",
   "id": "8bbe922e",
   "metadata": {},
   "source": [
    "|Source |Filter|Date      |Seeing (Pixel)|Pixel Size(arcsec/pixels)| Seeing (arcsec)|Size of the UVOT aperture (\")|\n",
    "|:------|:----:|:--------:|:------------:|:-----------------------:|:--------------:|----------------------------:|\n",
    "|NGC4151|V     |2016-02-05|1.21          | 0.467                   |  0.5650        | 5\n",
    "|NGC5548|"
   ]
  }
 ],
 "metadata": {
  "kernelspec": {
   "display_name": "Python 3 (ipykernel)",
   "language": "python",
   "name": "python3"
  },
  "language_info": {
   "codemirror_mode": {
    "name": "ipython",
    "version": 3
   },
   "file_extension": ".py",
   "mimetype": "text/x-python",
   "name": "python",
   "nbconvert_exporter": "python",
   "pygments_lexer": "ipython3",
   "version": "3.8.2"
  }
 },
 "nbformat": 4,
 "nbformat_minor": 5
}
