{
 "cells": [
  {
   "cell_type": "markdown",
   "id": "e32d20f2",
   "metadata": {},
   "source": [
    "# Host Galaxy Contribution Removal"
   ]
  },
  {
   "cell_type": "markdown",
   "id": "75daed5e",
   "metadata": {},
   "source": [
    "## Machine Environment"
   ]
  },
  {
   "cell_type": "markdown",
   "id": "f86f44ec",
   "metadata": {},
   "source": [
    "- macOS Catalina 10.15.7\n",
    "- [SAOImageDS9](https://sites.google.com/cfa.harvard.edu/saoimageds9)\n",
    "- [NOAO/IRAV V2.16.1](https://research.iac.es/sieinvens/siepedia/pmwiki.php?n=HOWTOs.IrafMacOSX)"
   ]
  },
  {
   "cell_type": "markdown",
   "id": "7ed040dd",
   "metadata": {},
   "source": [
    "## List of AGN"
   ]
  },
  {
   "cell_type": "markdown",
   "id": "a6b1981e",
   "metadata": {},
   "source": [
    "### [NGC4151](https://iopscience.iop.org/article/10.3847/1538-4357/aa6890)\n",
    "\n",
    "- Size of the aperture: 5\"\n",
    "\n",
    "> [Reference: Edelson et al. 2017, ApJ](https://iopscience.iop.org/article/10.3847/1538-4357/aa6890)\n",
    "\n",
    "> In Section 2.3. UVOT Data Reduction:\n",
    "> ... The UVOT data were taken in a six-filter, blue-weighted mode in which the four longest-wavelength filters (uvw1, u, b, and v) are observed using 5\" × 5\" hardware windows. ...\n",
    "\n",
    "> ... Fluxes were measured using a **5\" radius circular aperture**, and concentric 40\"–90\" radius annuli were used to measure the sky background level. ...\n",
    "\n",
    "\n",
    "### [NGC5548](https://iopscience.iop.org/article/10.1088/0004-637X/806/1/129)\n",
    "\n",
    "- Size of the aperture: 5\"\n",
    "\n",
    "> [Reference: Edelson et al. 2015, ApJ](https://iopscience.iop.org/article/10.1088/0004-637X/806/1/129)\n",
    "\n",
    "> In Section 2.2. UVOT Data Reduction:\n",
    "> ... Fluxes were measured using a **5 arcsec circular aperture** and concentric 40–90 arcsec regions were used to measure the sky background level. ...\n",
    "\n",
    "> Also in Section 2.2, \n",
    "> ... The galaxy contributes a fraction of the observed flux within the UVOT apertures (see Section 4.4) but no attempt was made to remove the contribution of host galaxy flux, as this contamination is constant and will not affect measurement of interband temporal correlations or absolute variability amplitudes. ..."
   ]
  },
  {
   "cell_type": "markdown",
   "id": "0ac0e05f",
   "metadata": {},
   "source": [
    "## Download the data from LCO Catalog"
   ]
  },
  {
   "cell_type": "markdown",
   "id": "e8c77268",
   "metadata": {},
   "source": [
    "Download the optical data from [LCO archive](https://archive.lco.global/)"
   ]
  },
  {
   "cell_type": "markdown",
   "id": "777d6b5d",
   "metadata": {},
   "source": [
    "### NGC4151"
   ]
  },
  {
   "cell_type": "markdown",
   "id": "37fa11b7",
   "metadata": {},
   "source": [
    "#### Search Keywords\n",
    "- Time: All Time\n",
    "- Proposal: All\n",
    "- Object: NGC4151\n",
    "\n",
    "#### Result\n",
    "\n",
    "![alt text](images/lco_archive_ngc4151.png)\n",
    "- Download ```cpt1m010-kb70-20160205-0325-e90.fits```"
   ]
  },
  {
   "cell_type": "markdown",
   "id": "2b9cf92b",
   "metadata": {},
   "source": [
    "### NGC5548"
   ]
  },
  {
   "cell_type": "markdown",
   "id": "aa98fa3b",
   "metadata": {},
   "source": [
    "#### Search Keywords\n",
    "- Time: All Time\n",
    "- Proposal: All\n",
    "- Image Name: NGC5548\n",
    "\n",
    "#### Result\n",
    "\n",
    "There is no data during the UVOT observation time.\n"
   ]
  },
  {
   "cell_type": "markdown",
   "id": "e46e6fc7",
   "metadata": {},
   "source": [
    "## Data Analysis using IRAF"
   ]
  },
  {
   "cell_type": "markdown",
   "id": "705cd8f3",
   "metadata": {},
   "source": [
    "### Intial Setup"
   ]
  },
  {
   "cell_type": "markdown",
   "id": "ba2823d8",
   "metadata": {},
   "source": [
    "- Go to the data directory\n",
    "- Open ```ds9```\n",
    "- Open another terminal using ```xgterm```\n",
    "- Open IRAF using ```ecl``` on ```xgterm```"
   ]
  },
  {
   "cell_type": "markdown",
   "id": "aa290983",
   "metadata": {},
   "source": [
    "### Open An Image File"
   ]
  },
  {
   "cell_type": "markdown",
   "id": "7e819cf7",
   "metadata": {},
   "source": [
    "```ecl> display <image_name.fits> 1 ```"
   ]
  },
  {
   "cell_type": "markdown",
   "id": "2c4443fe",
   "metadata": {},
   "source": [
    "### Example: NGC4151"
   ]
  },
  {
   "cell_type": "markdown",
   "id": "620a68b8",
   "metadata": {},
   "source": [
    "```ecl> display cpt1m010-kb70-20160205-0325-e90.fits 1```\n",
    "\n",
    "```z1=68.4315 z2=233.8968```"
   ]
  },
  {
   "cell_type": "markdown",
   "id": "e810c1f2",
   "metadata": {},
   "source": [
    "![alt text](images/image_ngc4151.png)"
   ]
  },
  {
   "cell_type": "markdown",
   "id": "b5db1898",
   "metadata": {},
   "source": [
    "### Initial Photometric Parameter Settings"
   ]
  },
  {
   "cell_type": "markdown",
   "id": "9d3e006f",
   "metadata": {},
   "source": [
    "- ```ecl> epar phot``` and change some properties\n",
    " - ```output: <filename>```\n",
    " - ```interact: yes```\n",
    " - ```radplot: yes```\n",
    " \n",
    "- Type ```:q``` to exit"
   ]
  },
  {
   "cell_type": "markdown",
   "id": "fe8f2ab1",
   "metadata": {},
   "source": [
    "### Example: NGC4151"
   ]
  },
  {
   "cell_type": "markdown",
   "id": "e965f4f3",
   "metadata": {},
   "source": [
    "```ecl> epar phot```\n",
    " - ```output: ngc4151```\n",
    " - ```interact: yes```\n",
    " - ```radplot: yes```"
   ]
  },
  {
   "cell_type": "markdown",
   "id": "635f0b4c",
   "metadata": {},
   "source": [
    "```\n",
    "I R A F  \n",
    "Image Reduction and Analysis Facility\n",
    "PACKAGE = apphot\n",
    "   TASK = phot\n",
    "\n",
    "image   = cpt1m010-kb70-20160205-0325-e90.fits  The input image(s)\n",
    "skyfile =                       The input sky file(s)\n",
    "(coords =                     ) The input coordinate files(s) (default: image.coo.?)\n",
    "(output =              ngc4151) The output photometry file(s) (default: image.mag.?)\n",
    "(plotfil=                     ) The output plots metacode file\n",
    "(datapar=                     ) Data dependent parameters\n",
    "(centerp=                     ) Centering parameters\n",
    "(fitskyp=                     ) Sky fitting parameters\n",
    "(photpar=                     ) Photometry parameters\n",
    "(interac=                  yes) Interactive mode ?\n",
    "(radplot=                  yes) Plot the radial profiles in interactive mode ?\n",
    "(icomman=                     ) Image cursor: [x y wcs] key [cmd]\n",
    "(gcomman=                     ) Graphics cursor: [x y wcs] key [cmd]\n",
    "(wcsin  =             )_.wcsin) The input coordinate system (logical,tv,physical,world)\n",
    "(wcsout =            )_.wcsout) The output coordinate system (logical,tv,physical)\n",
    "(cache  =             )_.cache) Cache the input image pixels in memory ?\n",
    "(verify =            )_.verify) Verify critical parameters in non-interactive mode ?\n",
    "(update =            )_.update) Update critical parameters in non-interactive mode ?\n",
    "(verbose=           )_.verbose) Print messages in non-interactive mode ?\n",
    "(graphic=          )_.graphics) Graphics device\n",
    "(display=           )_.display) Display device\n",
    "(mode   =                   ql)\n",
    "```\n",
    "\n",
    "```:q```"
   ]
  },
  {
   "cell_type": "markdown",
   "id": "420a51c2",
   "metadata": {},
   "source": [
    "### Add the size of the aperture (Photometric Parameters)"
   ]
  },
  {
   "cell_type": "markdown",
   "id": "104cf3a1",
   "metadata": {},
   "source": [
    "#### Calculate the aperture size in pixel\n",
    "\n",
    "We can calculate the size of the pixel using the header of the fits file.\n",
    "\n",
    "- Open the fits file using ```DS9```\n",
    " - Find ```PIXSCALE``` in the header\n",
    " - (Aperture size in pixel) = (Apperture size in arcsec)/(PIXSCALE)"
   ]
  },
  {
   "cell_type": "markdown",
   "id": "4ee872ec",
   "metadata": {},
   "source": [
    "#### Input the aperture value\n",
    "\n",
    "- ```ecl> epar photpars```\n",
    " - ```aperture <size>```\n",
    " - Insert the aperture size in pixel\n",
    "- Type ```:q``` to exit"
   ]
  },
  {
   "cell_type": "markdown",
   "id": "b0b41d5e",
   "metadata": {},
   "source": [
    "### Example: NGC4151"
   ]
  },
  {
   "cell_type": "markdown",
   "id": "d2a0a0ef",
   "metadata": {},
   "source": [
    "Open ```cpt1m010-kb70-20160205-0325-e90.fits``` using ```DS9```\n",
    "\n",
    "- Header: ```PIXSCALE=    0.467 / [arcsec/pixel] Nominal pixel scale on sky```\n",
    " - Host galaxy size in pixel = 5\"/0.467 = 11\n",
    " \n",
    "Note that you need to open the fits file using ```DS9```, not ```IRAF``` to see the header."
   ]
  },
  {
   "cell_type": "markdown",
   "id": "5819f6d7",
   "metadata": {},
   "source": [
    "```ecl> epar photpars```\n",
    "\n",
    "\n",
    "```\n",
    "I R A F  \n",
    "                    Image Reduction and Analysis Facility\n",
    "PACKAGE = apphot\n",
    "   TASK = photpars\n",
    "\n",
    "(weighti=             constant) Photometric weighting scheme for wphot\n",
    "(apertur=                   11) List of aperture radii in scale units\n",
    "(zmag   =                  25.) Zero point of magnitude scale\n",
    "(mkapert=                   no) Draw apertures on the display\n",
    "(mode   =                   ql)\n",
    "```\n",
    "\n",
    "```:q```"
   ]
  },
  {
   "cell_type": "markdown",
   "id": "aab3d3ed",
   "metadata": {},
   "source": [
    "### Insert the sky algorithm parameters"
   ]
  },
  {
   "cell_type": "markdown",
   "id": "832c6686",
   "metadata": {},
   "source": [
    "We can put the size and width of the annulus. The size of the annulus should be 1.5 time the size of the aperture. We will use the same value for host galaxy and the core as well.\n",
    "\n",
    "- ```ecl> epar fitskypars```\n",
    " - ```annulus: <1.5 x the size of the aperture >```\n",
    " - ```dannulus: <annulus - aperture>```\n",
    "- Type ```:q``` to quit"
   ]
  },
  {
   "cell_type": "markdown",
   "id": "734cac88",
   "metadata": {},
   "source": [
    "### Example: NGC4151"
   ]
  },
  {
   "cell_type": "markdown",
   "id": "fcacfbc4",
   "metadata": {},
   "source": [
    "```ecl> epar fitskypars```\n",
    "\n",
    "- ```(annulus=                  17.) Inner radius of sky annulus in scale units```\n",
    "- ```(dannulu=                   5.) Width of sky annulus in scale units```\n",
    "\n",
    "\n",
    "```                                   \n",
    "I R A F  \n",
    "                    Image Reduction and Analysis Facility\n",
    "PACKAGE = apphot\n",
    "   TASK = fitskypars\n",
    "\n",
    "(salgori=             centroid) Sky fitting algorithm\n",
    "(annulus=                  17.) Inner radius of sky annulus in scale units\n",
    "(dannulu=                   5.) Width of sky annulus in scale units\n",
    "(skyvalu=                   0.) User sky value\n",
    "(smaxite=                   10) Maximum number of sky fitting iterations\n",
    "(sloclip=                   0.) Lower clipping factor in percent\n",
    "(shiclip=                   0.) Upper clipping factor in percent\n",
    "(snrejec=                   50) Maximum number of sky fitting rejection iteratio\n",
    "(sloreje=                   3.) Lower K-sigma rejection limit in sky sigma\n",
    "(shireje=                   3.) Upper K-sigma rejection limit in sky sigma\n",
    "(khist  =                   3.) Half width of histogram in sky sigma\n",
    "(binsize=     0.10000000149012) Binsize of histogram in sky sigma\n",
    "(smooth =                   no) Boxcar smooth the histogram\n",
    "(rgrow  =                   0.) Region growing radius in scale units\n",
    "(mksky  =                   no) Mark sky annuli on the display\n",
    "(mode   =                   ql)\n",
    "```\n",
    "\n",
    "```:q```"
   ]
  },
  {
   "cell_type": "markdown",
   "id": "d0a5509a",
   "metadata": {},
   "source": [
    "### Obtain the Photometry Data"
   ]
  },
  {
   "cell_type": "markdown",
   "id": "3d6e71c1",
   "metadata": {},
   "source": [
    "Now we can obtain a photometry data from the image.\n",
    "\n",
    "```ecl> phot <image_name.fits>```\n",
    "- Click the center of the target you want to measure.\n",
    "- Type ```space```\n",
    "- A plot and the data will be created.\n",
    "- Type ```q```\n",
    "\n",
    "Open ```<filename>``` on the data directory\n",
    "- Check the magnitude and error"
   ]
  },
  {
   "cell_type": "markdown",
   "id": "a8a54d54",
   "metadata": {},
   "source": [
    "### Example: NGC4151"
   ]
  },
  {
   "cell_type": "markdown",
   "id": "6eca0f5f",
   "metadata": {},
   "source": [
    "```ecl> phot cpt1m010-kb70-20160205-0325-e90.fits```\n",
    "- Click the center of the target you want to measure.\n",
    "- Type ```space```\n",
    "- A plot and the data (ngc4151) will be created.\n",
    "- Type ```q```"
   ]
  },
  {
   "cell_type": "markdown",
   "id": "7c28bcc9",
   "metadata": {},
   "source": [
    "Open ```ngc4151``` and check the magnitude and error\n",
    "- Magnitude: 11.426\n",
    "- Error: 0.003"
   ]
  },
  {
   "cell_type": "markdown",
   "id": "98fc3fb3",
   "metadata": {},
   "source": [
    "### Determing the PSF (Width of the Gaussian of the Point Source)"
   ]
  },
  {
   "cell_type": "markdown",
   "id": "4276312b",
   "metadata": {},
   "source": [
    "```ecl> imexamine```\n",
    "- Click the center of the point source (NOT THE TARGET GALAXY) you want to measure the PSF.\n",
    "- Type ```r``` to see a radial profile with plot will be shown.\n",
    "- Type ```q``` to quit."
   ]
  },
  {
   "cell_type": "markdown",
   "id": "baf821e5",
   "metadata": {},
   "source": [
    "### Example: NGC4151"
   ]
  },
  {
   "cell_type": "markdown",
   "id": "2fff6b73",
   "metadata": {},
   "source": [
    "```ecl> imexamine```\n",
    "- Click the point source located at the lower left side of the galaxy\n",
    "- Type ```r``` to see a radial profile with plot will be shown.\n",
    "\n",
    "![alt text](images/point_ngc4151.png)\n",
    "\n",
    "- Type ```,``` to get data. \n",
    "\n",
    "|   COL  |   LINE |  RMAG |  FLUX  |   SKY  | N  | RMOM | ELLIP |   PA |  PEAK   | MFWHM|\n",
    "|:-------|:------:|:-----:|:------:|:------:|:--:|:----:|:-----:|:----:|:-------:|-----:|\n",
    "| 958.95 | 917.09 | 16.66 | 2170.6 | 119.63 | 75 | 1.24 | 2.871 | 44.1 | 1050.17 | 1.21 |\n",
    "| 831.69 |1230.02 |  15.98|  4045.5|  116.02|  77|  2.71| 0.038 |-27.5 |  199.37 | 3.83 |\n",
    "| 956.19 |1189.56 |  17.62|   894.1|  115.59|  79|  0.00| 0.340 |-59.5 |   INDEF |INDEF |\n",
    "|1126.04 |1174.08 |  16.09|  3679.2|  119.04|  75|  0.49| 6.202 |-48.5 | 2207.12 | 1.10 |\n",
    "|1174.40 | 998.30 |  16.66|  2173.2|  117.58|  80|  1.83| 0.387 |-76.3 |  439.90 | 2.10 |\n",
    "| 956.19 |1189.56 |  17.62|   894.1|  115.59|  79|  0.00| 0.340 |-59.5 |   INDEF |INDEF |\n",
    "| 942.25 |1079.09 |  17.83|   735.1|  117.05|  78|  1.77| 1.265 |-82.3 |  574.13 | 0.79 |\n",
    "\n",
    "\n",
    "- Type ```q``` to quit."
   ]
  },
  {
   "cell_type": "markdown",
   "id": "a7fb55c4",
   "metadata": {},
   "source": [
    "## Results"
   ]
  },
  {
   "cell_type": "markdown",
   "id": "8bbe922e",
   "metadata": {},
   "source": [
    "|Source |Filter|Date      |Seeing (Pixel)|Pixel Size(arcsec/pixels)| Seeing (arcsec)|Size of the UVOT aperture (\")|\n",
    "|:------|:----:|:--------:|:------------:|:-----------------------:|:--------------:|----------------------------:|\n",
    "|NGC4151|V     |2016-02-06|1.21          | 0.467                   |  0.5650        | 5|\n",
    "|NGC4151|V     |2016-02-06|3.83          | 0.467                   |  1.78861        | 5|\n",
    "|NGC4151|V     |2016-02-06|1.10          | 0.467                   |  0.5137        | 5|\n",
    "|NGC4151|V     |2016-02-06|2.10          | 0.467                   |  0.9807        | 5|\n",
    "|NGC4151|V     |2016-02-06|0.79          | 0.467                   |  0.36893        | 5|\n",
    "|NGC5548|"
   ]
  },
  {
   "cell_type": "markdown",
   "id": "b49d8318",
   "metadata": {},
   "source": [
    "## Appendix I. Converting the JD (Julian Day) to date"
   ]
  },
  {
   "cell_type": "markdown",
   "id": "47e3fa0a",
   "metadata": {},
   "source": [
    "57438.36543 to 57505.83229\n",
    "\n",
    "02-20-2016 to 04-27-2016\n"
   ]
  },
  {
   "cell_type": "markdown",
   "id": "273dd10b",
   "metadata": {},
   "source": [
    "Use this website http://www.csgnetwork.com/julianmodifdateconv.html"
   ]
  },
  {
   "cell_type": "markdown",
   "id": "a117d5c8",
   "metadata": {},
   "source": [
    "### From HJD (Heliocentric Julidan Day) to date"
   ]
  },
  {
   "cell_type": "markdown",
   "id": "e9f44b58",
   "metadata": {},
   "source": [
    "Used this website: https://britastro.org/computing/applets_dt.html\n",
    "NGC5548\n",
    "\n",
    "V band HJD: 2454270.83500\n",
    "\n",
    "2007 Jun 19 8:2:23 UTC\n",
    "\n",
    "to 2456875.609\n",
    "\n",
    "2014 Aug 6 2:36:57 UTC\n"
   ]
  },
  {
   "cell_type": "markdown",
   "id": "f6b96dd8",
   "metadata": {},
   "source": [
    "## Appendix II. Unpacking the fz format"
   ]
  },
  {
   "cell_type": "markdown",
   "id": "08265c11",
   "metadata": {},
   "source": [
    "In order to unzip the fz format (FITS compressed file), we need to use fpack or funpack. \n",
    "\n",
    "https://heasarc.gsfc.nasa.gov/fitsio/fpack/\n",
    "\n",
    "Usually, when you download the HEASOFT or CFITSIO, then both commands are included, but in my case, it didn't work. So I needed to download the CFITSIO source code, and compile them on my own.\n",
    "\n",
    "```./configure\n",
    "make\n",
    "make fpack\n",
    "make funpack```\n",
    "\n",
    "Then, when you move ```fpack``` and ```funpack``` executes to bin or local bin, you can use them."
   ]
  },
  {
   "cell_type": "markdown",
   "id": "1878744a",
   "metadata": {},
   "source": [
    "## Appendix III. Resolve the homebrew permission error "
   ]
  },
  {
   "cell_type": "markdown",
   "id": "9ae04dba",
   "metadata": {},
   "source": [
    "Since this machine is too old, there are some competibility issues. Even there was a problem with updating, installing packages via ```brew```. So I needed to fix it.\n",
    "\n",
    "```sudo chown -R $(whoami) $(brew --prefix)/*```\n",
    "\n",
    "```brew doctor```\n",
    "\n",
    "https://github.com/Homebrew/brew/issues/3228"
   ]
  },
  {
   "cell_type": "markdown",
   "id": "686446ea",
   "metadata": {},
   "source": [
    "## Appendix IV. How to scale image to fit display window in IRAF"
   ]
  },
  {
   "cell_type": "markdown",
   "id": "33fb9b1d",
   "metadata": {},
   "source": [
    "Issue: sometimes the image opened via ```IRAF``` and via ```DS9``` are different. This causes the scaling problem that causes producing the different seeing eventually. \n",
    "\n",
    "\n",
    "How to solve it?\n",
    "\n",
    "In ```IRAF```\n",
    "\n",
    "- ```ecl>epar display```\n",
    " - ```fill = yes```\n",
    " - ```:q``` to quit\n",
    "- ```ecl> rest stdimage=imt2048```\n",
    "- Then, open the image using ```display``` command in ```IRAF```"
   ]
  },
  {
   "cell_type": "markdown",
   "id": "e5113738",
   "metadata": {},
   "source": [
    "# Tabulating the seeing"
   ]
  },
  {
   "cell_type": "markdown",
   "id": "8dd0b2f0",
   "metadata": {},
   "source": [
    "Every image has the same PIXSCALE=            0.3010400 / [arcsec/pixel] Nominal pixel scale on sky      \n",
    "\n",
    "That means the aperture size is also the same: 5\"/0.3010400(\"/pixel) = 16.60908849 -> rounded up to 17\n",
    "\n",
    "annulus = 26\n",
    "dannulu = 9"
   ]
  },
  {
   "cell_type": "markdown",
   "id": "1435e596",
   "metadata": {},
   "source": [
    "## ogg2m001-fs02-20160302-0121-e91.fits\n"
   ]
  },
  {
   "cell_type": "markdown",
   "id": "1fd0cb3e",
   "metadata": {},
   "source": [
    "   COL    LINE    RMAG     FLUX      SKY   N  RMOM ELLIP    PA     PEAK MFWHM\n",
    " 110.16 1442.83   14.41  17203.7    83.80  79  3.25 0.121  17.4   652.12  4.74\n",
    "1044.59 1497.49    8.98 2556387.3   307.45  78  2.86 0.137  17.5 101030.2  4.57\n",
    "1070.61 1282.70   11.33 293087.2   121.62  80  2.89 0.155  19.0 11329.92  4.62\n",
    " 798.69 1193.57   14.73  12784.9    87.49  79  4.27 0.141  22.0   485.17  4.81\n",
    " 717.31  938.09   15.15   8727.0    88.72  78  3.98 0.172  12.6   328.91  4.85\n",
    "1280.51  946.38   11.89 176092.9   104.63  78  2.32 0.149  17.8  7108.54  4.47\n",
    "1480.60 1302.95   14.59  14653.1    86.01  79  3.56 0.141  14.9   608.47  4.44\n",
    "1860.89 1582.34   13.91  27258.2    85.17  78  2.00 0.103  26.0  1043.77  4.65\n",
    "1775.24   78.65   10.04 960678.8   163.79  80  2.47 0.141  18.6 38840.11  4.46\n",
    "1343.74  444.44   12.59  92158.3    92.11  81  3.41 0.150  18.6  3631.34  4.60\n",
    "1522.58  400.46   14.88  11171.1    85.83  79  4.13 0.150  16.8   429.30  4.80\n",
    " 583.29   45.40    7.32 11798671.5  1056.74  80  2.47 0.159  18.7 486393.0  4.39"
   ]
  },
  {
   "cell_type": "markdown",
   "id": "481b27ea",
   "metadata": {},
   "source": [
    "## ogg2m001-fs02-20160302-0122-e91.fits"
   ]
  },
  {
   "cell_type": "markdown",
   "id": "0f7e7615",
   "metadata": {},
   "source": [
    "PIXSCALE=            0.3010400 / [arcsec/pixel] Nominal pixel scale on sky      \n"
   ]
  },
  {
   "cell_type": "markdown",
   "id": "318957b9",
   "metadata": {},
   "source": [
    "   COL    LINE    RMAG     FLUX      SKY   N  RMOM ELLIP    PA     PEAK MFWHM\n",
    "1047.79 1497.40    9.01 2491014.0   356.66  80  3.00 0.089  23.2 100652.5  4.48\n",
    "1073.85 1282.64   11.38 281150.5   128.24  79  3.17 0.091  27.5 11431.35  4.49\n",
    "1283.72  946.28   11.92 170348.5   104.21  79  2.25 0.104  19.1  7039.71  4.38\n",
    " 769.87  262.28   10.35 722942.0   165.53  78  2.61 0.103  20.6 30350.50  4.36\n",
    " 586.63   45.37    7.36 11369785.5  1272.46  81  2.58 0.109  16.8 471490.2  4.36\n",
    "1778.44   78.59   10.09 923921.4   184.17  79  1.95 0.117  23.5 38599.44  4.33\n"
   ]
  },
  {
   "cell_type": "markdown",
   "id": "49ceab09",
   "metadata": {},
   "source": [
    "## ogg2m001-fs02-20160304-0109-e91.fits"
   ]
  },
  {
   "cell_type": "markdown",
   "id": "0a44fb8c",
   "metadata": {},
   "source": [
    "PIXSCALE=            0.3010400 / [arcsec/pixel] Nominal pixel scale on sky      \n"
   ]
  },
  {
   "cell_type": "markdown",
   "id": "76e008f4",
   "metadata": {},
   "source": [
    "   COL    LINE    RMAG     FLUX      SKY   N  RMOM ELLIP    PA     PEAK MFWHM\n",
    "   \n",
    " 116.46 1414.90   14.25  19917.7    67.21  80  2.10 0.102 -19.2  1123.02  3.58\n",
    " \n",
    "\n",
    "1050.95 1469.56    8.83 2940762.4   260.94  79  2.92 0.064 -29.8 161628.5  3.72\n",
    "\n",
    "\n",
    "1076.97 1254.84   11.20 331643.4   102.33  77  2.63 0.075 -33.3 18347.76  3.69\n",
    "\n",
    "1286.94  918.52   11.74 200871.6    80.04  80  2.83 0.066 -36.0 11014.75  3.71\n",
    "\n",
    "772.83  234.51   10.17 856514.4   121.52  79  2.83 0.072 -26.9 47870.35  3.67\n",
    "\n",
    "1350.25  416.62   12.46 103654.3    72.57  80  2.48 0.069 -26.8  5804.03  3.63\n",
    "\n",
    "1842.80  186.56   14.10  22967.2    66.60  79  2.62 0.064 -30.5  1295.75  3.64\n",
    "\n",
    "1867.42 1554.51   13.77  31058.3    68.73  78  2.78 0.073 -30.6  1701.88  3.73\n",
    "\n"
   ]
  },
  {
   "cell_type": "markdown",
   "id": "d4666fda",
   "metadata": {},
   "source": [
    "## ogg2m001-fs02-20160304-0110-e91.fits"
   ]
  },
  {
   "cell_type": "markdown",
   "id": "7e482ab8",
   "metadata": {},
   "source": [
    "PIXSCALE=            0.3010400 / [arcsec/pixel] Nominal pixel scale on sky      \n"
   ]
  },
  {
   "cell_type": "markdown",
   "id": "93534537",
   "metadata": {},
   "source": [
    "   COL    LINE    RMAG     FLUX      SKY   N  RMOM ELLIP    PA     PEAK MFWHM\n",
    "   \n",
    "\n",
    "1052.26 1468.74    8.82 2970341.3   248.38  79  3.14 0.110 -14.1 151568.3  3.94\n",
    "\n",
    "\n",
    "1078.28 1254.07   11.18 336791.2   101.18  78  3.25 0.116 -12.5 17346.57  3.93\n",
    "\n",
    "774.15  233.70   10.16 865288.4   121.26  78  3.15 0.121 -15.3 45369.82  3.88\n",
    "\n",
    "1783.02   50.14    9.91 1089793.0   131.54  77  2.98 0.096 -11.3 58416.55  3.82\n",
    "\n",
    "1288.24  917.67   11.73 203140.6    80.15  79  2.79 0.123 -15.7 10552.83  3.86\n",
    "\n",
    "1351.52  415.85   12.45 104538.7    72.01  79  2.63 0.125  -9.8  5471.27  3.83\n",
    "\n",
    "1488.39 1274.39   14.41  17272.2    69.77  81  2.31 0.137 -11.8   910.72  3.75\n"
   ]
  },
  {
   "cell_type": "markdown",
   "id": "90bad117",
   "metadata": {},
   "source": [
    "## ogg2m001-fs02-20160307-0077-e91.fits"
   ]
  },
  {
   "cell_type": "markdown",
   "id": "9914ec8e",
   "metadata": {},
   "source": [
    "PIXSCALE=            0.3010400 / [arcsec/pixel] Nominal pixel scale on sky      \n"
   ]
  },
  {
   "cell_type": "markdown",
   "id": "bba35b8e",
   "metadata": {},
   "source": [
    "Not opened in IRAF\n",
    "\n",
    "ERROR: FXF: must specify which FITS extension (ogg2m001-fs02-20160307-0077-e91.fits)"
   ]
  },
  {
   "cell_type": "markdown",
   "id": "5c2d2cc0",
   "metadata": {},
   "source": [
    "## ogg2m001-fs02-20160307-0078-e91.fits"
   ]
  },
  {
   "cell_type": "markdown",
   "id": "d9179cf2",
   "metadata": {},
   "source": [
    "PIXSCALE=            0.3010400 / [arcsec/pixel] Nominal pixel scale on sky      \n"
   ]
  },
  {
   "cell_type": "markdown",
   "id": "3c02e2fa",
   "metadata": {},
   "source": [
    "   COL    LINE    RMAG     FLUX      SKY   N  RMOM ELLIP    PA     PEAK MFWHM\n",
    "\n",
    "359.16 1827.06   15.11   9048.1   113.42  77  3.30 0.040  -4.9   225.88  6.59\n",
    "\n",
    "599.17   39.39    8.60 3637513.3   326.53  79  2.87 0.067   7.3 182181.8  3.94\n",
    "\n",
    "1791.01   72.66   11.31 299392.8   109.72  76  3.33 0.051   8.9 14568.28  4.09\n",
    "\n",
    "782.38  256.36   11.56 238428.9   104.07  81  2.80 0.091   9.1 11826.04  3.95\n",
    "\n",
    "1359.67  438.52   13.84  29030.5    89.36  79  3.57 0.067   9.8  1427.49  4.07\n",
    "\n",
    "1296.29  940.36   13.12  56410.7    90.46  80  2.67 0.089  10.8  2778.03  3.96\n",
    "\n",
    "1086.37 1276.66   12.57  93784.8    96.29  81  3.13 0.064   4.1  4557.66  4.04\n",
    "\n",
    "1060.33 1491.45   10.23 806802.5   144.07  79  2.89 0.091  11.4 39210.04  4.01\n",
    "\n",
    "1496.20 1296.93   15.76   4976.8    87.87  78  1.94 0.109   2.4   245.33  3.90\n",
    "\n",
    "1359.67  438.52   13.84  29030.5    89.36  79  3.57 0.067   9.8  1427.49  4.07"
   ]
  },
  {
   "cell_type": "markdown",
   "id": "4988d9c4",
   "metadata": {},
   "source": [
    "## ogg2m001-fs02-20160314-0045-e91.fits\n",
    "\n",
    "Not working"
   ]
  },
  {
   "cell_type": "markdown",
   "id": "ec905f1e",
   "metadata": {},
   "source": [
    "## ogg2m001-fs02-20160314-0046-e91.fits\n",
    "\n",
    "Not working"
   ]
  },
  {
   "cell_type": "markdown",
   "id": "b7a4e2d2",
   "metadata": {},
   "source": [
    "## ogg2m001-fs02-20160318-0105-e91.fits\n",
    "\n",
    "PIXSCALE=            0.3010400 / [arcsec/pixel] Nominal pixel scale on sky      \n"
   ]
  },
  {
   "cell_type": "markdown",
   "id": "3c25b536",
   "metadata": {},
   "source": [
    "   COL    LINE    RMAG     FLUX      SKY   N  RMOM ELLIP    PA     PEAK MFWHM\n",
    "  89.03 1436.52   14.38  17758.0   189.07  80  3.04 0.018 -16.7   705.65  4.59\n",
    "1023.66 1491.22    8.95 2629563.8   501.71  80  3.53 0.040   2.2 101348.3  4.71\n",
    "1049.67 1276.49   11.31 298165.8   235.81  79  3.37 0.044  -2.9 11632.20  4.66\n",
    "1259.68  940.13   11.87 179013.6   213.55  78  3.58 0.049   9.2  6929.14  4.72\n",
    "1516.05 1214.75   15.28   7757.1   196.95  77  4.94 0.126 -75.2   176.35  9.04\n",
    "1459.81 1296.69   14.54  15332.2   188.12  79  3.79 0.030   6.9   536.36  5.37\n",
    "1754.63   72.45   10.04 964558.3   305.13  78  2.92 0.031   1.1 38863.93  4.53\n",
    " 562.42   39.14    7.31 11857742.3  1596.93  79  3.21 0.053   6.8 470230.5  4.59\n",
    " 745.78  256.06   10.30 756652.2   281.79  77  3.19 0.064   3.3 29753.64  4.64\n",
    "1323.06  438.24   12.58  92481.5   200.02  78  4.18 0.023   5.4  3497.17  4.87\n",
    "\n"
   ]
  },
  {
   "cell_type": "markdown",
   "id": "d5edcaa9",
   "metadata": {},
   "source": [
    "## ogg2m001-fs02-20160318-0106-e91.fits"
   ]
  },
  {
   "cell_type": "code",
   "execution_count": null,
   "id": "12981209",
   "metadata": {},
   "outputs": [],
   "source": []
  },
  {
   "cell_type": "markdown",
   "id": "0d71b3fe",
   "metadata": {},
   "source": [
    "   COL    LINE    RMAG     FLUX      SKY   N  RMOM ELLIP    PA     PEAK MFWHM\n",
    "\n",
    "87.24 1437.70   14.36  17970.6   177.12  78  1.34 0.045 -44.3   792.93  4.15\n",
    "\n",
    "1021.87 1492.45    8.93 2687739.9   475.18  79  2.72 0.043 -59.4 119618.0  4.21\n",
    "\n",
    "1047.91 1277.61   11.28 306462.1   220.66  79  2.42 0.029 -65.0 13656.95  4.18\n",
    "\n",
    "1257.95  941.30   11.85 182457.6   200.48  77  2.98 0.037 -63.4  7991.93  4.29\n",
    "\n",
    "1321.31  439.39   12.55  95147.6   190.97  80  3.46 0.018 -64.6  4097.21  4.37\n",
    "\n",
    "744.02  257.19   10.27 776791.6   264.12  77  3.04 0.048 -62.6 34957.52  4.22\n",
    "\n",
    "560.68   40.24    7.29 12166953.2  1452.30  79  2.41 0.047 -43.2 551186.6  4.14\n",
    "\n",
    "1752.87   73.60   10.01 990210.3   292.75  79  2.42 0.034 -65.2 44528.35  4.16\n",
    "\n",
    "1582.54   39.65   13.29  48373.0   179.71  79  2.83 0.048 -59.0  2198.28  4.17\n",
    "\n",
    "1952.62  705.71   13.86  28551.3   181.39  80  2.54 0.027 -33.0  1261.10  4.19\n",
    "\n",
    "1321.32  439.39   12.55  95147.6   190.97  80  3.45 0.018 -64.5  4098.95  4.37\n"
   ]
  },
  {
   "cell_type": "markdown",
   "id": "c43b30bf",
   "metadata": {},
   "source": [
    "## ogg2m001-fs02-20160321-0078-e91.fits\n",
    "\n",
    "Not working"
   ]
  },
  {
   "cell_type": "markdown",
   "id": "44642e58",
   "metadata": {},
   "source": [
    "## ogg2m001-fs02-20160321-0079-e91.fits\n",
    "\n",
    "Not working"
   ]
  },
  {
   "cell_type": "markdown",
   "id": "7aa33482",
   "metadata": {},
   "source": [
    "## ogg2m001-fs02-20160324-0208-e91.fits"
   ]
  },
  {
   "cell_type": "code",
   "execution_count": null,
   "id": "4dc6182f",
   "metadata": {},
   "outputs": [],
   "source": []
  },
  {
   "cell_type": "markdown",
   "id": "980a3002",
   "metadata": {},
   "source": [
    "   COL    LINE    RMAG     FLUX      SKY   N  RMOM ELLIP    PA     PEAK MFWHM\n",
    " 227.98 1938.55   14.21  20662.1  1179.41  79 INDEF 0.036 -70.0   494.39  6.89\n",
    " 335.18 1846.17   15.22   8189.5  1142.40  79  5.09 0.063   4.2   172.02 11.64\n",
    " 837.95 1697.85   12.54  96351.5  1123.50  77 INDEF 0.072  24.3  4709.23  3.87\n",
    " 929.43 1602.81    9.34 1837421.0  1271.33  79  3.08 0.014  21.4 85144.07  4.15\n",
    "1036.29 1511.16   10.28 775388.1  1172.18  78  3.04 0.019  37.3 39769.09  3.91\n",
    " 955.44 1388.01   11.70 209817.0  1137.60  78  3.29 0.035  10.3  9671.90  4.20\n",
    "1062.31 1296.39   12.63  88403.1  1134.95  80  3.32 0.031  46.7  4534.50  3.93\n",
    " 990.19 1045.06   11.62 224549.0  1306.77  77  2.00 0.098 -26.3  8344.01  4.70\n",
    " 883.28 1136.78   10.71 521259.0  1574.46  78 INDEF 0.076 -30.0 18628.55  4.77\n",
    "1165.48 1051.65   12.26 124495.1  1123.71  78  3.20 0.010  55.3  5743.30  4.19\n",
    "1660.48  184.14   10.42 678396.8  1163.22  79  2.69 0.028  26.8 31382.78  4.11\n",
    "1767.43   92.38   11.33 292846.2  1117.17  79  3.00 0.000 INDEF 14689.74  3.94\n",
    " 468.18  150.65    7.69 8362442.2  1832.19  79  3.05 0.021  80.2 395940.0  4.09\n",
    " 574.97   58.90    8.62 3549203.1  1376.24  76  2.96 0.029  59.9 180591.1  3.94\n",
    " 651.53  367.61   10.68 536019.5  1162.27  78  2.89 0.010  46.4 25735.57  4.04\n",
    " 758.43  275.96   11.59 231668.3  1121.70  79  3.16 0.017  20.3 11691.59  3.95\n",
    "\n",
    "But where is the galaxy?"
   ]
  },
  {
   "cell_type": "markdown",
   "id": "3d773d4b",
   "metadata": {},
   "source": [
    "## ogg2m001-fs02-20160324-0209-e91.fits"
   ]
  },
  {
   "cell_type": "code",
   "execution_count": null,
   "id": "374734c8",
   "metadata": {},
   "outputs": [],
   "source": []
  },
  {
   "cell_type": "markdown",
   "id": "ba39e829",
   "metadata": {},
   "source": [
    "   COL    LINE    RMAG     FLUX      SKY   N  RMOM ELLIP    PA     PEAK MFWHM\n",
    " 735.88 1736.94    8.94 2654290.9  1360.21  77  3.56 0.012 -88.6 107169.3  4.60\n",
    " 274.67  284.83    7.29 12109281.8  2251.78  78  3.28 0.028  82.6 485037.9  4.59\n",
    " 458.00  501.79   10.29 763230.5  1193.19  76  3.49 0.065  86.3 30700.40  4.61\n",
    " 761.90 1522.15   11.29 304447.4  1152.68  78  3.03 0.043 -86.6 12306.24  4.54\n",
    " 971.88 1185.80   11.86 180584.1  1130.36  78  2.92 0.041  88.9  7314.06  4.52\n",
    "1035.35  683.95   12.58  93007.9  1120.51  78  3.74 0.017 -69.8  3671.35  4.68\n",
    "1466.87  318.29   10.02 977966.3  1209.48  78  3.22 0.031 -73.6 38871.96  4.60\n",
    "1757.32   98.54   11.38 279498.5  1132.63  79  3.74 0.025 -54.4 10717.47  4.76\n",
    "1871.64  245.85   12.69  84137.7  1108.44  79  3.82 0.010 -64.6  3219.28  4.77\n",
    "1927.75 1418.02   13.78  30864.1  1108.06  77  4.30 0.018 -76.0  1162.27  4.90\n",
    "1926.64 1733.63   13.52  39207.1  1115.13  81  2.88 0.014  39.3  1415.75  5.00\n"
   ]
  },
  {
   "cell_type": "markdown",
   "id": "a88fa052",
   "metadata": {},
   "source": [
    "## ogg2m001-fs02-20160328-0110-e91.fits"
   ]
  },
  {
   "cell_type": "code",
   "execution_count": null,
   "id": "495c83d0",
   "metadata": {},
   "outputs": [],
   "source": []
  },
  {
   "cell_type": "markdown",
   "id": "1f8e0ed8",
   "metadata": {},
   "source": [
    "   COL    LINE    RMAG     FLUX      SKY   N  RMOM ELLIP    PA     PEAK MFWHM\n",
    " 117.26 1440.76   14.41  17208.4   303.19  79  2.00 0.032  26.6   535.17  5.39\n",
    "1052.16 1495.27    9.01 2493979.9   620.85  78  4.17 0.021  36.3 75774.94  5.66\n",
    "1078.14 1280.44   11.36 286313.7   351.23  79  4.07 0.036  49.3  8518.37  5.72\n",
    " 806.17 1191.20   14.80  11993.8   306.70  79  4.15 0.011  15.2   355.10  5.74\n",
    "1288.21  944.17   11.91 172589.7   329.15  78  3.96 0.046  29.8  5244.58  5.65\n",
    "1351.62  442.46   12.63  88859.5   316.52  78  3.95 0.037  21.3  2705.05  5.63\n",
    " 774.13  260.13   10.33 740648.9   399.57  79  3.62 0.030  26.4 23110.38  5.49\n",
    "1783.26   76.72   10.08 933085.9   420.92  79  3.92 0.041  33.2 28375.33  5.62\n",
    "1844.36  212.27   14.28  19365.0   304.71  79  4.05 0.073  29.7   580.28  5.84\n",
    "1351.62  442.46   12.63  88859.5   316.52  78  3.95 0.037  21.3  2705.05  5.63\n",
    "1982.94  708.59   13.92  26999.3   307.85  79  3.67 0.036  49.7   815.00  5.65"
   ]
  },
  {
   "cell_type": "markdown",
   "id": "7a892662",
   "metadata": {},
   "source": [
    "## ogg2m001-fs02-20160328-0111-e91.fits"
   ]
  },
  {
   "cell_type": "code",
   "execution_count": null,
   "id": "3aae2be4",
   "metadata": {},
   "outputs": [],
   "source": []
  },
  {
   "cell_type": "markdown",
   "id": "de87ac4c",
   "metadata": {},
   "source": [
    "   COL    LINE    RMAG     FLUX      SKY   N  RMOM ELLIP    PA     PEAK MFWHM\n",
    " 117.80 1440.20   14.48  16157.8   308.84  79  3.89 0.054  44.4   470.29  5.78\n",
    "1052.59 1494.96    9.03 2432248.8   654.23  79  3.70 0.060  36.2 70838.53  5.79\n",
    "1078.67 1280.17   11.39 277497.1   358.60  78  3.01 0.041  40.1  8150.47  5.74\n",
    " 806.82 1191.15   14.83  11680.2   307.11  79  4.66 0.072  54.2   318.21  6.14\n",
    "1288.73  943.78   11.94 168261.6   333.08  79  3.74 0.040  45.1  4906.62  5.80\n",
    " 725.30  935.57   15.22   8192.4   311.32  80  4.22 0.106  38.2   224.11  6.39\n"
   ]
  },
  {
   "cell_type": "markdown",
   "id": "4172d677",
   "metadata": {},
   "source": [
    "## ogg2m001-fs02-20160329-0110-e91.fits"
   ]
  },
  {
   "cell_type": "code",
   "execution_count": null,
   "id": "bf084ed1",
   "metadata": {},
   "outputs": [],
   "source": []
  },
  {
   "cell_type": "markdown",
   "id": "91881535",
   "metadata": {},
   "source": [
    "   COL    LINE    RMAG     FLUX      SKY   N  RMOM ELLIP    PA     PEAK MFWHM\n",
    "\n",
    "90.80 1451.27   14.15  21912.2   119.20  78  2.53 0.133  84.3  1293.56  3.58\n",
    "\n",
    "1025.64 1506.07    8.72 3248873.1   257.84  78  3.49 0.132  87.2 188963.4  3.74\n",
    "\n",
    "1051.69 1291.33   11.07 373454.6   148.11  81  3.26 0.136  89.2 21637.63  3.69\n",
    "\n",
    "779.67 1202.24   14.51  15691.7   124.78  79  3.20 0.166  86.2   840.77  4.19\n",
    "\n",
    "1261.78  954.97   11.64 221686.9   133.55  77  3.31 0.130  84.1 12968.30  3.71\n",
    "\n",
    "1518.40 1229.96   14.95  10435.1   129.08  79  3.95 0.185 -84.7   317.15  5.59\n",
    "\n",
    "747.76  270.81   10.06 948929.5   163.74  78  3.26 0.131  78.8 54778.53  3.72\n",
    "\n",
    "1818.08  222.93   13.99  25352.1   120.17  75  3.51 0.146  81.9  1606.47  3.58\n",
    "\n",
    "1749.79  331.98   14.55  15162.7   119.10  77  2.72 0.097  77.9   892.18  3.65\n",
    "\n",
    "1756.97   87.39    9.79 1209050.7   172.42  77  0.00 0.159  84.0    INDEF INDEF\n"
   ]
  },
  {
   "cell_type": "markdown",
   "id": "fb4ee1d2",
   "metadata": {},
   "source": [
    "## ogg2m001-fs02-20160329-0111-e91.fits"
   ]
  },
  {
   "cell_type": "code",
   "execution_count": null,
   "id": "a1166e6e",
   "metadata": {},
   "outputs": [],
   "source": []
  },
  {
   "cell_type": "markdown",
   "id": "c011cc8a",
   "metadata": {},
   "source": [
    "   COL    LINE    RMAG     FLUX      SKY   N  RMOM ELLIP    PA     PEAK MFWHM\n",
    "   \n",
    "\n",
    "91.21 1450.53   14.13  22296.0   121.31  79  2.81 0.122 -88.0  1336.14  3.57\n",
    "\n",
    "1026.03 1505.36    8.72 3253816.6   260.92  77  2.93 0.162 -88.9 200611.1  3.54\n",
    "\n",
    "1052.13 1290.56   11.07 373861.2   148.18  79  2.55 0.159 -87.9 22719.03  3.52\n",
    "\n",
    "748.18  270.14   10.05 953341.8   163.95  79  3.13 0.136  87.0 56165.76  3.66\n",
    "\n",
    "1262.18  954.27   11.63 223299.6   133.72  79  2.54 0.151 -89.6 13616.23  3.52\n"
   ]
  },
  {
   "cell_type": "markdown",
   "id": "c02cd72f",
   "metadata": {},
   "source": [
    "## ogg2m001-fs02-20160330-0283-e91.fits (WINNER!)"
   ]
  },
  {
   "cell_type": "code",
   "execution_count": null,
   "id": "c6be728d",
   "metadata": {},
   "outputs": [],
   "source": []
  },
  {
   "cell_type": "markdown",
   "id": "5ac1ad57",
   "metadata": {},
   "source": [
    "   COL    LINE    RMAG     FLUX      SKY   N  RMOM ELLIP    PA     PEAK MFWHM\n",
    "1029.62 1494.78    8.80 3027665.9   377.35  80  2.77 0.373  -2.8 214464.8  3.03\n",
    "1055.59 1280.00   11.16 342655.7   272.07  76  2.49 0.379  -3.5 24649.25  3.01\n",
    "1265.57  943.64   11.71 206517.3   258.09  79  2.92 0.367  -4.4 14185.17  3.14\n",
    " 568.08   42.72    7.26 12502694.6   832.04  78  3.43 0.307  -5.1 556981.6  4.73\n",
    " 751.62  259.66   10.13 884577.3   281.44  81  2.89 0.352  -3.3 59885.37  3.17\n",
    "1760.40   76.00    9.89 1109472.3   288.41  76  2.79 0.349  -5.6 71505.28  3.33\n",
    "1465.65 1300.26   14.37  17783.3   247.74  79  2.61 0.399  -6.8  1206.05  3.12\n",
    "1328.79  441.78   12.41 108294.4   251.03  79  2.87 0.374  -5.7  6986.63  3.28\n",
    " 783.60 1190.91   14.56  14985.6   247.31  79  2.75 0.355  -4.7  1011.25  3.15\n",
    "1760.40   76.00    9.89 1109472.3   288.41  76  2.79 0.349  -5.6 71505.28  3.33\n"
   ]
  },
  {
   "cell_type": "markdown",
   "id": "5c68fdf8",
   "metadata": {},
   "source": [
    "## ogg2m001-fs02-20160330-0284-e91.fits"
   ]
  },
  {
   "cell_type": "code",
   "execution_count": null,
   "id": "3813b878",
   "metadata": {},
   "outputs": [],
   "source": []
  },
  {
   "cell_type": "markdown",
   "id": "095c3e48",
   "metadata": {},
   "source": [
    "   COL    LINE    RMAG     FLUX      SKY   N  RMOM ELLIP    PA     PEAK MFWHM\n",
    "\n",
    "95.34 1439.78   14.20  20915.8   243.76  80  2.97 0.290  16.3  1357.02  3.42\n",
    "\n",
    "1029.94 1494.39    8.77 3113098.1   375.85  79  0.00 0.254  14.4    INDEF INDEF\n",
    "\n",
    "1055.96 1279.65   11.13 354646.3   272.15  78  0.00 0.267  16.3    INDEF INDEF\n",
    "\n",
    "1265.96  943.27   11.68 212117.6   257.74  77  2.85 0.254  15.9 14228.13  3.35\n",
    "\n",
    "1329.21  441.35   12.39 110583.3   250.36  80  3.28 0.256  17.6  6957.36  3.54\n",
    "\n",
    "568.45   42.23    7.24 12720056.4   807.37  80  3.46 0.244  17.7 546476.4  5.09\n",
    "\n",
    "751.93  259.21   10.11 904811.7   282.95  78  0.00 0.243  16.6    INDEF INDEF\n",
    "\n",
    "1760.74   75.60    9.85 1147188.0   289.74  80  0.00 0.231  17.7    INDEF INDEF\n",
    "\n",
    "1960.59  707.63   13.70  32999.2   243.41  80  2.82 0.220  15.9  2197.43  3.31\n",
    "\n",
    "\n",
    "This one has espeically many INDEF MFWHM"
   ]
  },
  {
   "cell_type": "markdown",
   "id": "7b3ad0b5",
   "metadata": {},
   "source": [
    "## ogg2m001-fs02-20160408-0054-e91.fits"
   ]
  },
  {
   "cell_type": "code",
   "execution_count": null,
   "id": "cb6c550e",
   "metadata": {},
   "outputs": [],
   "source": []
  },
  {
   "cell_type": "markdown",
   "id": "8020ad02",
   "metadata": {},
   "source": [
    "   COL    LINE    RMAG     FLUX      SKY   N  RMOM ELLIP    PA     PEAK MFWHM\n",
    "1007.23 1511.81    9.15 2184343.3   558.88  79  3.43 0.023  18.3 64977.19  5.66\n",
    " 546.09   59.58    7.52 9834217.0  2176.60  79  3.60 0.018 -63.9 281483.6  5.86\n",
    " 729.33  276.57   10.49 635685.7   240.42  79  3.90 0.027 -14.9 18253.55  5.86\n",
    "1306.71  458.74   12.77  77789.5   132.25  79  3.25 0.025 -11.8  2277.88  5.73\n",
    "1738.29   92.88   10.24 803506.9   278.62  78  4.38 0.027 -21.6 22797.83  5.98\n",
    "1568.03   58.97   13.55  38099.1   114.49  75  3.85 0.000 INDEF  1080.41  5.93\n",
    "1799.29  228.56   14.42  17108.2   112.84  81  3.09 0.025 -16.7   481.38  5.88\n",
    "1938.11  725.04   14.10  23010.9   115.68  77  4.10 0.033 -18.6   640.93  6.11\n",
    "  72.43 1457.12   14.58  14777.2   112.82  79  4.26 0.053  22.0   431.44  5.79\n"
   ]
  },
  {
   "cell_type": "markdown",
   "id": "a986edb4",
   "metadata": {},
   "source": [
    "## ogg2m001-fs02-20160408-0055-e91.fits"
   ]
  },
  {
   "cell_type": "code",
   "execution_count": null,
   "id": "a620b737",
   "metadata": {},
   "outputs": [],
   "source": []
  },
  {
   "cell_type": "markdown",
   "id": "936555b4",
   "metadata": {},
   "source": [
    "   COL    LINE    RMAG     FLUX      SKY   N  RMOM ELLIP    PA     PEAK MFWHM\n",
    "1008.35 1512.09    9.10 2294055.1   491.70  78  3.12 0.057  -2.9 70169.98  5.55\n",
    " 547.14   60.00    7.46 10353071.9  1833.95  77  3.81 0.057 -10.0 313022.3  5.68\n",
    " 730.47  276.94   10.43 675940.0   224.52  80  3.70 0.065  -7.0 20077.46  5.68\n",
    "1307.86  459.12   12.72  81926.0   127.53  78 INDEF 0.059 -10.3  2550.70  5.40\n",
    "1739.41   93.31   10.17 855661.7   255.40  80  3.44 0.038   2.0 25223.52  5.69\n",
    "  73.78 1457.40   14.52  15537.3   112.38  80  2.31 0.042   1.7   496.31  5.22\n"
   ]
  },
  {
   "cell_type": "markdown",
   "id": "c199619e",
   "metadata": {},
   "source": [
    "## ogg2m001-fs02-20160409-0123-e91.fits"
   ]
  },
  {
   "cell_type": "code",
   "execution_count": null,
   "id": "a8308e3b",
   "metadata": {},
   "outputs": [],
   "source": []
  },
  {
   "cell_type": "markdown",
   "id": "8777454f",
   "metadata": {},
   "source": [
    "   COL    LINE    RMAG     FLUX      SKY   N  RMOM ELLIP    PA     PEAK MFWHM\n",
    "1015.83 1500.69    8.99 2532184.7   396.94  78  2.65 0.052   6.9 106870.9  4.37\n",
    "1041.86 1285.92   11.34 290773.0   162.63  78  2.70 0.070   7.0 12140.79  4.41\n",
    " 769.89 1196.94   14.80  12074.4   123.82  76  1.88 0.099   6.0   505.29  4.38\n",
    "1251.84  949.56   11.90 173412.7   143.46  79  2.83 0.053  13.3  7096.13  4.47\n",
    " 737.89  265.50   10.32 743973.3   201.41  80  3.17 0.036  10.4 30024.43  4.53\n",
    " 554.59   48.57    7.34 11541693.2  1400.29  79  3.20 0.048  -1.6 464888.1  4.55\n",
    "1315.15  447.59   12.61  90484.3   131.49  79  3.14 0.046   0.6  3657.44  4.53\n",
    "1746.76   81.89   10.07 934583.7   224.42  78  2.51 0.058   1.3 38081.49  4.46\n"
   ]
  },
  {
   "cell_type": "markdown",
   "id": "4e8dce43",
   "metadata": {},
   "source": [
    "## ogg2m001-fs02-20160409-0124-e91.fits"
   ]
  },
  {
   "cell_type": "code",
   "execution_count": null,
   "id": "4f41743e",
   "metadata": {},
   "outputs": [],
   "source": []
  },
  {
   "cell_type": "markdown",
   "id": "1ae24d1e",
   "metadata": {},
   "source": [
    "   COL    LINE    RMAG     FLUX      SKY   N  RMOM ELLIP    PA     PEAK MFWHM\n",
    "1015.79 1502.46    9.04 2414208.6   382.98  79  3.40 0.150  -3.5 82013.20  5.13\n",
    "1041.82 1287.63   11.40 276442.7   163.25  79  3.46 0.153  -1.3  9369.58  5.14\n",
    "1251.84  951.32   11.96 165064.6   144.76  78  3.39 0.166  -2.3  5607.63  5.15\n",
    " 737.90  267.23   10.39 698703.7   200.48  78  3.50 0.169  -2.3 23084.83  5.31\n",
    " 554.62   50.30    7.40 10958042.1  1313.32  80  3.60 0.187  -6.2 358067.1  5.27\n",
    "1746.84   83.57   10.12 897495.8   217.16  79  3.80 0.155  -2.6 29749.91  5.26\n",
    "1576.54   49.64   13.39  44131.5   121.50  78  3.64 0.176  -1.8  1459.70  5.26\n",
    "1315.08  449.37   12.66  85990.8   134.82  78  2.77 0.187  -0.7  2971.94  5.02\n"
   ]
  },
  {
   "cell_type": "markdown",
   "id": "974644c3",
   "metadata": {},
   "source": [
    "## ogg2m001-fs02-20160410-0078-e91.fits"
   ]
  },
  {
   "cell_type": "code",
   "execution_count": null,
   "id": "b148a1ab",
   "metadata": {},
   "outputs": [],
   "source": []
  },
  {
   "cell_type": "markdown",
   "id": "857857e0",
   "metadata": {},
   "source": [
    "   COL    LINE    RMAG     FLUX      SKY   N  RMOM ELLIP    PA     PEAK MFWHM\n",
    "\n",
    "1015.39 1477.49    8.80 3014586.3   255.91  78  2.91 0.044 -72.6 158864.7  3.84\n",
    "\n",
    "80.46 1422.65   14.22  20431.6    67.08  79  3.23 0.058 -58.7  1038.02  3.96\n",
    "\n",
    "554.19   25.18    7.17 13515683.0   876.21  79  3.48 0.018 -66.8 593680.5  4.80\n",
    "\n",
    "737.46  242.20   10.13 889739.0   119.46  79  3.41 0.000 INDEF 46715.27  3.91\n",
    "\n",
    "1576.46   24.71   13.14  55363.3    67.39  80  3.09 0.043 -72.7  3038.55  3.76\n",
    "\n",
    "1746.76   58.67    9.87 1124767.8   137.13  79  2.73 0.035 -83.5 61450.32  3.74\n",
    "\n",
    "1314.99  424.46   12.41 108169.4    74.55  78  3.23 0.065 -81.3  5776.57  3.85\n",
    "\n",
    "1946.62  690.77   13.71  32956.4    70.75  80  3.02 0.042 -68.1  1747.81  3.83\n",
    "\n",
    "1251.53  926.33   11.70 208727.9    86.13  79  3.33 0.044 -74.6 10993.09  3.89\n"
   ]
  },
  {
   "cell_type": "markdown",
   "id": "86134a60",
   "metadata": {},
   "source": [
    "## ogg2m001-fs02-20160410-0079-e91.fits"
   ]
  },
  {
   "cell_type": "code",
   "execution_count": null,
   "id": "b4edb0cb",
   "metadata": {},
   "outputs": [],
   "source": []
  },
  {
   "cell_type": "markdown",
   "id": "780520bd",
   "metadata": {},
   "source": [
    "   COL    LINE    RMAG     FLUX      SKY   N  RMOM ELLIP    PA     PEAK MFWHM\n",
    "\n",
    "1015.45 1480.40    8.78 3076197.1   242.90  79  3.02 0.064  87.6 169654.2  3.76\n",
    "\n",
    "554.30   28.05    7.17 13594597.6   830.12  78  3.46 0.060  76.3 596589.7  4.84\n",
    "\n",
    "737.52  245.07   10.11 902036.8   120.77  80  3.28 0.053  75.4 48301.96  3.85\n",
    "\n",
    "1746.67   61.61    9.85 1146037.1   130.45  80  2.97 0.089  77.0 66122.58  3.64\n",
    "\n",
    "1807.81  197.29   14.04  24228.3    68.38  79  3.53 0.091  82.0  1356.62  3.79\n",
    "\n",
    "1314.98  427.33   12.40 109548.7    75.63  77  3.02 0.096  84.0  6168.25  3.72\n",
    "\n",
    "1946.53  693.76   13.70  33032.5    68.11  80  2.97 0.096  87.3  1925.61  3.61\n",
    "\n",
    "1616.28 1113.10   15.86   4527.9    68.14  78  3.08 0.119  47.5   137.64  5.00\n",
    "\n",
    "1508.20 1204.48   15.01   9949.5    77.70  79  4.00 0.206 -89.8   280.89  5.86\n",
    "\n",
    "1832.12 1565.44   13.70  32961.4    69.78  79  2.60 0.095  77.5  1927.36  3.57\n"
   ]
  },
  {
   "cell_type": "markdown",
   "id": "3525f32d",
   "metadata": {},
   "source": [
    "## ogg2m001-fs02-20160414-0121-e91.fits"
   ]
  },
  {
   "cell_type": "code",
   "execution_count": null,
   "id": "7ceca5fe",
   "metadata": {},
   "outputs": [],
   "source": []
  },
  {
   "cell_type": "markdown",
   "id": "4ef63268",
   "metadata": {},
   "source": [
    "   COL    LINE    RMAG     FLUX      SKY   N  RMOM ELLIP    PA     PEAK MFWHM\n",
    "1043.10 1499.97    9.21 2063716.8   567.71  76  1.86 0.070  16.1 58723.92  5.90\n",
    "1069.08 1285.14   11.56 238165.4   179.72  78  2.53 0.066  25.4  6604.26  6.00\n",
    "1279.10  948.89   12.11 142716.5   153.95  77  3.34 0.061  10.8  3934.69  6.09\n",
    " 765.09  264.83   10.56 597287.9   251.86  78  3.04 0.070  24.1 16182.14  6.15\n",
    " 581.79   47.79    7.58 9270839.2  2125.56  79  3.60 0.087  26.4 246819.4  6.22\n",
    "1773.99   81.13   10.30 760291.7   283.83  77  3.39 0.067  40.3 20784.47  6.15\n",
    "1603.71   47.20   13.59  36765.9   124.03  78  4.56 0.077  24.5   980.05  6.30\n",
    "1835.05  216.73   14.49  15955.6   118.44  77  3.45 0.065  42.0   424.24  6.16\n"
   ]
  },
  {
   "cell_type": "markdown",
   "id": "70e26f25",
   "metadata": {},
   "source": [
    "## ogg2m001-fs02-20160414-0122-e91.fits"
   ]
  },
  {
   "cell_type": "code",
   "execution_count": null,
   "id": "426a079d",
   "metadata": {},
   "outputs": [],
   "source": []
  },
  {
   "cell_type": "markdown",
   "id": "3dc5df4a",
   "metadata": {},
   "source": [
    "   COL    LINE    RMAG     FLUX      SKY   N  RMOM ELLIP    PA     PEAK MFWHM\n",
    "1040.00 1501.18    9.25 1993650.7   614.57  76  1.76 0.042 -54.8 53090.09  6.43\n",
    "1066.01 1286.51   11.58 232830.6   182.98  78  2.54 0.049 -67.4  5912.49  6.52\n",
    "1276.03  950.08   12.16 137045.8   157.33  75  3.32 0.046 -15.7  3707.10  6.28\n",
    " 761.93  265.77   10.57 592248.5   262.66  78  2.75 0.033  -7.6 15815.98  6.19\n",
    " 578.67   48.86    7.59 9197027.5  2325.55  78  3.44 0.061  -7.7 246704.3  6.21\n",
    "1770.88   82.19   10.30 759576.1   295.47  78  1.57 0.047  -9.3 21590.07  5.86\n",
    "1600.48   48.23   13.57  37378.2   123.32  80  3.00 0.061   0.8  1020.58  6.04\n",
    "1339.28  448.06   12.86  72012.6   141.35  78  2.52 0.049  -5.6  1955.13  6.14\n",
    "1518.48  404.16   15.13   8866.0   124.16  79  3.96 0.029  -6.5   245.79  5.94\n"
   ]
  },
  {
   "cell_type": "markdown",
   "id": "777cb3aa",
   "metadata": {},
   "source": [
    "## ogg2m001-fs02-20160415-0106-e91.fits"
   ]
  },
  {
   "cell_type": "markdown",
   "id": "69224cd0",
   "metadata": {},
   "source": [
    "There is no specific source :("
   ]
  },
  {
   "cell_type": "markdown",
   "id": "e171c0a9",
   "metadata": {},
   "source": [
    "## ogg2m001-fs02-20160415-0107-e91.fits"
   ]
  },
  {
   "cell_type": "markdown",
   "id": "d8e5b11b",
   "metadata": {},
   "source": [
    "Again, there is no point sources nor galaxies."
   ]
  }
 ],
 "metadata": {
  "kernelspec": {
   "display_name": "Python 3 (ipykernel)",
   "language": "python",
   "name": "python3"
  },
  "language_info": {
   "codemirror_mode": {
    "name": "ipython",
    "version": 3
   },
   "file_extension": ".py",
   "mimetype": "text/x-python",
   "name": "python",
   "nbconvert_exporter": "python",
   "pygments_lexer": "ipython3",
   "version": "3.8.2"
  }
 },
 "nbformat": 4,
 "nbformat_minor": 5
}
