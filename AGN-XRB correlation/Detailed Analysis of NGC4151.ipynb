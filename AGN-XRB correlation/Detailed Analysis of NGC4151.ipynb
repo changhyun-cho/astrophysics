{
 "cells": [
  {
   "cell_type": "markdown",
   "id": "e32d20f2",
   "metadata": {},
   "source": [
    "# Host Galaxy Contribution Removal of NGC4151"
   ]
  },
  {
   "cell_type": "markdown",
   "id": "75daed5e",
   "metadata": {},
   "source": [
    "## Machine Environment"
   ]
  },
  {
   "cell_type": "markdown",
   "id": "f86f44ec",
   "metadata": {},
   "source": [
    "- macOS Catalina 10.15.7\n",
    "- [SAOImageDS9](https://sites.google.com/cfa.harvard.edu/saoimageds9)\n",
    "- [NOAO/IRAV V2.16.1](https://research.iac.es/sieinvens/siepedia/pmwiki.php?n=HOWTOs.IrafMacOSX)"
   ]
  },
  {
   "cell_type": "markdown",
   "id": "7ed040dd",
   "metadata": {},
   "source": [
    "## List of AGN"
   ]
  },
  {
   "cell_type": "markdown",
   "id": "a6b1981e",
   "metadata": {},
   "source": [
    "### [NGC4151](https://iopscience.iop.org/article/10.3847/1538-4357/aa6890)\n",
    "\n",
    "- Size of the aperture: 5\"\n",
    "\n",
    "> [Reference: Edelson et al. 2017, ApJ](https://iopscience.iop.org/article/10.3847/1538-4357/aa6890)\n",
    "\n",
    "> In Section 2.3. UVOT Data Reduction:\n",
    "> ... The UVOT data were taken in a six-filter, blue-weighted mode in which the four longest-wavelength filters (uvw1, u, b, and v) are observed using 5\" × 5\" hardware windows. ...\n",
    "\n",
    "> ... Fluxes were measured using a **5\" radius circular aperture**, and concentric 40\"–90\" radius annuli were used to measure the sky background level. ..."
   ]
  },
  {
   "cell_type": "markdown",
   "id": "e46e6fc7",
   "metadata": {},
   "source": [
    "## Data Analysis using IRAF"
   ]
  },
  {
   "cell_type": "markdown",
   "id": "f2512aed",
   "metadata": {},
   "source": [
    "### Photometry of AGN + Host galaxy (for ogg2m001-fs02-20160330-0283-e91.fits)"
   ]
  },
  {
   "cell_type": "markdown",
   "id": "620a68b8",
   "metadata": {},
   "source": [
    "```ecl> display ogg2m001-fs02-20160330-0283-e91.fits 1```"
   ]
  },
  {
   "cell_type": "markdown",
   "id": "e810c1f2",
   "metadata": {},
   "source": [
    "![alt text](images/image_ngc4151_new.png)"
   ]
  },
  {
   "cell_type": "markdown",
   "id": "d2a0a0ef",
   "metadata": {},
   "source": [
    "Open ```ogg2m001-fs02-20160330-0283-e91.fits``` using ```DS9```\n",
    "\n",
    "- Header: ```PIXSCALE=            0.3010400 / [arcsec/pixel] Nominal pixel scale on sky      ```\n",
    " - Host galaxy size in pixel = 5\"/0.3010400 = 16.6 = 17\n",
    " \n",
    "Note that you need to open the fits file using ```DS9```, not ```IRAF``` to see the header."
   ]
  },
  {
   "cell_type": "markdown",
   "id": "5819f6d7",
   "metadata": {},
   "source": [
    "```ecl> epar photpars```\n",
    "\n",
    "\n",
    "- ```(apertur=                   17) List of aperture radii in scale units```"
   ]
  },
  {
   "cell_type": "markdown",
   "id": "fcacfbc4",
   "metadata": {},
   "source": [
    "```ecl> epar fitskypars```\n",
    "\n",
    "- ```(annulus=                  26.) Inner radius of sky annulus in scale units```\n",
    "- ```(dannulu=                   9.) Width of sky annulus in scale units```"
   ]
  },
  {
   "cell_type": "markdown",
   "id": "6eca0f5f",
   "metadata": {},
   "source": [
    "```ecl> phot ogg2m001-fs02-20160330-0283-e91.fits```\n",
    "- Click the center of the target you want to measure.\n",
    "- Type ```space```\n",
    "- A plot and the data (ngc4151) will be created.\n",
    "- Type ```q```\n",
    "\n",
    "![alt text](images/host_ngc4151_new.png)\n",
    "\n",
    "\n",
    "\n",
    "```ogg2m001-fs02-20160330-0283-e91.fits    983.51  1028.58  446.5877    9.558  err```"
   ]
  },
  {
   "cell_type": "markdown",
   "id": "7c28bcc9",
   "metadata": {},
   "source": [
    "Open ```ngc4151``` and check the magnitude and error\n",
    "- TOTAL COUNTS: 1907839.\n",
    "- SUM: 1502060.\n"
   ]
  },
  {
   "cell_type": "markdown",
   "id": "2fff6b73",
   "metadata": {},
   "source": [
    "```ecl> imexamine```\n",
    "- Click the point source located at the lower left side of the galaxy\n",
    "- Type ```,``` to get data. \n",
    "\n",
    "|   COL  |   LINE |  RMAG |  FLUX  |   SKY  | N  | RMOM | ELLIP |   PA |  PEAK   | MFWHM|\n",
    "|:-------|:------:|:-----:|:------:|:------:|:--:|:----:|:-----:|:----:|:-------:|-----:|\n",
    "|1029.62 |1494.78 |   8.80| 3027665.9 |  377.35 | 80 | 2.77 |0.373|  -2.8 |214464.8 | 3.03|\n",
    "|1055.59 |1280.00 |  11.16| 342655.7  | 272.07  |76  |2.49 |0.379 | -3.5 |24649.25  |3.01|\n",
    "|1265.57 | 943.64 |  11.71| 206517.3  | 258.09  |79  |2.92 |0.367 | -4.4 |14185.17  |3.14|\n",
    "| 751.62 | 259.66 |  10.13| 884577.3  | 281.44  |81  |2.89 |0.352  |-3.3 |59885.37  |3.17|\n",
    "|1760.40 |  76.00 |   9.89| 1109472.3 |  288.41 | 76 | 2.79| 0.349 | -5.6| 71505.28 | 3.33|\n",
    "|1465.65 |1300.26 |  14.37|  17783.3  | 247.74  |79  |2.61 |0.399  |-6.8 | 1206.05  |3.12|\n",
    "|1328.79 | 441.78 |  12.41| 108294.4  | 251.03  |79  |2.87 |0.374  |-5.7 | 6986.63  |3.28|\n",
    "| 783.60 |1190.91 |  14.56|  14985.6  | 247.31  |79  |2.75 |0.355  |-4.7 | 1011.25  |3.15|\n",
    "|1760.40 |  76.00 |   9.89| 1109472.3 |  288.41 | 76 | 2.79| 0.349 | -5.6| 71505.28 | 3.33|\n",
    "\n"
   ]
  },
  {
   "cell_type": "markdown",
   "id": "8bbe922e",
   "metadata": {},
   "source": [
    "|Source |Filter|Date      |Seeing (Pixel)|Pixel Size(arcsec/pixels)| Seeing (arcsec)|Size of the UVOT aperture (\")|\n",
    "|:------|:----:|:--------:|:------------:|:-----------------------:|:--------------:|----------------------------:|\n",
    "|NGC4151|V     |2016-03-30| 3.03         | 0.30104                   |0.9121512          | 5|\n",
    "|NGC4151|V     |2016-03-30| 3.01         | 0.30104                   |0.9061304         | 5|\n",
    "|NGC4151|V     |2016-03-30| 3.14         | 0.30104                   |0.9452656          | 5|\n",
    "|NGC4151|V     |2016-03-30| 3.17         | 0.30104                   |0.9542968          | 5|\n",
    "|NGC4151|V     |2016-03-30| 3.33         | 0.30104                   |1.0024632          | 5|\n",
    "|NGC4151|V     |2016-03-30| 3.12         | 0.30104                   |0.9392448          | 5|\n",
    "|NGC4151|V     |2016-03-30| 3.28         | 0.30104                   |0.9874112          | 5|\n",
    "|NGC4151|V     |2016-03-30| 3.15         | 0.30104                   |0.948276          | 5|\n",
    "|NGC4151|V     |2016-03-30| 3.33         | 0.30104                   |1.0024632          | 5|\n",
    "\n",
    "\n",
    "Therefore, the averaged MFWHM and Seeing is \n",
    "\n",
    "|Source |Filter|Date      |Seeing (Pixel)|Pixel Size(arcsec/pixels)| Seeing (arcsec)|Size of the UVOT aperture (\")|\n",
    "|:------|:----:|:--------:|:------------:|:-----------------------:|:--------------:|----------------------------:|\n",
    "|NGC4151|V     |2016-03-30| 3.17         | 0.30104                   |0.9553002667          | 5|\n"
   ]
  },
  {
   "cell_type": "markdown",
   "id": "5bf85d4d",
   "metadata": {},
   "source": [
    "### Photometry of AGN only (for ogg2m001-fs02-20160330-0283-e91.fits)"
   ]
  },
  {
   "cell_type": "markdown",
   "id": "23374791",
   "metadata": {},
   "source": [
    "```ecl> epar photpars```\n",
    "\n",
    "Now to get the AGN flux, we need to set the smaller aperture. We need to try some experiments with different aperture size.\n",
    "\n",
    "1. 2 x (seeing): 2 x 3.17 = 6.34 = 6\n",
    "2. 1.5 x (sseing) = 1.5 x 3.17 = 4.76 = 5\n",
    "3. 2.5 x (seeing) = 2.5 x 3.17 = 7.93 = 8\n",
    "    \n",
    "Since the seeing in pixel is 3.17, I set the aperture of the core 6.\n",
    "\n",
    "- ```(apertur=                   6) List of aperture radii in scale units```"
   ]
  },
  {
   "cell_type": "markdown",
   "id": "46202daa",
   "metadata": {},
   "source": [
    "Setting the sky parameters, inner radius was set to 3\" and the outer radius MUST be 5\".\n",
    "\n",
    "Thus, annulus should be 3\", which is 10 in pixel, and the dannulus be 2\", which is 7.\n",
    "\n",
    "Note that 0.3010400 / [arcsec/pixel].\n",
    "\n",
    "```ecl> epar fitskypars```\n",
    "\n",
    "- ```(annulus=                  10.) Inner radius of sky annulus in scale units```\n",
    "- ```(dannulu=                   7.) Width of sky annulus in scale units```"
   ]
  },
  {
   "cell_type": "markdown",
   "id": "56395973",
   "metadata": {},
   "source": [
    "```ecl> phot ogg2m001-fs02-20160330-0283-e91.fits```\n",
    "- Click the center of the target you want to measure.\n",
    "- Type ```space```\n",
    "- A plot and the data (ngc4151) will be created.\n",
    "\n",
    "![alt text](images/agn_ngc4151_new.png)\n",
    "\n",
    "\n",
    "- Type ```q```\n",
    "\n",
    "```ogg2m001-fs02-20160330-0283-e91.fits    983.51  1028.58  750.8502   10.046  err```"
   ]
  },
  {
   "cell_type": "markdown",
   "id": "0f7046ff",
   "metadata": {},
   "source": [
    "Open ```ngc4151``` and check the magnitude and error\n",
    "- IRAF SUM: 1043058.\n",
    "- IRAF FLUX: 958239.6"
   ]
  },
  {
   "cell_type": "markdown",
   "id": "28de9518",
   "metadata": {},
   "source": [
    "## Preliminary Results"
   ]
  },
  {
   "cell_type": "markdown",
   "id": "04ff73e8",
   "metadata": {},
   "source": [
    "$$ \\text{AGN contribution} = \\frac{\\text{IRAF_FLUX (AGN)}}{\\text{IRAF_SUM (Host)}} $$"
   ]
  },
  {
   "cell_type": "markdown",
   "id": "ac6357c1",
   "metadata": {},
   "source": [
    "|\"Image Name\"|Time|Object|Filter|Type|\"Exp. Time\"|\"R. level\"|Seeing (Pixel)|Apeture size (Seeing)|IRAF_SUM (Host)|IRAF_FLUX (Host)|IRAF_SUM (AGN)|IRAF_FLUX (AGN)|AGN contribution|\n",
    "|:-----------|:--:|:----:|:----:|:--:|:---------:|:--------:|:------------:|:--------:|:---------:|:--:|:---:|:---:|--:|\n",
    "|ogg2m001-fs02-20160330-0283-e91|\"2016-03-31 13:42:20\"|NGC4151|V|EXPOSE|60.0|BANZAI|3.173|1.5x( seeing)|1907839|1502060|917769.2|858564.8|0.45001952|\n",
    "|ogg2m001-fs02-20160330-0283-e91|\"2016-03-31 13:42:20\"|NGC4151|V|EXPOSE|60.0|BANZAI|3.173|2x( seeing)|1907839|1502060|1043058.|958239.6|0.50226439|\n",
    "|ogg2m001-fs02-20160330-0283-e91|\"2016-03-31 13:42:20\"|NGC4151|V|EXPOSE|60.0|BANZAI|3.173|2.5x( seeing)|1907839|1502060|1241302.|1090358.|0.57151468|\n"
   ]
  },
  {
   "cell_type": "markdown",
   "id": "686446ea",
   "metadata": {},
   "source": [
    "## Appendix I. How to scale image to fit display window in IRAF"
   ]
  },
  {
   "cell_type": "markdown",
   "id": "33fb9b1d",
   "metadata": {},
   "source": [
    "Issue: sometimes the image opened via ```IRAF``` and via ```DS9``` are different. This causes the scaling problem that causes producing the different seeing eventually. \n",
    "\n",
    "\n",
    "How to solve it?\n",
    "\n",
    "In ```IRAF```\n",
    "\n",
    "- ```ecl>epar display```\n",
    " - ```fill = yes```\n",
    " - ```:q``` to quit\n",
    "- ```ecl> reset stdimage=imt2048```\n",
    "- Then, open the image using ```display``` command in ```IRAF```"
   ]
  },
  {
   "cell_type": "markdown",
   "id": "e5113738",
   "metadata": {},
   "source": [
    "# Result: Tabulating the seeing"
   ]
  },
  {
   "cell_type": "markdown",
   "id": "8dd0b2f0",
   "metadata": {},
   "source": [
    "Every image has the same PIXSCALE=            0.3010400 / [arcsec/pixel] Nominal pixel scale on sky      \n",
    "\n",
    "That means the aperture size is also the same: 5\"/0.3010400(\"/pixel) = 16.60908849 -> rounded up to 17\n",
    "\n",
    "annulus = 26\n",
    "\n",
    "dannulu = 9"
   ]
  },
  {
   "cell_type": "markdown",
   "id": "b5b027ef",
   "metadata": {},
   "source": [
    " 0.3010400 / [arcsec/pixel]"
   ]
  },
  {
   "cell_type": "markdown",
   "id": "7eb4f035",
   "metadata": {},
   "source": [
    "## Photometry on the 10 best seeing galaxies"
   ]
  },
  {
   "cell_type": "markdown",
   "id": "ae1e8c46",
   "metadata": {},
   "source": [
    " 0.3010400 / [arcsec/pixel]"
   ]
  },
  {
   "cell_type": "markdown",
   "id": "c6c1f6ae",
   "metadata": {},
   "source": [
    "|\"Image Name\"|Time|Object|Filter|Type|\"Exp. Time\"|\"R. level\"|Seeing (Pixel)|Seeing (\")|IRAF_SUM (Host)|IRAF_FLUX (Host)|IRAF_SUM (AGN)|IRAF_FLUX (AGN)|\n",
    "|:-----------|:--:|:----:|:----:|:--:|:---------:|:--------:|:------------:|:--------:|:---------:|:--:|:---:|---:|\n",
    "|ogg2m001-fs02-20160410-0079-e91|\"2016-04-11 09:42:09\"|NGC4151|V|EXPOSE|60.0|BANZAI|3.706|1.116|1793673|1542452|\n",
    "|ogg2m001-fs02-20160410-0078-e91|\"2016-04-11 09:40:54\"|NGC4151|V|EXPOSE|60.0|BANZAI|3.848|1.158|1792971|1545316|\n",
    "|ogg2m001-fs02-20160330-0284-e91|\"2016-03-31 13:43:35\"|NGC4151|V|EXPOSE|60.0|BANZAI|3.405|1.025|1908224|1503396|\n",
    "|ogg2m001-fs02-20160330-0283-e91|\"2016-03-31 13:42:20\"|NGC4151|V|EXPOSE|60.0|BANZAI|3.173|0.955|1907839|1502060|1043058.|958239.6|\n",
    "|ogg2m001-fs02-20160329-0111-e91|\"2016-03-30 10:17:25\"|NGC4151|V|EXPOSE|60.0|BANZAI|3.562|1.072|1904650|1603010|\n",
    "|ogg2m001-fs02-20160329-0110-e91|\"2016-03-30 10:16:10\"|NGC4151|V|EXPOSE|60.0|BANZAI|3.733|1.124|1901113|1601137|\n",
    "|ogg2m001-fs02-20160318-0106-e91|\"2016-03-19 14:01:32\"|NGC4151|V|EXPOSE|60.0|BANZAI|4.223|1.271|1865446|1518086|\n",
    "|ogg2m001-fs02-20160307-0078-e91|\"2016-03-08 07:07:57\"|NGC4151|V|EXPOSE|60.0|BANZAI|4.003|1.205|537239.5|406214.9|\n",
    "|ogg2m001-fs02-20160304-0110-e91|\"2016-03-05 08:29:06\"|NGC4151|V|EXPOSE|60.0|BANZAI|3.859|1.162|1701061|1458617|\n",
    "|ogg2m001-fs02-20160304-0109-e91|\"2016-03-05 08:27:51\"|NGC4151|V|EXPOSE|60.0|BANZAI|3.671|1.105|1697619|1453695|"
   ]
  },
  {
   "cell_type": "code",
   "execution_count": null,
   "id": "e2fd13cb",
   "metadata": {},
   "outputs": [],
   "source": []
  }
 ],
 "metadata": {
  "kernelspec": {
   "display_name": "Python 3 (ipykernel)",
   "language": "python",
   "name": "python3"
  },
  "language_info": {
   "codemirror_mode": {
    "name": "ipython",
    "version": 3
   },
   "file_extension": ".py",
   "mimetype": "text/x-python",
   "name": "python",
   "nbconvert_exporter": "python",
   "pygments_lexer": "ipython3",
   "version": "3.8.2"
  }
 },
 "nbformat": 4,
 "nbformat_minor": 5
}
