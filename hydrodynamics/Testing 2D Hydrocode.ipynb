{
 "cells": [
  {
   "cell_type": "code",
   "execution_count": 21,
   "id": "4b644c7b",
   "metadata": {},
   "outputs": [],
   "source": [
    "import sys\n",
    "import numpy as np\n",
    "import matplotlib.pyplot as plt\n",
    "import scipy\n",
    "#plt.rcParams['figure.figsize'] = [17, 21]\n",
    "np.set_printoptions(threshold=sys.maxsize)"
   ]
  },
  {
   "cell_type": "code",
   "execution_count": 2,
   "id": "30fa5658",
   "metadata": {},
   "outputs": [],
   "source": [
    "# Constants\n",
    "gamma = 5./3.\n",
    "k_b = 1.380649e-16"
   ]
  },
  {
   "cell_type": "code",
   "execution_count": 100,
   "id": "3c68902c",
   "metadata": {},
   "outputs": [],
   "source": [
    "# Setting grids\n",
    "def setup_grid():\n",
    "    global xmin, xmax, ng, nx, dx, dy, dz, Ax, Ay, dV, ilo, ihi\n",
    "    global rho, P, e, T\n",
    "    global u, w #, f_rho, f_e\n",
    "    \n",
    "    xmin = 0.\n",
    "    xmax = 1.\n",
    "\n",
    "    ng = 2 # ghost cells\n",
    "    nx = 100 # number of cells #100\n",
    "    dx = dy = (xmax - xmin)/nx\n",
    "    dz = 1.\n",
    "    Ax = dy*dz\n",
    "    Ay = dx*dz\n",
    "    dV = dx*dy*dz\n",
    "\n",
    "    ilo = ng\n",
    "    ihi = ng+nx#-1\n",
    "\n",
    "    rho = np.zeros([nx+2*ng,nx+2*ng],dtype=np.float64)\n",
    "    P = np.zeros([nx+2*ng,nx+2*ng],dtype=np.float64)\n",
    "    e = np.zeros([nx+2*ng,nx+2*ng],dtype=np.float64)\n",
    "    T = np.zeros([nx+2*ng,nx+2*ng],dtype=np.float64)\n",
    "\n",
    "    u = np.zeros([nx+2*ng,nx+2*ng],dtype=np.float64)\n",
    "    w = np.zeros([nx+2*ng,nx+2*ng],dtype=np.float64)\n",
    "\n",
    "#    f_rho = np.zeros([nx+2*ng,nx+2*ng],dtype=np.float64)\n",
    "#    f_e = np.zeros([nx+2*ng,nx+2*ng],dtype=np.float64)"
   ]
  },
  {
   "cell_type": "code",
   "execution_count": 72,
   "id": "f676f09b",
   "metadata": {},
   "outputs": [],
   "source": [
    "def fill_ICs(type):\n",
    "    global xmin, xmax, ng, nx, dx, dy, dz, Ax, Ay, dV, ilo, ihi\n",
    "    global rho, P, e, T\n",
    "    global u, w\n",
    "    \n",
    "    if type == \"1+1d shock\": # 1+1d shock tube\n",
    "        center = int(nx/2+ng)\n",
    "        left = center - 10\n",
    "        right = center + 10\n",
    "        \n",
    "        rho[ilo:ihi,ilo:ihi] = 0.1\n",
    "        P[ilo:ihi,ilo:ihi] = 0.125\n",
    "        \n",
    "        rho[left:right,left:right] = 1.\n",
    "        P[left:right,left:right] = 1.\n",
    "    \n",
    "    elif type == \"1d shock_r\": # 1d shock tube\n",
    "        center = int((nx+2*ng)/3)\n",
    "        \n",
    "        rho[ilo:ihi,ilo:ihi] = 0.1\n",
    "        P[ilo:ihi,ilo:ihi] = 0.125\n",
    "        \n",
    "        rho[:,ilo:center] = 1.\n",
    "        P[:,ilo:center] = 1.\n",
    "    \n",
    "    elif type == \"1d shock_l\": # 1d shock tube\n",
    "        center = int(2*(nx+2*ng)/3)\n",
    "        \n",
    "        rho[ilo:ihi,ilo:ihi] = 0.1\n",
    "        P[ilo:ihi,ilo:ihi] = 0.125\n",
    "        \n",
    "        rho[:,center:ihi] = 1.\n",
    "        P[:,center:ihi] = 1.\n",
    "    \n",
    "    else:\n",
    "        print(\"unknown type\")\n",
    "        \n",
    "    e = P/((gamma-1.)*rho)\n",
    "    T = (gamma-1.)*(rho*dV*e)/k_b"
   ]
  },
  {
   "cell_type": "code",
   "execution_count": 5,
   "id": "00803a6c",
   "metadata": {},
   "outputs": [],
   "source": [
    "def colormaps():\n",
    "    global xmin, xmax, ng, nx, dx, dy, dz, Ax, Ay, dV, ilo, ihi\n",
    "    global rho, P, e, T\n",
    "    global u, w\n",
    "    \n",
    "    plt.rcParams['figure.figsize'] = [17, 21]\n",
    "    fig, axis = plt.subplots(3, 2)\n",
    "\n",
    "    axis[0,0].pcolormesh(rho[ilo:ihi,ilo:ihi], cmap=plt.cm.jet, vmin=np.min(rho), vmax=np.max(rho))\n",
    "    axis[0,0].set_title('Density')\n",
    "    fig.colorbar(axis[0,0].pcolormesh(rho[ilo:ihi,ilo:ihi], cmap=plt.cm.jet, vmin=np.min(rho), vmax=np.max(rho)), ax=axis[0, 0])\n",
    "    \n",
    "    axis[0,1].pcolormesh(P[ilo:ihi,ilo:ihi], cmap=plt.cm.jet, vmin=np.min(P), vmax=np.max(P))\n",
    "    axis[0,1].set_title('Pressure')\n",
    "    fig.colorbar(axis[0,1].pcolormesh(P[ilo:ihi,ilo:ihi], cmap=plt.cm.jet, vmin=np.min(P), vmax=np.max(P)), ax=axis[0, 1])\n",
    "    \n",
    "    axis[1,0].pcolormesh(e[ilo:ihi,ilo:ihi], cmap=plt.cm.jet, vmin=np.min(e), vmax=np.max(e))\n",
    "    axis[1,0].set_title('Energy')\n",
    "    fig.colorbar(axis[1,0].pcolormesh(e[ilo:ihi,ilo:ihi], cmap=plt.cm.jet, vmin=np.min(e), vmax=np.max(e)), ax=axis[1, 0])\n",
    "    \n",
    "    axis[1,1].pcolormesh(T[ilo:ihi,ilo:ihi], cmap=plt.cm.jet, vmin=np.min(T), vmax=np.max(T))\n",
    "    axis[1,1].set_title('Temperature')\n",
    "    fig.colorbar(axis[1,1].pcolormesh(T[ilo:ihi,ilo:ihi], cmap=plt.cm.jet, vmin=np.min(T), vmax=np.max(T)), ax=axis[1, 1])\n",
    "    \n",
    "    axis[2,0].pcolormesh(u[ilo:ihi,ilo:ihi], cmap=plt.cm.jet, vmin=np.min(u), vmax=np.max(u))\n",
    "    axis[2,0].set_title('x velocity')\n",
    "    fig.colorbar(axis[2,0].pcolormesh(u[ilo:ihi,ilo:ihi], cmap=plt.cm.jet, vmin=np.min(u), vmax=np.max(u)), ax=axis[2, 0])\n",
    "                 \n",
    "    axis[2,1].pcolormesh(w[ilo:ihi,ilo:ihi], cmap=plt.cm.jet, vmin=np.min(w), vmax=np.max(w))\n",
    "    axis[2,1].set_title('y velocity')\n",
    "    fig.colorbar(axis[2,1].pcolormesh(w[ilo:ihi,ilo:ihi], cmap=plt.cm.jet, vmin=np.min(w), vmax=np.max(w)), ax=axis[2, 1])"
   ]
  },
  {
   "cell_type": "code",
   "execution_count": 6,
   "id": "de18e17c",
   "metadata": {},
   "outputs": [],
   "source": [
    "def apply_BCs(apply):\n",
    "    global xmin, xmax, ng, nx, dx, dy, dz, Ax, Ay, dV, ilo, ihi\n",
    "    global rho, P, e, T\n",
    "    global u, w\n",
    "    \n",
    "    for var_array in [apply]:\n",
    "        # outflow boundary condition for horizontal\n",
    "        var_array[:,ilo-1] = var_array[:,ilo] #var_array[:,ihi-2]\n",
    "        var_array[:,ilo-2] = var_array[:,ilo-1] #var_array[:,ihi-1]\n",
    "        var_array[:,ihi] = var_array[:,ihi-1]\n",
    "        var_array[:,ihi+1] = var_array[:,ihi]\n",
    "        \n",
    "        # periodic boundary condition for horizontal\n",
    "        #var_array[:,ilo-2] = var_array[:,ihi-2] #var_array[:,ihi-1]\n",
    "        #var_array[:,ilo-1] = var_array[:,ihi-1] #var_array[:,ihi-2]\n",
    "        #var_array[:,ihi+1] = var_array[:,ilo]\n",
    "        #var_array[:,ihi] = var_array[:,ilo+1]\n",
    "        \n",
    "        # reflecting boundary condition for vertical\n",
    "        var_array[ilo-2,:] = var_array[ilo+1,:]\n",
    "        var_array[ilo-1,:] = var_array[ilo,:]\n",
    "        var_array[ihi,:] = var_array[ihi-1,:]\n",
    "        var_array[ihi+1,:] = var_array[ihi-2,:]"
   ]
  },
  {
   "cell_type": "code",
   "execution_count": 7,
   "id": "239c4015",
   "metadata": {},
   "outputs": [],
   "source": [
    "def timestep():\n",
    "    global xmin, xmax, ng, nx, dx, dy, dz, Ax, Ay, dV, ilo, ihi\n",
    "    global rho, P, e, T\n",
    "    global u, w\n",
    "    global dt, q\n",
    "\n",
    "    du = np.zeros([nx+2*ng,nx+2*ng],dtype=np.float64)\n",
    "    dw = np.zeros([nx+2*ng,nx+2*ng],dtype=np.float64)\n",
    "    \n",
    "    for k in range(ilo,ihi):\n",
    "        for j in range(ilo,ihi):\n",
    "            du[k,j] = u[k,j] - u[k,j-1] # or u[k,j] - u[k,j-1]?\n",
    "            dw[k,j] = w[k,j] - w[k-1,j] # or w[k,j] - w[k-1,j]?\n",
    "    apply_BCs(du)\n",
    "    apply_BCs(dw)\n",
    "            \n",
    "    q = 1. # must be equal to the viscosity parameter\n",
    "    cs = np.sqrt(np.abs(gamma*P/rho))\n",
    "    C0 = 0.5\n",
    "    dt_1 = dx/(cs+np.abs(u)) #1/cs*np.min(dx,dy)\n",
    "    dt_2 = dy/(cs+np.abs(w)) #dx/np.abs(u)\n",
    "    dt_3 = dx/(4.*q*q*np.abs(du)) #dy/np.abs(w)\n",
    "    dt_4 = dy/(4.*q*q*np.abs(dw)) #np.min(dx/(4.q*q*np.abs(du)),dy/(4.q*q*np.abs(dw)))\n",
    "    dt = C0*min(np.min(dt_1),np.min(dt_2),np.min(dt_3),np.min(dt_4))\n",
    "    # dt = C0*np.max(dt_1**(-2.0)+dt_2**(-2.0)+dt_3**(-2.0)+dt_4**(-2.0))**(-0.5)"
   ]
  },
  {
   "cell_type": "code",
   "execution_count": 8,
   "id": "7a7e4940",
   "metadata": {},
   "outputs": [],
   "source": [
    "def solve_source():\n",
    "    global xmin, xmax, ng, nx, dx, dy, dz, Ax, Ay, dV, ilo, ihi\n",
    "    global rho, P, e, T\n",
    "    global u, w\n",
    "\n",
    "    def s_update_velocity(): # Eq.(6.70)\n",
    "        global xmin, xmax, ng, nx, dx, dy, dz, Ax, Ay, dV, ilo, ihi\n",
    "        global rho, P, e, T\n",
    "        global u, w\n",
    "\n",
    "        for k in range(ilo,ihi):\n",
    "            for j in range(ilo,ihi):\n",
    "                u[k,j] -= 2.*dt*(P[k,j]-P[k,j-1])/(dx*(rho[k,j]+rho[k,j-1]))\n",
    "                w[k,j] -= 2.*dt*(P[k,j]-P[k-1,j])/(dy*(rho[k,j]+rho[k-1,j]))\n",
    "\n",
    "        apply_BCs(u)\n",
    "        apply_BCs(w)\n",
    "\n",
    "    def s_update_energy():\n",
    "        global xmin, xmax, ng, nx, dx, dy, dz, Ax, Ay, dV, ilo, ihi\n",
    "        global rho, P, e, T\n",
    "        global u, w\n",
    "        global e_temp, P_temp\n",
    "        \n",
    "\n",
    "        e_temp = np.zeros([nx+2*ng,nx+2*ng],dtype=np.float64)\n",
    "        P_temp = np.zeros([nx+2*ng,nx+2*ng],dtype=np.float64)\n",
    "        P_half = np.zeros([nx+2*ng,nx+2*ng],dtype=np.float64)\n",
    "\n",
    "        for k in range(ilo,ihi):\n",
    "            for j in range(ilo,ihi):        \n",
    "                e_temp[k,j] = e[k,j] - dt*P[k,j]*((u[k,j+1]-u[k,j])/dx + (w[k+1,j]-w[k,j])/dy)\n",
    "                P_temp[k,j] = e_temp[k,j]*rho[k,j]/(gamma-1.)\n",
    "                P_half[k,j] = 0.5*(P[k,j] + P_temp[k,j])\n",
    "                e[k,j] -= dt*P_half[k,j]*((u[k,j+1]-u[k,j])/dx + (w[k+1,j]-w[k,j])/dy)\n",
    "\n",
    "        P = e*rho*(gamma-1.)\n",
    "        T = (gamma-1.)*(rho*dV*e)/k_b\n",
    "\n",
    "        apply_BCs(e)\n",
    "        apply_BCs(P)\n",
    "        apply_BCs(T)\n",
    "\n",
    "    def s_apply_artificial_viscosity():\n",
    "        global xmin, xmax, ng, nx, dx, dy, dz, Ax, Ay, dV, ilo, ihi\n",
    "        global rho, P, e, T\n",
    "        global u, w\n",
    "\n",
    "        def obtain_Q():\n",
    "            global xmin, xmax, ng, nx, dx, dy, dz, Ax, Ay, dV, ilo, ihi\n",
    "            global rho, P, e, T\n",
    "            global u, w\n",
    "            global Qx, Qy\n",
    "\n",
    "            Qx = np.zeros([nx+2*ng,nx+2*ng],dtype=np.float64)\n",
    "            Qy = np.zeros([nx+2*ng,nx+2*ng],dtype=np.float64)\n",
    "\n",
    "            for k in range(ilo,ihi):\n",
    "                for j in range(ilo,ihi):\n",
    "                    if u[k,j+1]-u[k,j] < 0.:\n",
    "                        Qx[k,j] = q**2.*rho[k,j]*(u[k,j+1]-u[k,j])**2.\n",
    "                    else:\n",
    "                        Qx[k,j] = 0.\n",
    "\n",
    "            for k in range(ilo,ihi):\n",
    "                for j in range(ilo,ihi):\n",
    "                    if w[k+1,j]-w[k,j] < 0.:\n",
    "                        Qy[k,j] = q**2.*rho[k,j]*(w[k+1,j]-w[k,j])**2.\n",
    "                    else:\n",
    "                        Qy[k,j] =  0.\n",
    "\n",
    "        obtain_Q()\n",
    "        apply_BCs(Qx)\n",
    "        apply_BCs(Qy)\n",
    "\n",
    "        for k in range(ilo,ihi):\n",
    "            for j in range(ilo,ihi):\n",
    "                u[k,j] -= 2.*dt*(Qx[k,j]-Qx[k,j-1])/(dx*(rho[k,j]+rho[k,j-1]))\n",
    "                w[k,j] -= 2.*dt*(Qy[k,j]-Qy[k-1,j])/(dy*(rho[k,j]+rho[k-1,j]))\n",
    "                e[k,j] -= dt*(Qx[k,j]*(u[k,j+1]-u[k,j])/dx + Qy[k,j]*(w[k+1,j]-w[k,j])/dy)\n",
    "\n",
    "        apply_BCs(u)\n",
    "        apply_BCs(w)\n",
    "        apply_BCs(e)\n",
    "\n",
    "    s_update_velocity()\n",
    "    s_update_energy()\n",
    "    s_apply_artificial_viscosity()"
   ]
  },
  {
   "cell_type": "code",
   "execution_count": 234,
   "id": "89c55656",
   "metadata": {},
   "outputs": [],
   "source": [
    "def ad_obtain_avg(method=\"donor\"):\n",
    "    global xmin, xmax, ng, nx, dx, dy, dz, Ax, Ay, dV, ilo, ihi\n",
    "    global rho, P, e, T\n",
    "    global u, w\n",
    "    global avg_rho_x, avg_rho_y, avg_e_x, avg_e_y\n",
    "    global avg_u_x, avg_u_y, avg_w_x, avg_w_y\n",
    "    \n",
    "    avg_rho_x = np.zeros([nx+2*ng,nx+2*ng],dtype=np.float64)\n",
    "    avg_rho_y = np.zeros([nx+2*ng,nx+2*ng],dtype=np.float64)\n",
    "    avg_e_x = np.zeros([nx+2*ng,nx+2*ng],dtype=np.float64)\n",
    "    avg_e_y = np.zeros([nx+2*ng,nx+2*ng],dtype=np.float64)\n",
    "    avg_u_x = np.zeros([nx+2*ng,nx+2*ng],dtype=np.float64)\n",
    "    avg_u_y = np.zeros([nx+2*ng,nx+2*ng],dtype=np.float64)\n",
    "    avg_w_x = np.zeros([nx+2*ng,nx+2*ng],dtype=np.float64)\n",
    "    avg_w_y = np.zeros([nx+2*ng,nx+2*ng],dtype=np.float64)    \n",
    "    \n",
    "    if method == \"donor\": # use this for now\n",
    "        for k in range(ilo,ihi):\n",
    "            for j in range(ilo,ihi):\n",
    "\n",
    "                if u[k,j] >= 0.: \n",
    "                    avg_rho_x[k,j] = 0.5*(rho[k,j]+rho[k,j-1])\n",
    "                    avg_e_x[k,j] = 0.5*(e[k,j]+e[k,j-1])/avg_rho_x[k,j]\n",
    "                else: # u[k,j] < 0.:\n",
    "                    avg_rho_x[k,j] = 0.5*(rho[k,j+1]+rho[k,j])\n",
    "                    avg_e_x[k,j] = 0.5*(e[k,j+1]+e[k,j])/avg_rho_x[k,j]\n",
    "                    \n",
    "                if w[k,j] >= 0.:\n",
    "                    avg_rho_y[k,j] = 0.5*(rho[k,j]+rho[k-1,j])\n",
    "                    avg_e_y[k,j] = 0.5*(e[k,j]+e[k-1,j])/avg_rho_y[k,j]\n",
    "                else:\n",
    "                    avg_rho_y[k,j] = 0.5*(rho[k+1,j]+rho[k,j])\n",
    "                    avg_e_y[k,j] = 0.5*(e[k+1,j]+e[k,j])/avg_rho_y[k,j]                \n",
    "                \n",
    "                \n",
    "#                if u[k,j] >= 0.: \n",
    "#                    avg_rho_x[k,j] = 0.5*(rho[k,j]+rho[k,j-1])\n",
    "#                    avg_e_x[k,j] = 0.5*(e[k,j]+e[k,j-1])/avg_rho_x[k,j]\n",
    "#                else: # u[k,j] < 0.:\n",
    "#                    avg_rho_x[k,j] = 0.5*(rho[k,j+1]+rho[k,j])\n",
    "#                    avg_e_x[k,j] = 0.5*(e[k,j+1]+e[k,j])/avg_rho_x[k,j]\n",
    "#                    \n",
    "#                if w[k,j] >= 0.:\n",
    "#                    avg_rho_y[k,j] = 0.5*(rho[k,j]+rho[k-1,j])\n",
    "#                    avg_e_y[k,j] = 0.5*(e[k,j]+e[k-1,j])/avg_rho_y[k,j]\n",
    "#                else:\n",
    "#                    avg_rho_y[k,j] = 0.5*(rho[k+1,j]+rho[k,j])\n",
    "#                    avg_e_y[k,j] = 0.5*(e[k+1,j]+e[k,j])/avg_rho_y[k,j]\n",
    "\n",
    "                if 0.5*(u[k,j]+u[k,j+1]) >= 0.: #0.5*(u[k,j]+u[k,j-1]) <= 0.:\n",
    "                    avg_u_x[k,j] = u[k,j]\n",
    "                    avg_w_x[k,j] = w[k,j]#j\n",
    "                else:\n",
    "                    avg_u_x[k,j] = u[k,j]#u[k,j+1]#j-1\n",
    "                    avg_w_x[k,j] = w[k,j]#w[k,j+1]\n",
    "                    \n",
    "                if 0.5*(w[k,j]+w[k+1,j]) >= 0.: #0.5*(w[k,j]+w[k-1,j]) <= 0.:\n",
    "                    avg_u_y[k,j] = u[k,j]\n",
    "                    avg_w_y[k,j] = w[k,j]#k\n",
    "                else:\n",
    "                    avg_u_y[k,j] = u[k,j] #u[k+1,j]#k-1\n",
    "                    avg_w_y[k,j] = w[k,j]#w[k+1,j]\n",
    "\n",
    "                       \n",
    "    elif method == \"van Leer\":\n",
    "        print(\"Sorry, under development!\")\n",
    "    else:\n",
    "        print(\"Again, under development!\")\n",
    "    \n",
    "    total = [avg_rho_x, avg_rho_y, avg_e_x, avg_e_y, avg_u_x, avg_u_y, avg_w_x, avg_w_y]\n",
    "    for var in total:\n",
    "        apply_BCs(var)\n",
    "        \n",
    "#ad_obtain_avg(method=\"donor\")\n",
    "#print(np.max(avg_u_y))\n",
    "#colormaps()\n",
    "\n",
    "CHECK THE INDEX\n",
    "DONOR CELL METOD CHECK AGAIN\n",
    "GET SOME DECENT IDEA\n"
   ]
  },
  {
   "cell_type": "code",
   "execution_count": 229,
   "id": "eb1fabd6",
   "metadata": {},
   "outputs": [],
   "source": [
    "ad_obtain_avg(method=\"donor\")"
   ]
  },
  {
   "cell_type": "code",
   "execution_count": 230,
   "id": "42846aa5",
   "metadata": {
    "scrolled": false
   },
   "outputs": [
    {
     "data": {
      "text/plain": [
       "<matplotlib.collections.QuadMesh at 0x7fa3a2176100>"
      ]
     },
     "execution_count": 230,
     "metadata": {},
     "output_type": "execute_result"
    },
    {
     "data": {
      "image/png": "[encoded data removed]",
      "text/plain": [
       "<Figure size 720x720 with 1 Axes>"
      ]
     },
     "metadata": {
      "needs_background": "light"
     },
     "output_type": "display_data"
    }
   ],
   "source": [
    "#avg_u_y\n",
    "plt.pcolormesh(avg_rho_x)"
   ]
  },
  {
   "cell_type": "code",
   "execution_count": 116,
   "id": "a976e3ba",
   "metadata": {},
   "outputs": [],
   "source": [
    "def ad_update_density():\n",
    "    global xmin, xmax, ng, nx, dx, dy, dz, Ax, Ay, dV, ilo, ihi\n",
    "    global rho, P, e, T\n",
    "    global u, w\n",
    "    global f_rho_x, f_rho_y\n",
    "    global avg_rho_x, avg_rho_y, avg_e_x, avg_e_y\n",
    "    global avg_u_x, avg_u_y, avg_w_x, avg_w_y\n",
    "\n",
    "    \n",
    "    f_rho_x = np.zeros([nx+2*ng,nx+2*ng],dtype=np.float64)\n",
    "    f_rho_y = np.zeros([nx+2*ng,nx+2*ng],dtype=np.float64)    \n",
    "    \n",
    "    # density flux was k j\n",
    "    for k in range(ilo,ihi):\n",
    "        for j in range(ilo,ihi):\n",
    "            f_rho_x[k,j] = u[k,j]*avg_rho_x[k,j]*Ax\n",
    "            f_rho_y[k,j] = w[k,j]*avg_rho_y[k,j]*Ay\n",
    "\n",
    "    apply_BCs(f_rho_x)\n",
    "    apply_BCs(f_rho_y)\n",
    "\n",
    "    # density calculation\n",
    "    for k in range(ilo,ihi):\n",
    "        for j in range(ilo,ihi):            \n",
    "            rho[k,j] -= dt/dV*(f_rho_x[k,j+1]-f_rho_x[k,j])\n",
    "            rho[k,j] -= dt/dV*(f_rho_y[k+1,j]-f_rho_y[k,j])\n",
    "\n",
    "    apply_BCs(rho)\n",
    "    \n",
    "#ad_update_density()\n",
    "#colormaps()"
   ]
  },
  {
   "cell_type": "code",
   "execution_count": 168,
   "id": "06cfb9b7",
   "metadata": {},
   "outputs": [
    {
     "data": {
      "text/plain": [
       "<matplotlib.collections.QuadMesh at 0x7fa39c90eeb0>"
      ]
     },
     "execution_count": 168,
     "metadata": {},
     "output_type": "execute_result"
    },
    {
     "data": {
      "image/png": "[encoded data removed]",
      "text/plain": [
       "<Figure size 720x720 with 1 Axes>"
      ]
     },
     "metadata": {
      "needs_background": "light"
     },
     "output_type": "display_data"
    }
   ],
   "source": [
    "plt.pcolormesh(u)\n",
    "#plt.plot()"
   ]
  },
  {
   "cell_type": "code",
   "execution_count": 40,
   "id": "d2e70c25",
   "metadata": {},
   "outputs": [],
   "source": [
    "def ad_update_energy():\n",
    "    global xmin, xmax, ng, nx, dx, dy, dz, Ax, Ay, dV, ilo, ihi\n",
    "    global rho, P, e, T\n",
    "    global u, w\n",
    "    global f_e_x, f_e_y\n",
    "    \n",
    "    f_e_x = np.zeros([nx+2*ng,nx+2*ng],dtype=np.float64)\n",
    "    f_e_y = np.zeros([nx+2*ng,nx+2*ng],dtype=np.float64)\n",
    "\n",
    "    # energy flux\n",
    "    for k in range(ilo,ihi):\n",
    "        for j in range(ilo,ihi):            \n",
    "            f_e_x[k,j] = avg_e_x[k,j]*f_rho_x[k,j]\n",
    "            f_e_y[k,j] = avg_e_y[k,j]*f_rho_y[k,j]\n",
    "\n",
    "    apply_BCs(f_e_x)\n",
    "    apply_BCs(f_e_y)\n",
    "    \n",
    "    # energy calculation\n",
    "    for k in range(ilo,ihi):\n",
    "        for j in range(ilo,ihi):\n",
    "            e[k,j] -= dt/dV*(f_e_x[k,j+1]-f_e_x[k,j])\n",
    "            e[k,j] -= dt/dV*(f_e_y[k+1,j]-f_e_y[k,j])\n",
    "    \n",
    "    apply_BCs(e)\n",
    "\n",
    "#ad_update_energy()\n",
    "#colormaps()    "
   ]
  },
  {
   "cell_type": "code",
   "execution_count": 41,
   "id": "cc301abb",
   "metadata": {},
   "outputs": [],
   "source": [
    "ad_update_energy()"
   ]
  },
  {
   "cell_type": "code",
   "execution_count": 45,
   "id": "d688a441",
   "metadata": {},
   "outputs": [],
   "source": [
    "def ad_get_momentum():\n",
    "    global xmin, xmax, ng, nx, dx, dy, dz, Ax, Ay, dV, ilo, ihi\n",
    "    global rho, P, e, T\n",
    "    global u, w\n",
    "    global f_u_x, f_u_y, f_w_x, f_w_y\n",
    "    \n",
    "    f_u_x = np.zeros([nx+2*ng,nx+2*ng],dtype=np.float64)\n",
    "    f_u_y = np.zeros([nx+2*ng,nx+2*ng],dtype=np.float64)\n",
    "    f_w_x = np.zeros([nx+2*ng,nx+2*ng],dtype=np.float64)\n",
    "    f_w_y = np.zeros([nx+2*ng,nx+2*ng],dtype=np.float64)\n",
    "    \n",
    "    for k in range(ilo,ihi):\n",
    "        for j in range(ilo,ihi):\n",
    "            f_u_x[k,j] = avg_u_x[k,j]*0.5*(f_rho_x[k,j-1]+f_rho_x[k,j])\n",
    "            f_u_y[k,j] = avg_u_y[k,j]*0.5*(f_rho_y[k,j-1]+f_rho_y[k,j])\n",
    "            f_w_x[k,j] = avg_w_x[k,j]*0.5*(f_rho_x[k-1,j]+f_rho_x[k,j])\n",
    "            f_w_y[k,j] = avg_w_y[k,j]*0.5*(f_rho_y[k-1,j]+f_rho_y[k,j])\n",
    "\n",
    "    apply_BCs(f_u_x)\n",
    "    apply_BCs(f_u_y)            \n",
    "    apply_BCs(f_w_x)            \n",
    "    apply_BCs(f_w_y)\n",
    "\n",
    "#ad_get_momentum()\n",
    "#colormaps()"
   ]
  },
  {
   "cell_type": "code",
   "execution_count": 46,
   "id": "7ad050d7",
   "metadata": {},
   "outputs": [],
   "source": [
    "ad_get_momentum()"
   ]
  },
  {
   "cell_type": "code",
   "execution_count": 51,
   "id": "0b2d438a",
   "metadata": {},
   "outputs": [],
   "source": [
    "def ad_update_momentum():\n",
    "    global xmin, xmax, ng, nx, dx, dy, dz, Ax, Ay, dV, ilo, ihi\n",
    "    global rho, P, e, T\n",
    "    global u, w\n",
    "    global mom_den_u, mom_den_w\n",
    "    global f_u_x, f_u_y, f_w_x, f_w_y\n",
    "\n",
    "    mom_den_u = np.zeros([nx+2*ng,nx+2*ng],dtype=np.float64)\n",
    "    mom_den_w = np.zeros([nx+2*ng,nx+2*ng],dtype=np.float64)\n",
    "    \n",
    "    # momentum-density\n",
    "    for k in range(ilo,ihi):\n",
    "        for j in range(ilo,ihi):\n",
    "            mom_den_u[k,j] = 0.5*(rho[k,j]+rho[k,j-1])*u[k,j]\n",
    "            mom_den_w[k,j] = 0.5*(rho[k,j]+rho[k-1,j])*w[k,j]\n",
    "                \n",
    "    apply_BCs(mom_den_u)\n",
    "    apply_BCs(mom_den_w)\n",
    "    \n",
    "    # momentum-density update\n",
    "    for k in range(ilo,ihi):\n",
    "        for j in range(ilo,ihi):            \n",
    "            mom_den_u[k,j] -= dt/dV*(f_u_x[k,j+1]-f_u_x[k,j])\n",
    "            mom_den_u[k,j] -= dt/dV*(f_u_y[k+1,j]-f_u_y[k,j])\n",
    "\n",
    "            mom_den_w[k,j] -= dt/dV*(f_w_x[k,j+1]-f_w_x[k,j])\n",
    "            mom_den_w[k,j] -= dt/dV*(f_w_y[k+1,j]-f_w_y[k,j])\n",
    "\n",
    "    apply_BCs(mom_den_u)\n",
    "    apply_BCs(mom_den_w)\n",
    "    \n",
    "#ad_update_momentum()\n",
    "#colormaps()\n",
    "#print(mom_den_u)"
   ]
  },
  {
   "cell_type": "code",
   "execution_count": 52,
   "id": "44fe2da1",
   "metadata": {},
   "outputs": [],
   "source": [
    "ad_update_momentum()"
   ]
  },
  {
   "cell_type": "code",
   "execution_count": 55,
   "id": "7fa95af1",
   "metadata": {},
   "outputs": [],
   "source": [
    "def ad_update_velocity():\n",
    "    global xmin, xmax, ng, nx, dx, dy, dz, Ax, Ay, dV, ilo, ihi\n",
    "    global rho, P, e, T\n",
    "    global u, w\n",
    "    global mon_den_u, mon_den_w\n",
    "    \n",
    "    for k in range(ilo,ihi):\n",
    "        for j in range(ilo,ihi):\n",
    "            \n",
    "          #  if (u[k,j]+w[k,j]) >= 0.: #<=\n",
    "                u[k,j] = mom_den_u[k,j]/(0.5*(rho[k,j]+rho[k,j-1])) #rho[k,j]\n",
    "                w[k,j] = mom_den_w[k,j]/(0.5*(rho[k,j]+rho[k-1,j]))\n",
    "          #  else:\n",
    "          #      u[k,j] = mom_den_u[k,j]/(0.5*(rho[k,j]+rho[k,j+1])) #rho[k,j]\n",
    "          #      w[k,j] = mom_den_w[k,j]/(0.5*(rho[k,j]+rho[k+1,j]))\n",
    "            \n",
    "    apply_BCs(u)\n",
    "    apply_BCs(w)\n",
    "\n",
    "#ad_update_velocity()\n",
    "#colormaps()"
   ]
  },
  {
   "cell_type": "code",
   "execution_count": 56,
   "id": "ec83946f",
   "metadata": {},
   "outputs": [],
   "source": [
    "ad_update_velocity()"
   ]
  },
  {
   "cell_type": "code",
   "execution_count": 58,
   "id": "2b72b3b8",
   "metadata": {},
   "outputs": [
    {
     "data": {
      "text/plain": [
       "<matplotlib.collections.QuadMesh at 0x7fa3b0195340>"
      ]
     },
     "execution_count": 58,
     "metadata": {},
     "output_type": "execute_result"
    },
    {
     "data": {
      "image/png": "[encoded data removed]",
      "text/plain": [
       "<Figure size 720x720 with 1 Axes>"
      ]
     },
     "metadata": {
      "needs_background": "light"
     },
     "output_type": "display_data"
    }
   ],
   "source": [
    "plt.pcolormesh(w)"
   ]
  },
  {
   "cell_type": "code",
   "execution_count": 59,
   "id": "d4d45695",
   "metadata": {},
   "outputs": [],
   "source": [
    "def ad_update_temperature():\n",
    "    global xmin, xmax, ng, nx, dx, dy, dz, Ax, Ay, dV, ilo, ihi\n",
    "    global rho, P, e, T\n",
    "    global u, w\n",
    "    \n",
    "    for k in range(ilo,ihi):\n",
    "        for j in range(ilo,ihi):    \n",
    "            T[k,j] = (gamma-1.)*(rho[k,j]*dV*e[k,j])/k_b\n",
    "    apply_BCs(T)"
   ]
  },
  {
   "cell_type": "code",
   "execution_count": 231,
   "id": "1731359d",
   "metadata": {},
   "outputs": [],
   "source": [
    "def solve_advection():\n",
    "    global xmin, xmax, ng, nx, dx, dy, dz, Ax, Ay, dV, ilo, ihi\n",
    "    global rho, P, e, T\n",
    "    global u, w\n",
    "    global mon_den_u, mon_den_w\n",
    "    global avg_rho_x, avg_rho_y, avg_e_x, avg_e_y\n",
    "    global avg_u_x, avg_u_y, avg_w_x, avg_w_y\n",
    "\n",
    "    ad_obtain_avg()\n",
    "    \n",
    "    # density flux\n",
    "    ad_update_density()\n",
    "\n",
    "    # energy flux\n",
    "    ad_update_energy()\n",
    "    \n",
    "    # momentum-density\n",
    "    ad_get_momentum()\n",
    "    \n",
    "    # momentum-density update\n",
    "    ad_update_momentum()\n",
    "    \n",
    "    # update velocity\n",
    "    ad_update_velocity()\n",
    "    \n",
    "    ad_update_temperature()"
   ]
  },
  {
   "cell_type": "markdown",
   "id": "47e1f451",
   "metadata": {},
   "source": [
    "## Main program"
   ]
  },
  {
   "cell_type": "code",
   "execution_count": 237,
   "id": "0c0404ab",
   "metadata": {
    "scrolled": false
   },
   "outputs": [
    {
     "name": "stderr",
     "output_type": "stream",
     "text": [
      "/var/folders/kl/cl2v37tj7337kvyxng_b4gg00000gn/T/ipykernel_23883/1860100797.py:38: RuntimeWarning: invalid value encountered in true_divide\n",
      "  e = P/((gamma-1.)*rho)\n",
      "/var/folders/kl/cl2v37tj7337kvyxng_b4gg00000gn/T/ipykernel_23883/4025287686.py:22: RuntimeWarning: divide by zero encountered in true_divide\n",
      "  dt_3 = dx/(4.*q*q*np.abs(du)) #dy/np.abs(w)\n",
      "/var/folders/kl/cl2v37tj7337kvyxng_b4gg00000gn/T/ipykernel_23883/4025287686.py:23: RuntimeWarning: divide by zero encountered in true_divide\n",
      "  dt_4 = dy/(4.*q*q*np.abs(dw)) #np.min(dx/(4.q*q*np.abs(du)),dy/(4.q*q*np.abs(dw)))\n"
     ]
    },
    {
     "data": {
      "image/png": "[encoded data removed]",
      "text/plain": [
       "<Figure size 1224x1512 with 12 Axes>"
      ]
     },
     "metadata": {
      "needs_background": "light"
     },
     "output_type": "display_data"
    }
   ],
   "source": [
    "# setup the grid\n",
    "setup_grid()\n",
    "\n",
    "fill_ICs(type=\"1+1d shock\")\n",
    "\n",
    "total = [rho, P, e, T, u, w]\n",
    "for var in total:\n",
    "    apply_BCs(var)\n",
    "\n",
    "for i in range(60):    \n",
    "    \n",
    "    timestep()\n",
    "#    print(dt)\n",
    "    solve_source()\n",
    "    total = [rho, P, e, T, u, w]\n",
    "    for var in total:\n",
    "        apply_BCs(var)\n",
    "\n",
    "#    solve_advection()\n",
    "#    ad_obtain_avg()\n",
    "    \n",
    "    # density flux\n",
    "#    ad_update_density()\n",
    "\n",
    "    # energy flux\n",
    "#    ad_update_energy()\n",
    "    \n",
    "    # momentum-density\n",
    "#    ad_get_momentum()\n",
    "    \n",
    "    # momentum-density update\n",
    "#    ad_update_momentum()\n",
    "    \n",
    "    # update velocity\n",
    "#    ad_update_velocity()\n",
    "    \n",
    "#    ad_update_temperature()\n",
    "\n",
    "\n",
    "colormaps()\n",
    "\n",
    "#plt.pcolormesh(f_rho_x)"
   ]
  },
  {
   "cell_type": "code",
   "execution_count": 239,
   "id": "8b65cd59",
   "metadata": {},
   "outputs": [
    {
     "data": {
      "text/plain": [
       "[<matplotlib.lines.Line2D at 0x7fa3a2fe36d0>]"
      ]
     },
     "execution_count": 239,
     "metadata": {},
     "output_type": "execute_result"
    },
    {
     "data": {
      "image/png": "[encoded data removed]",
      "text/plain": [
       "<Figure size 720x720 with 1 Axes>"
      ]
     },
     "metadata": {
      "needs_background": "light"
     },
     "output_type": "display_data"
    }
   ],
   "source": [
    "plt.rcParams['figure.figsize'] = [10, 10]\n",
    "plt.plot(P[int((ihi+ng)/2),ilo:ihi])\n"
   ]
  },
  {
   "cell_type": "markdown",
   "id": "3f891515",
   "metadata": {},
   "source": [
    "## Implementing other's code to test animation"
   ]
  },
  {
   "cell_type": "code",
   "execution_count": 38,
   "id": "46bb09a5",
   "metadata": {},
   "outputs": [],
   "source": [
    "# We use numpy (for array related operations) and matplotlib (for plotting) \n",
    "# because they will help us a lot\n",
    "import numpy as np\n",
    "import matplotlib.pyplot as plt\n",
    "import matplotlib.animation as animation\n",
    "from matplotlib.animation import FuncAnimation\n",
    "\n",
    "plate_length = 50\n",
    "max_iter_time = 1000\n",
    "\n",
    "alpha = 2.0\n",
    "delta_x = 1\n",
    "\n",
    "# Calculated params\n",
    "delta_t = (delta_x ** 2)/(4 * alpha)\n",
    "gamma = (alpha * delta_t) / (delta_x ** 2)\n",
    "\n",
    "# Initialize solution: the grid of u(k, i, j)\n",
    "u = np.empty((max_iter_time, plate_length, plate_length))\n",
    "\n",
    "# Initial condition everywhere inside the grid\n",
    "u_initial = 0.0\n",
    "\n",
    "# Boundary conditions (fixed temperature)\n",
    "u_top = 100.0\n",
    "u_left = 0.0\n",
    "u_bottom = 0.0\n",
    "u_right = 0.0\n",
    "\n",
    "# Set the initial condition\n",
    "u.fill(u_initial)\n",
    "\n",
    "# Set the boundary conditions\n",
    "u[:, (plate_length-1):, :] = u_top\n",
    "u[:, :, :1] = u_left\n",
    "u[:, :1, 1:] = u_bottom\n",
    "u[:, :, (plate_length-1):] = u_right"
   ]
  },
  {
   "cell_type": "code",
   "execution_count": 39,
   "id": "f8799881",
   "metadata": {},
   "outputs": [],
   "source": [
    "def calculate(u):\n",
    "  for k in range(0, max_iter_time-1, 1):\n",
    "    for i in range(1, plate_length-1, delta_x):\n",
    "      for j in range(1, plate_length-1, delta_x):\n",
    "        u[k + 1, i, j] = gamma * (u[k][i+1][j] + u[k][i-1][j] + u[k][i][j+1] + u[k][i][j-1] - 4*u[k][i][j]) + u[k][i][j]\n",
    "  \n",
    "  return u"
   ]
  },
  {
   "cell_type": "code",
   "execution_count": 40,
   "id": "7fe34cde",
   "metadata": {},
   "outputs": [],
   "source": [
    "def plotheatmap(u_k, k):\n",
    "  # Clear the current plot figure\n",
    "  plt.clf()\n",
    "  plt.title(f\"Temperature at t = {k*delta_t:.3f} unit time\")\n",
    "  plt.xlabel(\"x\")\n",
    "  plt.ylabel(\"y\")\n",
    "  \n",
    "  # This is to plot u_k (u at time-step k)\n",
    "  plt.pcolormesh(u_k, cmap=plt.cm.jet, vmin=0, vmax=100)\n",
    "  plt.colorbar()\n",
    "  \n",
    "  return plt"
   ]
  },
  {
   "cell_type": "code",
   "execution_count": 41,
   "id": "5adcb084",
   "metadata": {},
   "outputs": [
    {
     "data": {
      "text/plain": [
       "<Figure size 720x720 with 0 Axes>"
      ]
     },
     "metadata": {},
     "output_type": "display_data"
    }
   ],
   "source": [
    "def animate(k):\n",
    "  plotheatmap(u[k], k)\n",
    "\n",
    "anim = animation.FuncAnimation(plt.figure(), animate, interval=1, frames=max_iter_time, repeat=False)\n",
    "#anim.save(\"heat_equation_solution.gif\")"
   ]
  },
  {
   "cell_type": "code",
   "execution_count": 42,
   "id": "a852a628",
   "metadata": {},
   "outputs": [
    {
     "name": "stdout",
     "output_type": "stream",
     "text": [
      "2D heat equation solver\n"
     ]
    },
    {
     "name": "stderr",
     "output_type": "stream",
     "text": [
      "/Users/avm4/opt/anaconda3/lib/python3.9/site-packages/matplotlib/animation.py:889: UserWarning: Animation was deleted without rendering anything. This is most likely not intended. To prevent deletion, assign the Animation to a variable, e.g. `anim`, that exists until you have outputted the Animation using `plt.show()` or `anim.save()`.\n",
      "  warnings.warn(\n"
     ]
    },
    {
     "name": "stdout",
     "output_type": "stream",
     "text": [
      "Done!\n"
     ]
    },
    {
     "data": {
      "image/png": "[encoded data removed]",
      "text/plain": [
       "<Figure size 720x720 with 2 Axes>"
      ]
     },
     "metadata": {
      "needs_background": "light"
     },
     "output_type": "display_data"
    }
   ],
   "source": [
    "import numpy as np\n",
    "import matplotlib.pyplot as plt\n",
    "import matplotlib.animation as animation\n",
    "from matplotlib.animation import FuncAnimation\n",
    "\n",
    "print(\"2D heat equation solver\")\n",
    "\n",
    "plate_length = 50\n",
    "max_iter_time = 750\n",
    "\n",
    "alpha = 2\n",
    "delta_x = 1\n",
    "\n",
    "delta_t = (delta_x ** 2)/(4 * alpha)\n",
    "gamma = (alpha * delta_t) / (delta_x ** 2)\n",
    "\n",
    "# Initialize solution: the grid of u(k, i, j)\n",
    "u = np.empty((max_iter_time, plate_length, plate_length))\n",
    "\n",
    "# Initial condition everywhere inside the grid\n",
    "u_initial = 0\n",
    "\n",
    "# Boundary conditions\n",
    "u_top = 100.0\n",
    "u_left = 0.0\n",
    "u_bottom = 0.0\n",
    "u_right = 0.0\n",
    "\n",
    "# Set the initial condition\n",
    "u.fill(u_initial)\n",
    "\n",
    "# Set the boundary conditions\n",
    "u[:, (plate_length-1):, :] = u_top\n",
    "u[:, :, :1] = u_left\n",
    "u[:, :1, 1:] = u_bottom\n",
    "u[:, :, (plate_length-1):] = u_right\n",
    "\n",
    "def calculate(u):\n",
    "    for k in range(0, max_iter_time-1, 1):\n",
    "        for i in range(1, plate_length-1, delta_x):\n",
    "            for j in range(1, plate_length-1, delta_x):\n",
    "                u[k + 1, i, j] = gamma * (u[k][i+1][j] + u[k][i-1][j] + u[k][i][j+1] + u[k][i][j-1] - 4*u[k][i][j]) + u[k][i][j]\n",
    "\n",
    "    return u\n",
    "\n",
    "def plotheatmap(u_k, k):\n",
    "    # Clear the current plot figure\n",
    "    plt.clf()\n",
    "\n",
    "    plt.title(f\"Temperature at t = {k*delta_t:.3f} unit time\")\n",
    "    plt.xlabel(\"x\")\n",
    "    plt.ylabel(\"y\")\n",
    "\n",
    "    # This is to plot u_k (u at time-step k)\n",
    "    plt.pcolormesh(u_k, cmap=plt.cm.jet, vmin=0, vmax=100)\n",
    "    plt.colorbar()\n",
    "\n",
    "    return plt\n",
    "\n",
    "# Do the calculation here\n",
    "u = calculate(u)\n",
    "\n",
    "def animate(k):\n",
    "    plotheatmap(u[k], k)\n",
    "\n",
    "anim = animation.FuncAnimation(plt.figure(), animate, interval=1, frames=max_iter_time, repeat=False)\n",
    "anim.save(\"heat_equation_solution.gif\")#,writer='Pillow', fps=2)\n",
    "\n",
    "print(\"Done!\")"
   ]
  },
  {
   "cell_type": "code",
   "execution_count": null,
   "id": "62e19f99",
   "metadata": {},
   "outputs": [],
   "source": []
  },
  {
   "cell_type": "code",
   "execution_count": null,
   "id": "b6a80871",
   "metadata": {},
   "outputs": [],
   "source": []
  }
 ],
 "metadata": {
  "kernelspec": {
   "display_name": "Python 3 (ipykernel)",
   "language": "python",
   "name": "python3"
  },
  "language_info": {
   "codemirror_mode": {
    "name": "ipython",
    "version": 3
   },
   "file_extension": ".py",
   "mimetype": "text/x-python",
   "name": "python",
   "nbconvert_exporter": "python",
   "pygments_lexer": "ipython3",
   "version": "3.8.2"
  }
 },
 "nbformat": 4,
 "nbformat_minor": 5
}
