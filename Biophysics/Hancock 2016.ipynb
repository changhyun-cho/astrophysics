{
 "cells": [
  {
   "cell_type": "markdown",
   "id": "8ff73ba9",
   "metadata": {},
   "source": [
    "# Title: The Kinesin-1 Chemomechanical Cycle: Stepping Toward a Consensus"
   ]
  },
  {
   "cell_type": "markdown",
   "id": "c349da96",
   "metadata": {},
   "source": [
    "## Author: William O. Hancock (PSU)"
   ]
  },
  {
   "cell_type": "markdown",
   "id": "ee8d1fe7",
   "metadata": {},
   "source": [
    "## Abstract"
   ]
  },
  {
   "cell_type": "markdown",
   "id": "db5f22f9",
   "metadata": {},
   "source": [
    "### Kinesin\n",
    "- Important object\n",
    "- Disagreement regarding the events that trigger two key transitions\n",
    " - detachment of the trailing head from the microtubule\n",
    " - binding of the tethered head to the next tubulin binding site"
   ]
  },
  {
   "cell_type": "markdown",
   "id": "9da0327b",
   "metadata": {},
   "source": [
    "#### This review will show\n",
    "- conflicts\n",
    "- highlights\n",
    "- fundamental frameworks"
   ]
  },
  {
   "cell_type": "markdown",
   "id": "042709f2",
   "metadata": {},
   "source": [
    "## Introduction"
   ]
  },
  {
   "cell_type": "markdown",
   "id": "de022d40",
   "metadata": {},
   "source": [
    "### Consensus\n",
    "- Structural states\n",
    "- Chemical transitions underlying kinesin-1 stepping"
   ]
  },
  {
   "cell_type": "markdown",
   "id": "205a71aa",
   "metadata": {},
   "source": [
    "### Disagreement\n",
    "- What processes trigger detachment of one head to initiate a step\n",
    "- What processes trigger reattachment of the tethered head to complete the step"
   ]
  },
  {
   "cell_type": "markdown",
   "id": "2539546a",
   "metadata": {},
   "source": [
    "### Two hydrolysis cycle models\n",
    "\n",
    "#### Front-head gating\n",
    "\n",
    "#### ATP triggered detachment"
   ]
  },
  {
   "cell_type": "markdown",
   "id": "fbb6762c",
   "metadata": {},
   "source": [
    "### Recent work shows\n",
    "- ATP binding alone is insufficient\n",
    "- ATP hydrolysis is the key chemical transition"
   ]
  },
  {
   "cell_type": "markdown",
   "id": "905a918e",
   "metadata": {},
   "source": [
    "### Goal of this review\n",
    "\n",
    "1. What events trigger the 2HB (two-heads-bound) to 1HB (one-head-bound) transition that initiates the forward step?\n",
    "2. What events trigger the 1HB to 2HB transition that completes the step?\n",
    "3. What chemomechanical transitions determine processivity?"
   ]
  },
  {
   "cell_type": "markdown",
   "id": "ab9efa09",
   "metadata": {},
   "source": [
    "### The review will describe\n",
    "- A role of the neck linker domain in kinesin processivity\n",
    "- A role of grating between the kinesin heads\n",
    "- **Stepping cycle**\n",
    "- Kinesin-1 chemomechanical cycle"
   ]
  },
  {
   "cell_type": "markdown",
   "id": "1f8239f5",
   "metadata": {},
   "source": [
    "## The role of neck linker length in processivity motor function"
   ]
  },
  {
   "cell_type": "markdown",
   "id": "20e8c9fb",
   "metadata": {},
   "source": []
  }
 ],
 "metadata": {
  "kernelspec": {
   "display_name": "Python 3 (ipykernel)",
   "language": "python",
   "name": "python3"
  },
  "language_info": {
   "codemirror_mode": {
    "name": "ipython",
    "version": 3
   },
   "file_extension": ".py",
   "mimetype": "text/x-python",
   "name": "python",
   "nbconvert_exporter": "python",
   "pygments_lexer": "ipython3",
   "version": "3.8.2"
  }
 },
 "nbformat": 4,
 "nbformat_minor": 5
}
