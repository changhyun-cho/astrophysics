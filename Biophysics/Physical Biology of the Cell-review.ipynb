{
 "cells": [
  {
   "cell_type": "markdown",
   "id": "da163862",
   "metadata": {},
   "source": [
    "# Chapter 16. Dynamics of Molecular Motors"
   ]
  },
  {
   "cell_type": "markdown",
   "id": "fad8e07d",
   "metadata": {},
   "source": [
    "### Active transport\n",
    "- Important to mediate cellular life"
   ]
  },
  {
   "cell_type": "markdown",
   "id": "3ab374e6",
   "metadata": {},
   "source": [
    "### Molecular motor\n",
    "- Perform active transport\n",
    "- Maintain its non-equilibrium character\n",
    "- Perform work by consumption of ATP (chemomechanical coupling)"
   ]
  },
  {
   "cell_type": "markdown",
   "id": "4f80d8c0",
   "metadata": {},
   "source": [
    "## In this chapter, we learn\n",
    "- Different class of molecular motors\n",
    "- Cellular processes they mediate\n",
    "- Rate equation"
   ]
  },
  {
   "cell_type": "markdown",
   "id": "3d4e935e",
   "metadata": {},
   "source": [
    "# 16.1 The Dynamics of Molecular Motors: Life in Noisy Lane"
   ]
  },
  {
   "cell_type": "markdown",
   "id": "0b6618a2",
   "metadata": {},
   "source": [
    "- Non-random movement\n",
    "- Chemical energy $\\rightarrow\\$ mechanical energy"
   ]
  },
  {
   "cell_type": "markdown",
   "id": "da0206a2",
   "metadata": {},
   "source": [
    "## Classes of molecular motors"
   ]
  },
  {
   "cell_type": "markdown",
   "id": "88a6a66b",
   "metadata": {},
   "source": [
    "### 1. Translational motors\n",
    "\n",
    "- Move in a one-dimensional fashion along a track\n",
    " - Myosin: muscle contraction\n",
    " - Helicases: unwind the double helix"
   ]
  },
  {
   "cell_type": "markdown",
   "id": "9c73b064",
   "metadata": {},
   "source": [
    "### 2. Rotary motors\n",
    "\n",
    "- Embedded in the cell membrane\n",
    "- Generate torque by rotation\n",
    " - Bacterial flagellar motor"
   ]
  },
  {
   "cell_type": "markdown",
   "id": "7aa5dbce",
   "metadata": {},
   "source": [
    "### 3. Polymerization motors\n",
    "\n",
    "- Energy can be released during the process of subunit polymerization or depolmerization.\n",
    "- Both actin assembly and microtubule assembly are harnessed by cells to generate force directly, as well as to provide linear tracks for other force-generating translational motors."
   ]
  },
  {
   "cell_type": "markdown",
   "id": "e4a92240",
   "metadata": {},
   "source": [
    "### 4. Translocation motors\n",
    "\n",
    "- Threading a structure through a hole and then pushing it or pulling it across a membrane"
   ]
  },
  {
   "cell_type": "markdown",
   "id": "63d2e4f4",
   "metadata": {},
   "source": [
    "Some important motors combine features of more than one class."
   ]
  },
  {
   "cell_type": "markdown",
   "id": "6ae845e6",
   "metadata": {},
   "source": [
    "There are several kinds of force-generating systems known to operate in specialized cells that do not fit easily within this framework."
   ]
  },
  {
   "cell_type": "markdown",
   "id": "131ca81a",
   "metadata": {},
   "source": [
    "### Goal\n",
    "\n",
    "- Examine structure and function of these different classes of motor\n",
    "- Show how simple rate equations can be used to understand many aspect of their operation"
   ]
  },
  {
   "cell_type": "markdown",
   "id": "1ddab903",
   "metadata": {},
   "source": [
    "### Kinesin\n",
    "\n",
    "- Translational motor that moves along microtubules\n",
    "- Requires\n",
    " - measuring the biochemical rate constants associated with its hydrolysis of ATP\n",
    " - physical properties such as the speed with which it moves and the amount of force that it can generate"
   ]
  },
  {
   "cell_type": "markdown",
   "id": "cceb5b5f",
   "metadata": {},
   "source": [
    "## Technical difficulties"
   ]
  },
  {
   "cell_type": "markdown",
   "id": "6caad232",
   "metadata": {},
   "source": [
    "- Size: few nanometer scale\n",
    "- They operate under conditions where thermal motions are significant"
   ]
  },
  {
   "cell_type": "markdown",
   "id": "b2b81ec1",
   "metadata": {},
   "source": [
    "The motor's speed depends on the applied force in a way that must reflect its mechanochemical energy conversion mechanism."
   ]
  },
  {
   "cell_type": "markdown",
   "id": "6b5ad44d",
   "metadata": {},
   "source": [
    "## 16.1.1 Translational Motors: Beating the Diffusive Speed Limit"
   ]
  },
  {
   "cell_type": "markdown",
   "id": "ea35c803",
   "metadata": {},
   "source": [
    "- Responsible for motile processes"
   ]
  },
  {
   "cell_type": "markdown",
   "id": "cf72f1bf",
   "metadata": {},
   "source": [
    "- Translational cytoskeletal motors can be classified into three protein families\n",
    " - Myosin\n",
    " - Kinesin\n",
    " - Dynein"
   ]
  },
  {
   "cell_type": "markdown",
   "id": "c31d24ee",
   "metadata": {},
   "source": [
    "- Each type of motor is able to move in one direction.\n",
    " - Dynein protein family moves along microtublues towards the minus end.\n",
    " - Kinesin moves towards the opposite (plus end)."
   ]
  },
  {
   "cell_type": "markdown",
   "id": "53215648",
   "metadata": {},
   "source": [
    "- Each of these motors moves along its substrate track by taking a series of *discrete steps or fixed size*.\n",
    " - tightly coupled to a single biochemical cycle of ATP binding\n",
    " - hydrolysis\n",
    " - product release"
   ]
  },
  {
   "cell_type": "markdown",
   "id": "f9eb3176",
   "metadata": {},
   "source": [
    "- (Net speed) = (step size) x (number of steps it can take per unit time)"
   ]
  },
  {
   "cell_type": "markdown",
   "id": "7515fe96",
   "metadata": {},
   "source": [
    "- Another important feature of translation motors is their processivity."
   ]
  },
  {
   "cell_type": "markdown",
   "id": "2a6abe90",
   "metadata": {},
   "source": [
    "- The amount of force that can exerted by a single motor taking a single step is ultimately limited by the amount of chemical energy liberated by hydrolysis of a single molecule of ATP."
   ]
  },
  {
   "cell_type": "markdown",
   "id": "44e74afc",
   "metadata": {},
   "source": [
    "### Estimate: Force Exerted During a Single Motor Step"
   ]
  },
  {
   "cell_type": "markdown",
   "id": "6002d12f",
   "metadata": {},
   "source": [
    "$$ \\large F_{\\text{max}} = \\frac{\\text{free energy of ATP hydrolysis}}{\\text{step size}} \\approx \\frac{20 k_B T}{8 nm} \\approx 10 pN $$"
   ]
  },
  {
   "cell_type": "markdown",
   "id": "df619b0b",
   "metadata": {},
   "source": [
    "- Assumptions\n",
    " - thermal energy scale: $k_B T \\approx 4 pN \\ nm$\n",
    " - 100% energy efficiency"
   ]
  },
  {
   "cell_type": "markdown",
   "id": "2f434a82",
   "metadata": {},
   "source": [
    "- Different kinesin family members bind to different cargoes and move along microtubules at different speeds."
   ]
  },
  {
   "cell_type": "markdown",
   "id": "d0e0b740",
   "metadata": {},
   "source": [
    "### Domain organization of motors"
   ]
  },
  {
   "cell_type": "markdown",
   "id": "163e690e",
   "metadata": {},
   "source": [
    "- Head domain\n",
    " - ATP-binding domain\n",
    " - binds to its target filaments\n",
    " - catalyzes the *hydrolysis of ATP*\n",
    "  - must be coupled to a second cycle of binding and unbinding to the track\n",
    " - undergoes a conformational change allowing it to make a step along its linear track"
   ]
  },
  {
   "cell_type": "markdown",
   "id": "b2173d2f",
   "metadata": {},
   "source": [
    "- Tail domain\n",
    " - binds to cargo"
   ]
  },
  {
   "cell_type": "markdown",
   "id": "83212ba2",
   "metadata": {},
   "source": [
    "- - - "
   ]
  },
  {
   "cell_type": "markdown",
   "id": "380b2ddc",
   "metadata": {},
   "source": [
    "### The Motion of Eukaryotic Cilia Flagella Is Driven by Translational Motors"
   ]
  },
  {
   "cell_type": "markdown",
   "id": "3ad5343e",
   "metadata": {},
   "source": [
    "### Muscle Contraction Is Mediated by Myosin Motors"
   ]
  },
  {
   "cell_type": "markdown",
   "id": "5a1f5802",
   "metadata": {},
   "source": [
    "### Estimate: Myosin and Muscle Forces"
   ]
  },
  {
   "cell_type": "markdown",
   "id": "c6f8eb6e",
   "metadata": {},
   "source": [
    "### Experiments Behind the Facts: Measuring Motor Action"
   ]
  },
  {
   "cell_type": "markdown",
   "id": "b380f9da",
   "metadata": {},
   "source": [
    "## 16.1.2 Rotary Motors"
   ]
  },
  {
   "cell_type": "markdown",
   "id": "c5ffd336",
   "metadata": {},
   "source": [
    "### Experiments Behind the Facts: Dynamics of Rotary Motors"
   ]
  },
  {
   "cell_type": "markdown",
   "id": "787d7b99",
   "metadata": {},
   "source": [
    "## 16.1.3 Polymerization Motors: Pushing by Growing"
   ]
  },
  {
   "cell_type": "markdown",
   "id": "a80e3b87",
   "metadata": {},
   "source": [
    "## 16.1.4 Translocation Motors: Pushing by Pulling"
   ]
  },
  {
   "cell_type": "markdown",
   "id": "c8cf15ec",
   "metadata": {},
   "source": [
    "- - -"
   ]
  },
  {
   "cell_type": "markdown",
   "id": "ff100b19",
   "metadata": {},
   "source": [
    "# 16.2 Rectified Brownian Motion and Molecular Motors"
   ]
  },
  {
   "cell_type": "markdown",
   "id": "fd6fe1ff",
   "metadata": {},
   "source": [
    "### Key questions\n",
    "\n",
    "- What is the mean velocity of a motor?\n",
    " - How does it depend upon the applied load?\n",
    "- How much force can a motor exert before it will stall?\n",
    "- How does the velocity depend upon the concentration of ATP or some other fuel?\n",
    "- How different is the trajectory of a given motor from one experiment to the next?"
   ]
  },
  {
   "cell_type": "markdown",
   "id": "b107dc41",
   "metadata": {},
   "source": [
    "## 16.2.1. The Random Walk Yet Again"
   ]
  },
  {
   "cell_type": "markdown",
   "id": "0c86c274",
   "metadata": {},
   "source": [
    "### Molecular Motors Can Be Thought of as Random Walkers"
   ]
  },
  {
   "cell_type": "markdown",
   "id": "16b09039",
   "metadata": {},
   "source": [
    "Motors are characterized by a **state space** in which the motor can occupy a set of geometric positions, and at each such position it can occupy a set of internal structural states.\n",
    "\n",
    "- n slots on the track\n",
    " - Assumption: The motor position along the track can be discretized into equal-sized boxes.\n",
    "- P distinct states"
   ]
  },
  {
   "cell_type": "markdown",
   "id": "b971eb26",
   "metadata": {},
   "source": [
    "### Probability $p_m(n,t)$\n",
    "- Probability that the motor is at position $na$ along its polymer track and has internal state $m$ at time $t$.\n",
    " - $a$: distance between successive periodic positions of the track\n",
    "- We can get the mean velocity as a function of applied load."
   ]
  },
  {
   "cell_type": "markdown",
   "id": "786ca35e",
   "metadata": {},
   "source": [
    "## 16.2.2. The One-State Model"
   ]
  },
  {
   "cell_type": "markdown",
   "id": "99974a2f",
   "metadata": {},
   "source": [
    "### Assumption"
   ]
  },
  {
   "cell_type": "markdown",
   "id": "3f881a7c",
   "metadata": {},
   "source": [
    "- The motor has no internal states.\n",
    "- The motor simply hops from one site to the next with forward rate $k_+(F)$ and backward $k_-(F)$ under the action of the applied force $F$.\n",
    " - rate = probability per unit time\n",
    " - $k_+(F) \\neq k_-(F)$ even when $F=0$\n",
    " - applied force $F$ acts on the backward"
   ]
  },
  {
   "cell_type": "markdown",
   "id": "bbe7116b",
   "metadata": {},
   "source": [
    "### The Dynamics of a Molecular Motor Can Be Written Using a Master Equation"
   ]
  },
  {
   "cell_type": "markdown",
   "id": "7a050d23",
   "metadata": {},
   "source": [
    "To determine the evolution equation, we sum over all microtrajectories."
   ]
  },
  {
   "cell_type": "markdown",
   "id": "cd14c854",
   "metadata": {},
   "source": [
    "$$ \\large \\begin{split}\n",
    "p(n,t+\\Delta t) & = \\text{(Jump from site to left) + (Jump from site to right) + (Stay put)} \\\\\n",
    "\\\\\n",
    "& = k_+ \\Delta t p(n-1, t) + k_- \\Delta t p(n+1, t) + (1 - k_+ \\Delta t - k_- \\Delta t) p(n,t) \n",
    "\\end{split} $$"
   ]
  },
  {
   "cell_type": "markdown",
   "id": "1f70b9e8",
   "metadata": {},
   "source": [
    "Then, \n",
    "\n",
    "$$ \\large \\boxed{\\frac{p(n,t+\\Delta t) - p(n,t)}{\\Delta t} = k_+[p(n-1,t) - p(n,t)] + k_-[p(n+1,t) - p(n,t)]} $$"
   ]
  },
  {
   "cell_type": "markdown",
   "id": "e39afcd8",
   "metadata": {},
   "source": [
    "It is called the **master equation**."
   ]
  },
  {
   "cell_type": "markdown",
   "id": "ccf51c3a",
   "metadata": {},
   "source": [
    "Consider the probability distribution as a *continuous function* of the position $x$ when $x=na$."
   ]
  },
  {
   "cell_type": "markdown",
   "id": "abedecd7",
   "metadata": {},
   "source": [
    "Then we can use a Taylor expansion,\n",
    "\n",
    "$$ \\large p(x \\pm a, t) \\approx p(x,t) \\pm \\frac{\\partial p}{\\partial x}a + \\frac{1}{2} \\frac{\\partial^2 p}{\\partial x^2}a^2 $$"
   ]
  },
  {
   "cell_type": "markdown",
   "id": "61b67e38",
   "metadata": {},
   "source": [
    "By using the approximations as follows\n",
    "\n",
    "$$ \\large \\frac{p(x,t+\\Delta t) - p(x,t)}{\\Delta t} \\approx \\frac{\\partial p(x,t)}{\\partial t} $$\n",
    "\n",
    "$$ \\large p(n-1, t) \\approx p(n,t) - \\frac{\\partial p}{\\partial x} (a) + \\frac{1}{2} \\frac{\\partial^2 p}{\\partial x^2}(a)^2 $$\n",
    "\n",
    "$$ \\large p(n+1, t) \\approx p(n,t) + \\frac{\\partial p}{\\partial x} (a) + \\frac{1}{2} \\frac{\\partial^2 p}{\\partial x^2}(a)^2 $$"
   ]
  },
  {
   "cell_type": "markdown",
   "id": "05838964",
   "metadata": {},
   "source": [
    "Thus,\n",
    "\n",
    "$$ \\large k_+[p(n-1,t) - p(n,t)] \\approx - k_+ \\frac{\\partial p}{\\partial x}a + \\frac{1}{2} k_+ \\frac{\\partial^2 p}{\\partial x^2} a^2 $$\n",
    "\n",
    "$$ \\large k_+[p(n+1,t) - p(n,t)] \\approx + k_- \\frac{\\partial p}{\\partial x}a + \\frac{1}{2} k_- \\frac{\\partial^2 p}{\\partial x^2} a^2 $$\n"
   ]
  },
  {
   "cell_type": "markdown",
   "id": "bd6622a7",
   "metadata": {},
   "source": [
    "Therefore, \n",
    "\n",
    "$$ \\large \\begin{split} \\frac{\\partial p}{\\partial t} & = - (k_+ - k_-) \\frac{\\partial p}{\\partial x}a + \\frac{1}{2} (k_+ + k_-) \\frac{\\partial^2 p}{\\partial x^2} a^2 \\\\ \n",
    "\\\\\n",
    " & = -V \\frac{\\partial p}{\\partial x} + D \\frac{\\partial^2 p}{\\partial x^2}\n",
    "\\end{split}\n",
    "$$\n",
    "\n",
    "The master equation becomes\n",
    "\n",
    "$$ \\large \\boxed{\\frac{\\partial p}{\\partial t} = -V \\frac{\\partial p}{\\partial x} + D \\frac{\\partial^2 p}{\\partial x^2}} $$\n",
    "\n",
    "where\n",
    "\n",
    "$$ \\large V = a[k_+ - k_-] $$\n",
    "\n",
    "$$ \\large D = \\frac{a^2}{2} [k_+ + k_-] $$\n",
    "\n",
    "\n",
    "This is the **equation for diffusion** in the presence of a force!"
   ]
  },
  {
   "cell_type": "markdown",
   "id": "2a824c50",
   "metadata": {},
   "source": [
    "- The motors move with an average velocity $V$.\n",
    "\n",
    "- However, if we start a collection of motors on parallel filaments all at the same time, they spread out in a way charaterized by the diffusion constant $D$ over time."
   ]
  },
  {
   "cell_type": "markdown",
   "id": "92209828",
   "metadata": {},
   "source": [
    "### The Driven Diffusion Equation Can Be Transformed into an Ordinary Diffusion Equation"
   ]
  },
  {
   "cell_type": "markdown",
   "id": "dd4e4f43",
   "metadata": {},
   "source": [
    "Driven diffusion equation $\\quad \\xrightarrow{\\text{change of variables}} \\quad $ Ordinary diffusion equation (solution already known)"
   ]
  },
  {
   "cell_type": "markdown",
   "id": "ef2d23de",
   "metadata": {},
   "source": [
    "#### Change of variables"
   ]
  },
  {
   "cell_type": "markdown",
   "id": "ab3340c3",
   "metadata": {},
   "source": [
    "- $\\bar{t} = t$\n",
    "\n",
    "- $\\bar{x} = x - Vt $\n",
    "\n",
    "Just shifting to a frame of reference"
   ]
  },
  {
   "cell_type": "markdown",
   "id": "05be606b",
   "metadata": {},
   "source": [
    "#### Time derivative"
   ]
  },
  {
   "cell_type": "markdown",
   "id": "458506b0",
   "metadata": {},
   "source": [
    "$$ \\large \\frac{\\partial p}{\\partial t} = \\frac{\\partial p}{\\partial \\bar{t}} \\frac{\\partial \\bar{t}}{\\partial t} + \\frac{\\partial p}{\\partial \\bar{x}} \\frac{\\partial \\bar{x}}{\\partial t} = \\frac{\\partial p}{\\partial \\bar{t}} - V \\frac{\\partial p}{\\partial \\bar{x}} $$"
   ]
  },
  {
   "cell_type": "markdown",
   "id": "21e1a825",
   "metadata": {},
   "source": [
    "#### Spatial derivatives"
   ]
  },
  {
   "cell_type": "markdown",
   "id": "3abed726",
   "metadata": {},
   "source": [
    "$$ \\large \\frac{\\partial p}{\\partial x} = \\frac{\\partial p}{\\partial \\bar{x}} $$"
   ]
  },
  {
   "cell_type": "markdown",
   "id": "af6e7b9e",
   "metadata": {},
   "source": [
    "$$ \\large \\frac{\\partial^2 p}{\\partial x^2} = \\frac{\\partial^2 p}{\\partial \\bar{x}^2} $$"
   ]
  },
  {
   "cell_type": "markdown",
   "id": "bb16cfd1",
   "metadata": {},
   "source": [
    "Then the master equation becomes the ordinary diffusion equation (Driven term is gone.)"
   ]
  },
  {
   "cell_type": "markdown",
   "id": "f42ba375",
   "metadata": {},
   "source": [
    "$$ \\large \\frac{\\partial p}{\\partial \\bar{t}} = D \\frac{\\partial^2 p}{\\partial \\bar{x}^2} $$"
   ]
  },
  {
   "cell_type": "markdown",
   "id": "324a7717",
   "metadata": {},
   "source": [
    "#### Solution"
   ]
  },
  {
   "cell_type": "markdown",
   "id": "2e979c1e",
   "metadata": {},
   "source": [
    "- Initial condition: $\\bar{x} = 0$ at $t = 0$"
   ]
  },
  {
   "cell_type": "markdown",
   "id": "29680330",
   "metadata": {},
   "source": [
    "$$ \\large p(\\bar{x},\\bar{t}) = \\frac{1}{\\sqrt{4 \\pi D \\bar{t}}} e^{- \\bar{x}^2/4D\\bar{t} } $$"
   ]
  },
  {
   "cell_type": "markdown",
   "id": "eca2dcb5",
   "metadata": {},
   "source": [
    "In original variables,"
   ]
  },
  {
   "cell_type": "markdown",
   "id": "12e194e6",
   "metadata": {},
   "source": [
    "$$ \\large p(x,t) = \\frac{1}{\\sqrt{4 \\pi D t}} e^{- (x-Vt)^2/4Dt } $$"
   ]
  },
  {
   "cell_type": "markdown",
   "id": "457ba970",
   "metadata": {},
   "source": [
    "As time passes, the center of mass of the probability distribution moves to the right with mean velocity $V$, and the distribution becomes wider due to diffusion."
   ]
  },
  {
   "cell_type": "markdown",
   "id": "66caf7a7",
   "metadata": {},
   "source": [
    "#### Asymmetric jump rates $k_+(F)$ and $k_-(F)$"
   ]
  },
  {
   "cell_type": "markdown",
   "id": "63f28b6d",
   "metadata": {},
   "source": [
    "In equilibrium, the ratio of the rates has to satisfy a special relation."
   ]
  },
  {
   "cell_type": "markdown",
   "id": "c6e9fdca",
   "metadata": {},
   "source": [
    "- There is no net flux from one state ($p_n$) to the other ($p_{n+1}$)\n",
    "\n",
    "$$ \\large k_+ p_n = k_- p_{n+1} $$"
   ]
  },
  {
   "cell_type": "markdown",
   "id": "8fd13e77",
   "metadata": {},
   "source": [
    "- Equilibrium probabilities are given by the Boltzmann formula\n",
    "\n",
    "$$ \\large p_n = \\frac{e^{-\\beta G_n}}{Z} $$\n",
    "\n",
    "where\n",
    "\n",
    "- $G_n$: free energy of the motor on the site $n$\n",
    "\n",
    "- $Z$: partition function"
   ]
  },
  {
   "cell_type": "markdown",
   "id": "a7bf97cb",
   "metadata": {},
   "source": [
    "Then, the ratio becomes\n",
    "\n",
    "$$ \\large \\frac{k_+}{k_-} = \\frac{p_{n+1}}{p_n} = \\frac{e^{-\\beta G_{n+1}} /Z}{e^{-\\beta G_n} /Z} = e^{-\\beta \\Delta G} $$\n",
    "\n",
    "where\n",
    "\n",
    "- $\\Delta G = G_{n+1} - G_n$"
   ]
  },
  {
   "cell_type": "markdown",
   "id": "5789d263",
   "metadata": {},
   "source": [
    "In the presence of force applied in the backward direction, the free energy becomes\n",
    "\n",
    "$$ \\large G_n \\rightarrow G_n + \\underbrace{Fna}_{\\text{external work}} $$"
   ]
  },
  {
   "cell_type": "markdown",
   "id": "61255d56",
   "metadata": {},
   "source": [
    "then the ratio also becomes\n",
    "\n",
    "$$ \\large \\frac{k_+(F)}{k_-(F)} = e^{-\\beta(\\Delta G + Fa)} $$"
   ]
  },
  {
   "cell_type": "markdown",
   "id": "122e3ebe",
   "metadata": {},
   "source": [
    "> Figure 16.25 : The effect of the force is to tilt the energy landscape and thereby change their barrier height and the allied rate. "
   ]
  },
  {
   "cell_type": "markdown",
   "id": "2e92c8f9",
   "metadata": {},
   "source": [
    "This idea can be tested by an **optical trap**."
   ]
  },
  {
   "cell_type": "markdown",
   "id": "74c6d29d",
   "metadata": {},
   "source": [
    "> Figure 16.26 : The force dependence of motor activity can be at least partially uncoupled from the mechanism of energy utilization."
   ]
  },
  {
   "cell_type": "markdown",
   "id": "97424b46",
   "metadata": {},
   "source": [
    "We need to examine this."
   ]
  },
  {
   "cell_type": "markdown",
   "id": "50cc07f0",
   "metadata": {},
   "source": [
    "#### Example 1. All the dependence of the force is in $k_+$"
   ]
  },
  {
   "cell_type": "markdown",
   "id": "fa2e49bb",
   "metadata": {},
   "source": [
    "$$ \\large k_+(F) = k_- e^{-\\beta (\\Delta G + Fa)} $$"
   ]
  },
  {
   "cell_type": "markdown",
   "id": "a5f3ef4d",
   "metadata": {},
   "source": [
    "Then the mean velocity $V$ becomes "
   ]
  },
  {
   "cell_type": "markdown",
   "id": "8cddb6f4",
   "metadata": {},
   "source": [
    "$$ \\large \\begin{split} V(F) & = a[k_+(F) - k_-(F)] \\\\\n",
    "\\\\\n",
    "& = a [k_- e^{-\\beta (\\Delta G + Fa)} - k_-] \\\\\n",
    "\\\\\n",
    "& = a k_- (e^{-\\beta (\\Delta G + Fa)} - 1 )\n",
    "\\end{split} $$"
   ]
  },
  {
   "cell_type": "markdown",
   "id": "81d22910",
   "metadata": {},
   "source": [
    "#### Example 2. $k_+$ is independent of the force, but all the force dependence assigns to $k_-$ "
   ]
  },
  {
   "cell_type": "markdown",
   "id": "11263607",
   "metadata": {},
   "source": [
    "$$ \\large k_-(F) = k_+ e^{\\beta (\\Delta G + Fa)} $$"
   ]
  },
  {
   "cell_type": "markdown",
   "id": "7a63d420",
   "metadata": {},
   "source": [
    "It implies in turn that"
   ]
  },
  {
   "cell_type": "markdown",
   "id": "695c4753",
   "metadata": {},
   "source": [
    "$$ \\large V(F) = a k_+ (1 - e^{\\beta (\\Delta G + Fa)} ) $$"
   ]
  },
  {
   "cell_type": "markdown",
   "id": "65c933b7",
   "metadata": {},
   "source": [
    "> Figure 16.27 : Molecular motor velocity as a function of applied force. In the simple one-state model, the effect of force on this motor result in changes in the backward rate $k_-$, not the forward rate $k_+$"
   ]
  },
  {
   "cell_type": "markdown",
   "id": "bc0460f3",
   "metadata": {},
   "source": [
    "In both cases, if the force is large enough, the motor will start moving backward."
   ]
  },
  {
   "cell_type": "markdown",
   "id": "20790c34",
   "metadata": {},
   "source": [
    "One-state model can help us think about the **randomness**."
   ]
  },
  {
   "cell_type": "markdown",
   "id": "8d82046b",
   "metadata": {},
   "source": [
    "- characteristic time: $ \\tau = \\frac{a}{V} $\n",
    "\n",
    "\n",
    "- diffusion excursion: $ \\Delta x^2 = 2D \\tau = 2Da/V$"
   ]
  },
  {
   "cell_type": "markdown",
   "id": "cb41ce8a",
   "metadata": {},
   "source": [
    "#### Randomness"
   ]
  },
  {
   "cell_type": "markdown",
   "id": "fd77d980",
   "metadata": {},
   "source": [
    "$$ \\large \\text{(randomness)} = r = \\frac{\\Delta x^2}{a^2} = \\frac{2D}{Va} = \\frac{k_+(F) + k_-(F)}{k_+(F) - k_-(F)} $$"
   ]
  },
  {
   "cell_type": "markdown",
   "id": "d7075f79",
   "metadata": {},
   "source": [
    "If $k_+ = k_0[\\text{ATP}]$, the randomness will approach 1 as ATP concentration becomes large."
   ]
  },
  {
   "cell_type": "markdown",
   "id": "88ecae2e",
   "metadata": {},
   "source": [
    "> Figure 16.28 : Randomness parameter measured for kinesin under variety of conditions.\n",
    "> - low randomness : motor moves at a fairly constant speed.\n",
    "> - high load & low ATP concentration cause high randomness, which causes high velocity flucuations"
   ]
  },
  {
   "cell_type": "markdown",
   "id": "8d64cb92",
   "metadata": {},
   "source": [
    "## 16.2.3. Motor Stepping from a Force-Energy Perspective"
   ]
  },
  {
   "cell_type": "markdown",
   "id": "0aec52f6",
   "metadata": {},
   "source": [
    "> Figure 16.29 : The free energy of a motor moving along a filament\n",
    "> - Overall tilt of the free-energy surface $\\rightarrow$ motion of the motor with an average speed to the right\n",
    "> - Forward and backward rates are determined by the free-energy barrier between states"
   ]
  },
  {
   "cell_type": "markdown",
   "id": "8bd324cf",
   "metadata": {},
   "source": [
    "The rate $k_+$ can be computed as the inverse average time for the motor to diffuse over the barrier."
   ]
  },
  {
   "cell_type": "markdown",
   "id": "ba106ff3",
   "metadata": {},
   "source": [
    "### Arrhenius relation\n",
    "\n",
    "$$ \\large k = \\Gamma e^{-\\beta \\Delta G_{\\text{barrier}}} $$\n",
    "\n",
    "- $\\Gamma$: frequency of attempts to go over the barrier\n",
    "- $\\Delta G_{\\text{barrier}}$: height of the barrier on the free-energy landscape"
   ]
  },
  {
   "cell_type": "markdown",
   "id": "10a2409d",
   "metadata": {},
   "source": [
    "> Figure 16.30 : Lattice model of motor motility coupled to ATP hydrolysis\n",
    "\n",
    "> **Single hydrolysis event**\n",
    "> - (-1) ATP molecule\n",
    "> - (+1) ADP molecule, (+1) inorganic phosphate "
   ]
  },
  {
   "cell_type": "markdown",
   "id": "f50be69c",
   "metadata": {},
   "source": [
    "### Statistical weight of the state $n$"
   ]
  },
  {
   "cell_type": "markdown",
   "id": "1ba6ffe3",
   "metadata": {},
   "source": [
    "$$ \\large w_n = \\underbrace{\\frac{\\Omega !}{A! D! P! (\\Omega - A - D - P)!}}_{\\text{all the ways of rearranging the molecules in solution among $\\Omega$ boxes}} \\underbrace{e^{- \\beta A \\epsilon_{\\text{bond}} }}_{\\text{all the bonds btw the phosphate and the ADP present in each of the ATP}} $$\n",
    "\n",
    "where\n",
    "\n",
    "- $A$: ATP molecule\n",
    "- $D$: ADP molecule\n",
    "- $P$: inorganic phosphate"
   ]
  },
  {
   "cell_type": "markdown",
   "id": "41dfdc6a",
   "metadata": {},
   "source": [
    "### Upon hydrolysis, the statistical weight of $(n+1)$ state"
   ]
  },
  {
   "cell_type": "markdown",
   "id": "6b523140",
   "metadata": {},
   "source": [
    "$$ \\large w_{(n+1)} = \\frac{\\Omega !}{(A-1)! (D+1)! (P+1)! [\\Omega - (A-1) - (D+1) - (P+1)]!} e^{- \\beta (A-1) \\epsilon_{\\text{bond}}} $$\n",
    "\n"
   ]
  },
  {
   "cell_type": "markdown",
   "id": "da4134e1",
   "metadata": {},
   "source": [
    "where\n",
    "\n",
    "- $\\epsilon_{\\text{bond}}$: bonding energy per molecule"
   ]
  },
  {
   "cell_type": "markdown",
   "id": "23c3ec03",
   "metadata": {},
   "source": [
    "### Free-energy of hydrolysis $\\Delta G_{\\text{hydrolysis}}$"
   ]
  },
  {
   "cell_type": "markdown",
   "id": "9d894e71",
   "metadata": {},
   "source": [
    "Free-energy difference between the states $(n+1)$ and $n$"
   ]
  },
  {
   "cell_type": "markdown",
   "id": "54426c79",
   "metadata": {},
   "source": [
    "$$ \\large \\begin{split}\n",
    "G^{-\\beta \\Delta G_{\\text{hydrolysis}}} & = \\frac{w_{n+1}}{w_n} \\\\\n",
    "& = \\frac{A}{(D+1)(P+1)}(\\Omega - A - D - P) e^{\\beta \\epsilon_{\\text{bond}}} \\\\\n",
    "& = \\frac{A}{D P} \\Omega e^{\\beta \\epsilon_{\\text{bond}}}\n",
    "\\end{split} $$"
   ]
  },
  {
   "cell_type": "markdown",
   "id": "b4118d1a",
   "metadata": {},
   "source": [
    "- Assumption\n",
    " - $\\Omega \\gg A, D, P $\n",
    " - $A, D, P \\gg 1 $"
   ]
  },
  {
   "cell_type": "markdown",
   "id": "29471bd4",
   "metadata": {},
   "source": [
    "From a lattice model, the free-energy of ATP hydrolysis is\n",
    "\n",
    "$$ \\large \\Delta G_{\\text{hydrolysis}} = \\Delta G_0 + k_B T \\ln \\left( \\frac{[D][P]}{[A]} \\nu  \\right) $$\n",
    "\n",
    "where\n",
    "\n",
    "- $\\Delta G$: standard-state free-energy ($= -\\epsilon_{\\text{bond}}$)\n",
    " - energy released upon breaking a single chemical bond in an ATP molecule\n",
    " - standard-state: when $[A] = [D] = [P] = 1/\\nu$, all boxes are occupied by three molecular species\n",
    "- $\\nu$: volume of the single box"
   ]
  },
  {
   "cell_type": "markdown",
   "id": "fbe24317",
   "metadata": {},
   "source": [
    "There is no entropy change. Thus, (free energy of hydrolysis = bond breaking energy)"
   ]
  },
  {
   "cell_type": "markdown",
   "id": "f8079db5",
   "metadata": {},
   "source": [
    "> Figure 16.31: Possible scenarios for how the rates of motors depend on the ATP concentration.\n",
    "> - (A) The backward rate is the ATP-dependent step, wihle the forward rate is not affected by the concentration of ATP.\n",
    "> - (B) The forward step is the only one that is ATP-dependent."
   ]
  },
  {
   "cell_type": "markdown",
   "id": "c3f1a171",
   "metadata": {},
   "source": [
    "### When only the forward rate is ATP dependent,"
   ]
  },
  {
   "cell_type": "markdown",
   "id": "9706c95c",
   "metadata": {},
   "source": [
    "$$ \\large k_+ = \\Gamma_+ e^{-\\beta (\\Delta G^-_{\\text{barrier}} + \\Delta G_{\\text{hydrolysis}})} $$\n",
    "\n",
    "$$ \\large k_- = \\Gamma_- e^{-\\beta \\Delta G^-_{\\text{barrier}}} $$"
   ]
  },
  {
   "cell_type": "markdown",
   "id": "ce0cbbc4",
   "metadata": {},
   "source": [
    "Then the motor speed is\n",
    "\n",
    "$$ \\large \\begin{split}\n",
    "V & = a (k_+ - k_-) \\\\\n",
    "& = a (k^0_+[A] \\nu - k_-) \\end{split} $$\n",
    "\n",
    "where\n",
    "\n",
    "- $k^0_+ = \\Gamma_+ e^{-\\beta (\\Delta G^-_{\\text{barrier}} + \\Delta G_0)}/[D][P]\\nu^2$: independent of ATP"
   ]
  },
  {
   "cell_type": "markdown",
   "id": "16e89e17",
   "metadata": {},
   "source": [
    "- speed of the motor increases linearly with ATP concentration\n",
    " - In the experiments, the motor speed saturates in the large ATP concentration."
   ]
  },
  {
   "cell_type": "markdown",
   "id": "4316b403",
   "metadata": {},
   "source": [
    "### When the backward rate has all the ATP dependence"
   ]
  },
  {
   "cell_type": "markdown",
   "id": "13225269",
   "metadata": {},
   "source": [
    "$$ \\large k_+ = \\Gamma_+ e^{-\\beta \\Delta G^+_{\\text{barrier}}} $$\n",
    "\n",
    "$$ \\large k_- = \\Gamma_- e^{-\\beta (\\Delta G^+_{\\text{barrier}} - \\Delta G_{\\text{hydrolysis}})} $$"
   ]
  },
  {
   "cell_type": "markdown",
   "id": "8bf00cd2",
   "metadata": {},
   "source": [
    "The motor speed is\n",
    "\n",
    "$$ \\large V = a \\left( k_+ - \\frac{k^0_-}{[A]\\nu} \\right) $$\n",
    "\n",
    "where \n",
    "\n",
    "- $k^0_- = \\Gamma_- e^{-\\beta (\\Delta G^+_{\\text{barrier}} - \\Delta G_0)}/[D][P]\\nu^2$: independent of ATP"
   ]
  },
  {
   "cell_type": "markdown",
   "id": "68bf8066",
   "metadata": {},
   "source": [
    "- It predicts saturation of the motor speed at large ATP concentrations.\n",
    " - But it is not so accurate at lower ATP concentrations."
   ]
  },
  {
   "cell_type": "markdown",
   "id": "bf2f6720",
   "metadata": {},
   "source": [
    "## 16.2.4 The Two-State Model"
   ]
  },
  {
   "cell_type": "markdown",
   "id": "545023e7",
   "metadata": {},
   "source": []
  }
 ],
 "metadata": {
  "kernelspec": {
   "display_name": "Python 3 (ipykernel)",
   "language": "python",
   "name": "python3"
  },
  "language_info": {
   "codemirror_mode": {
    "name": "ipython",
    "version": 3
   },
   "file_extension": ".py",
   "mimetype": "text/x-python",
   "name": "python",
   "nbconvert_exporter": "python",
   "pygments_lexer": "ipython3",
   "version": "3.8.2"
  }
 },
 "nbformat": 4,
 "nbformat_minor": 5
}
