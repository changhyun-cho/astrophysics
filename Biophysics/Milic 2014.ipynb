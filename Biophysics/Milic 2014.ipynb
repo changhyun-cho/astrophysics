{
 "cells": [
  {
   "cell_type": "markdown",
   "id": "c9530a89",
   "metadata": {},
   "source": [
    "# Title: Kinesin Processivity is Gated by Phostate Release"
   ]
  },
  {
   "cell_type": "markdown",
   "id": "d06d8cfb",
   "metadata": {},
   "source": [
    "## Author(s): Milic et al. (2014)"
   ]
  },
  {
   "cell_type": "markdown",
   "id": "4022b914",
   "metadata": {},
   "source": [
    "## Abstract"
   ]
  },
  {
   "cell_type": "markdown",
   "id": "a8dff585",
   "metadata": {},
   "source": [
    "- Kinesin dissociation occurs subsequent to, or concomitant with, phostate ($\\text{P}_i$) release following ATP hydrolysis.\n",
    "\n",
    "- Increasing the steady-state population of the posthydrolysis $\\text{ADP}\\cdot\\text{P}_i$ state (by adding free $\\text{P}_i$) nearly doubled the kinesin run length, whereas reducing either ATP binding rate or hydrolysis rate had no effect.\n",
    "\n",
    "- During processive movement, tethered-head binding occurs subsequent to hydrolysis, rather than immdiate after ATP binding."
   ]
  },
  {
   "cell_type": "markdown",
   "id": "566cd82f",
   "metadata": {},
   "source": [
    "## Introduction"
   ]
  },
  {
   "cell_type": "markdown",
   "id": "aef3ad0d",
   "metadata": {},
   "source": [
    "- The catalytic cycles of the two heads are maintained out of phase by a series of gating mechanisms, thereby enabling the dimer to complete, on average, over 100 steps before dissociating from the MT.\n",
    "\n",
    "- Neck Linker (NL): ~ 14 aa segment\n",
    "- NL doubling\n",
    "\n",
    "- Cycle\n",
    "\n",
    "- These abstractions do not speak direclty to the branching transitions that determine whether kinesin dissociates from the MT (off-pathway) or continues its processive reaction cycle (on-pathway)"
   ]
  },
  {
   "cell_type": "markdown",
   "id": "2d21dce1",
   "metadata": {},
   "source": [
    "## Results"
   ]
  },
  {
   "cell_type": "markdown",
   "id": "f597f498",
   "metadata": {},
   "source": [
    "### Run lengths are asymmetric with respect to the direction of external loads"
   ]
  },
  {
   "cell_type": "markdown",
   "id": "5084f242",
   "metadata": {},
   "source": [
    "That famous disconnected plot.\n",
    "\n",
    "run length (nm) vs force (pN)"
   ]
  },
  {
   "cell_type": "markdown",
   "id": "57348ada",
   "metadata": {},
   "source": [
    "### Run lengths are independent of the rates of ATP binding and hydrolysis"
   ]
  },
  {
   "cell_type": "markdown",
   "id": "ae4c9b10",
   "metadata": {},
   "source": [
    "- We observed no difference in the run length scored under low-ATP conditions relative to that in the presence of saturating ATP levels."
   ]
  },
  {
   "cell_type": "markdown",
   "id": "381b28b0",
   "metadata": {},
   "source": [
    "### Addition of phostate enhances kinesin processivity"
   ]
  },
  {
   "cell_type": "markdown",
   "id": "0bcad9fc",
   "metadata": {},
   "source": [
    "- Run length increased by nearly a factor of 2 in the presense of added $\\text{P}_i$"
   ]
  },
  {
   "cell_type": "markdown",
   "id": "916a2b52",
   "metadata": {},
   "source": [
    "## Discussion"
   ]
  },
  {
   "cell_type": "markdown",
   "id": "18faf234",
   "metadata": {},
   "source": [
    "### Assisting loads facilitate studies of kinesin processivity"
   ]
  },
  {
   "cell_type": "markdown",
   "id": "b9498c2b",
   "metadata": {},
   "source": [
    "- The presence of additional $\\text{P}_i$ in solution stabilizes the bound head by increasing the lifetime of the posthydrolysis $\\text{ADP}\\cdot\\text{P}_i$ state, thereby allowing the tethered head additional time to bind in the forward position before the bound head releases $\\text{P}_i$ and dissociates from the MT."
   ]
  },
  {
   "cell_type": "markdown",
   "id": "c6168a1f",
   "metadata": {},
   "source": [
    "### ATP hydrolysis completes docking of the neck linker"
   ]
  },
  {
   "cell_type": "markdown",
   "id": "492797fa",
   "metadata": {},
   "source": [
    "- The finding that processivity is modulated by $\\text{P}_i$ release indicates that the conformational change responsible for moving the tethered head to a position where it can attach to the next MT binding site must occur subsequent to, or concomitant with, ATP hydrolysis."
   ]
  },
  {
   "cell_type": "markdown",
   "id": "51a59606",
   "metadata": {},
   "source": [
    "### A revised model of the kinesin mechanochemical cycle"
   ]
  },
  {
   "cell_type": "markdown",
   "id": "e9a5d67f",
   "metadata": {},
   "source": [
    "See fig. 3. That's wonderful."
   ]
  },
  {
   "cell_type": "markdown",
   "id": "4fbed7c8",
   "metadata": {},
   "source": [
    "### The revised model is consistent with bulk biochemical data"
   ]
  },
  {
   "cell_type": "markdown",
   "id": "fe71edfd",
   "metadata": {},
   "source": [
    "- Nucleotide binding to the MT-attached head facilitates ADP release from its tethered partner, but leaves the tethered head free, or weakly associated with the MT, until hydrolysis renders it able to bind the MT."
   ]
  },
  {
   "cell_type": "markdown",
   "id": "e3ed7106",
   "metadata": {},
   "source": [
    "### Phostate release gates kinesin processivity"
   ]
  },
  {
   "cell_type": "markdown",
   "id": "73559003",
   "metadata": {},
   "source": [
    "- Kinesin passes through two states with distinct conformations; a 1-HB state before and after ATP hydolysis"
   ]
  }
 ],
 "metadata": {
  "kernelspec": {
   "display_name": "Python 3 (ipykernel)",
   "language": "python",
   "name": "python3"
  },
  "language_info": {
   "codemirror_mode": {
    "name": "ipython",
    "version": 3
   },
   "file_extension": ".py",
   "mimetype": "text/x-python",
   "name": "python",
   "nbconvert_exporter": "python",
   "pygments_lexer": "ipython3",
   "version": "3.8.2"
  }
 },
 "nbformat": 4,
 "nbformat_minor": 5
}
